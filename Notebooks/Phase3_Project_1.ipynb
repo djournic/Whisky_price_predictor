{
 "cells": [
  {
   "cell_type": "markdown",
   "metadata": {},
   "source": [
    "# Phase 3 Project, book 1\n",
    "\n",
    "Welcome to my Phase 3 notebook. This notebook will go through my Phase 3 project, which will involve a classification problem. Using logisitc regression, random forests, ensemble methods etc. So let's get started."
   ]
  },
  {
   "cell_type": "markdown",
   "metadata": {},
   "source": [
    "## The problem:\n",
    "Using the data below, predict whether or not a bottle of whisky will be \"expensive\" (>$100USD) or not. I'll be using a number of modeling functions. Potentially this could be used in an app where the user can provide some of the information we'll be using, such as country and type, and it could give a simple yes or no prediction."
   ]
  },
  {
   "cell_type": "markdown",
   "metadata": {},
   "source": [
    "### Step 1: Importing libraries\n",
    "Right here I'm importing vitrually every library I can think of that might help with this problem."
   ]
  },
  {
   "cell_type": "code",
   "execution_count": 1,
   "metadata": {},
   "outputs": [],
   "source": [
    "import matplotlib.pyplot as plt\n",
    "%matplotlib inline  \n",
    "from sklearn import svm\n",
    "from sklearn.svm import SVC\n",
    "from sklearn.model_selection import train_test_split\n",
    "import statsmodels as sm\n",
    "from sklearn.preprocessing import StandardScaler\n",
    "from sklearn.linear_model import LogisticRegression\n",
    "import pandas as pd\n",
    "import numpy as np\n",
    "from sklearn.metrics import accuracy_score, confusion_matrix, classification_report,precision_score\n",
    "from sklearn.metrics import recall_score, f1_score,roc_auc_score ,plot_roc_curve, plot_confusion_matrix\n",
    "from sklearn.tree import DecisionTreeClassifier, plot_tree\n",
    "from sklearn.ensemble import BaggingClassifier, RandomForestClassifier,AdaBoostClassifier,GradientBoostingClassifier\n",
    "from sklearn.model_selection import GridSearchCV\n",
    "\n",
    "\n",
    "from sklearn.pipeline import Pipeline"
   ]
  },
  {
   "cell_type": "markdown",
   "metadata": {},
   "source": [
    "### Step 2: Read the data"
   ]
  },
  {
   "cell_type": "code",
   "execution_count": 2,
   "metadata": {},
   "outputs": [],
   "source": [
    "df=pd.read_csv('Meta-Critic Whisky Database.csv')"
   ]
  },
  {
   "cell_type": "code",
   "execution_count": 3,
   "metadata": {
    "scrolled": true
   },
   "outputs": [
    {
     "data": {
      "text/html": [
       "<div>\n",
       "<style scoped>\n",
       "    .dataframe tbody tr th:only-of-type {\n",
       "        vertical-align: middle;\n",
       "    }\n",
       "\n",
       "    .dataframe tbody tr th {\n",
       "        vertical-align: top;\n",
       "    }\n",
       "\n",
       "    .dataframe thead th {\n",
       "        text-align: right;\n",
       "    }\n",
       "</style>\n",
       "<table border=\"1\" class=\"dataframe\">\n",
       "  <thead>\n",
       "    <tr style=\"text-align: right;\">\n",
       "      <th></th>\n",
       "      <th>Whisky</th>\n",
       "      <th>Meta Critic</th>\n",
       "      <th>STDEV</th>\n",
       "      <th>#</th>\n",
       "      <th>Cost</th>\n",
       "      <th>Class</th>\n",
       "      <th>Super Cluster</th>\n",
       "      <th>Cluster</th>\n",
       "      <th>Country</th>\n",
       "      <th>Type</th>\n",
       "    </tr>\n",
       "  </thead>\n",
       "  <tbody>\n",
       "    <tr>\n",
       "      <th>0</th>\n",
       "      <td>Macallan 10yo Full Proof 57% 1980 (OB, Giovine...</td>\n",
       "      <td>9.57</td>\n",
       "      <td>0.24</td>\n",
       "      <td>3</td>\n",
       "      <td>$$$$$+</td>\n",
       "      <td>SingleMalt-like</td>\n",
       "      <td>ABC</td>\n",
       "      <td>A</td>\n",
       "      <td>Scotland</td>\n",
       "      <td>Malt</td>\n",
       "    </tr>\n",
       "    <tr>\n",
       "      <th>1</th>\n",
       "      <td>Ledaig 42yo Dusgadh</td>\n",
       "      <td>9.48</td>\n",
       "      <td>0.23</td>\n",
       "      <td>3</td>\n",
       "      <td>$$$$$+</td>\n",
       "      <td>SingleMalt-like</td>\n",
       "      <td>ABC</td>\n",
       "      <td>C</td>\n",
       "      <td>Scotland</td>\n",
       "      <td>Malt</td>\n",
       "    </tr>\n",
       "    <tr>\n",
       "      <th>2</th>\n",
       "      <td>Laphroaig 27yo 57.4% 1980-2007 (OB, 5 Oloroso ...</td>\n",
       "      <td>9.42</td>\n",
       "      <td>0.23</td>\n",
       "      <td>4</td>\n",
       "      <td>$$$$$+</td>\n",
       "      <td>SingleMalt-like</td>\n",
       "      <td>ABC</td>\n",
       "      <td>C</td>\n",
       "      <td>Scotland</td>\n",
       "      <td>Malt</td>\n",
       "    </tr>\n",
       "    <tr>\n",
       "      <th>3</th>\n",
       "      <td>Glenfarclas 40yo</td>\n",
       "      <td>9.29</td>\n",
       "      <td>0.26</td>\n",
       "      <td>17</td>\n",
       "      <td>$$$$$+</td>\n",
       "      <td>SingleMalt-like</td>\n",
       "      <td>ABC</td>\n",
       "      <td>A</td>\n",
       "      <td>Scotland</td>\n",
       "      <td>Malt</td>\n",
       "    </tr>\n",
       "    <tr>\n",
       "      <th>4</th>\n",
       "      <td>Glengoyne 25yo</td>\n",
       "      <td>9.24</td>\n",
       "      <td>0.22</td>\n",
       "      <td>21</td>\n",
       "      <td>$$$$$+</td>\n",
       "      <td>SingleMalt-like</td>\n",
       "      <td>ABC</td>\n",
       "      <td>A</td>\n",
       "      <td>Scotland</td>\n",
       "      <td>Malt</td>\n",
       "    </tr>\n",
       "  </tbody>\n",
       "</table>\n",
       "</div>"
      ],
      "text/plain": [
       "                                              Whisky Meta Critic STDEV   #  \\\n",
       "0  Macallan 10yo Full Proof 57% 1980 (OB, Giovine...        9.57  0.24   3   \n",
       "1                                Ledaig 42yo Dusgadh        9.48  0.23   3   \n",
       "2  Laphroaig 27yo 57.4% 1980-2007 (OB, 5 Oloroso ...        9.42  0.23   4   \n",
       "3                                   Glenfarclas 40yo        9.29  0.26  17   \n",
       "4                                     Glengoyne 25yo        9.24  0.22  21   \n",
       "\n",
       "     Cost            Class Super Cluster Cluster   Country  Type  \n",
       "0  $$$$$+  SingleMalt-like           ABC       A  Scotland  Malt  \n",
       "1  $$$$$+  SingleMalt-like           ABC       C  Scotland  Malt  \n",
       "2  $$$$$+  SingleMalt-like           ABC       C  Scotland  Malt  \n",
       "3  $$$$$+  SingleMalt-like           ABC       A  Scotland  Malt  \n",
       "4  $$$$$+  SingleMalt-like           ABC       A  Scotland  Malt  "
      ]
     },
     "execution_count": 3,
     "metadata": {},
     "output_type": "execute_result"
    }
   ],
   "source": [
    "df.head()"
   ]
  },
  {
   "cell_type": "code",
   "execution_count": 4,
   "metadata": {
    "scrolled": true
   },
   "outputs": [
    {
     "name": "stdout",
     "output_type": "stream",
     "text": [
      "<class 'pandas.core.frame.DataFrame'>\n",
      "RangeIndex: 1767 entries, 0 to 1766\n",
      "Data columns (total 10 columns):\n",
      " #   Column         Non-Null Count  Dtype \n",
      "---  ------         --------------  ----- \n",
      " 0   Whisky         1767 non-null   object\n",
      " 1   Meta Critic    1767 non-null   object\n",
      " 2   STDEV          1767 non-null   object\n",
      " 3   #              1767 non-null   int64 \n",
      " 4   Cost           1766 non-null   object\n",
      " 5   Class          1767 non-null   object\n",
      " 6   Super Cluster  1180 non-null   object\n",
      " 7   Cluster        1457 non-null   object\n",
      " 8   Country        1767 non-null   object\n",
      " 9   Type           1767 non-null   object\n",
      "dtypes: int64(1), object(9)\n",
      "memory usage: 138.2+ KB\n"
     ]
    }
   ],
   "source": [
    "df.info()"
   ]
  },
  {
   "cell_type": "markdown",
   "metadata": {},
   "source": [
    "So there are a few nulls in the data, but not too many. I know I don't want to use 'Super Cluster' in my models, so I can drop that right away."
   ]
  },
  {
   "cell_type": "code",
   "execution_count": 5,
   "metadata": {},
   "outputs": [],
   "source": [
    "df.drop('Super Cluster',axis=1,inplace=True)"
   ]
  },
  {
   "cell_type": "markdown",
   "metadata": {},
   "source": [
    "### Step 3: Assign the target variable"
   ]
  },
  {
   "cell_type": "markdown",
   "metadata": {},
   "source": [
    "I know that Cost is going to be my target variable. So let's look at it real quick."
   ]
  },
  {
   "cell_type": "code",
   "execution_count": 6,
   "metadata": {
    "scrolled": false
   },
   "outputs": [
    {
     "data": {
      "text/plain": [
       "$$$$      601\n",
       "$$$$$     352\n",
       "$$$       334\n",
       "$$        205\n",
       "$$$$$+    185\n",
       "$          89\n",
       "Name: Cost, dtype: int64"
      ]
     },
     "execution_count": 6,
     "metadata": {},
     "output_type": "execute_result"
    }
   ],
   "source": [
    "df['Cost'].value_counts()"
   ]
  },
  {
   "cell_type": "markdown",
   "metadata": {},
   "source": [
    "And we know there's 1 null value."
   ]
  },
  {
   "cell_type": "code",
   "execution_count": 7,
   "metadata": {},
   "outputs": [
    {
     "data": {
      "text/html": [
       "<div>\n",
       "<style scoped>\n",
       "    .dataframe tbody tr th:only-of-type {\n",
       "        vertical-align: middle;\n",
       "    }\n",
       "\n",
       "    .dataframe tbody tr th {\n",
       "        vertical-align: top;\n",
       "    }\n",
       "\n",
       "    .dataframe thead th {\n",
       "        text-align: right;\n",
       "    }\n",
       "</style>\n",
       "<table border=\"1\" class=\"dataframe\">\n",
       "  <thead>\n",
       "    <tr style=\"text-align: right;\">\n",
       "      <th></th>\n",
       "      <th>Whisky</th>\n",
       "      <th>Meta Critic</th>\n",
       "      <th>STDEV</th>\n",
       "      <th>#</th>\n",
       "      <th>Cost</th>\n",
       "      <th>Class</th>\n",
       "      <th>Cluster</th>\n",
       "      <th>Country</th>\n",
       "      <th>Type</th>\n",
       "    </tr>\n",
       "  </thead>\n",
       "  <tbody>\n",
       "    <tr>\n",
       "      <th>587</th>\n",
       "      <td>Teaninich 10yo (F&amp;F)</td>\n",
       "      <td>8.29</td>\n",
       "      <td>0.18</td>\n",
       "      <td>4</td>\n",
       "      <td>NaN</td>\n",
       "      <td>SingleMalt-like</td>\n",
       "      <td>F</td>\n",
       "      <td>Scotland</td>\n",
       "      <td>Malt</td>\n",
       "    </tr>\n",
       "  </tbody>\n",
       "</table>\n",
       "</div>"
      ],
      "text/plain": [
       "                   Whisky Meta Critic STDEV  # Cost            Class Cluster  \\\n",
       "587  Teaninich 10yo (F&F)        8.29  0.18  4  NaN  SingleMalt-like       F   \n",
       "\n",
       "      Country  Type  \n",
       "587  Scotland  Malt  "
      ]
     },
     "execution_count": 7,
     "metadata": {},
     "output_type": "execute_result"
    }
   ],
   "source": [
    "df.loc[df.Cost.isna()]"
   ]
  },
  {
   "cell_type": "markdown",
   "metadata": {},
   "source": [
    "What I'd like to do is get these $'s into numbers, then into 1's and 0's. Let's try to see if we can get a length for these elements. First things first, let's get rid of that single null value."
   ]
  },
  {
   "cell_type": "markdown",
   "metadata": {},
   "source": [
    "### Step 4: Process the data"
   ]
  },
  {
   "cell_type": "code",
   "execution_count": 8,
   "metadata": {
    "scrolled": true
   },
   "outputs": [],
   "source": [
    "df=df.dropna(subset=['Cost'])"
   ]
  },
  {
   "cell_type": "markdown",
   "metadata": {},
   "source": [
    "And from further exploration of the data, I know there's 1 invalid value in 'Meta Critic', so let's look at that and get rid of it."
   ]
  },
  {
   "cell_type": "code",
   "execution_count": 9,
   "metadata": {},
   "outputs": [
    {
     "data": {
      "text/html": [
       "<div>\n",
       "<style scoped>\n",
       "    .dataframe tbody tr th:only-of-type {\n",
       "        vertical-align: middle;\n",
       "    }\n",
       "\n",
       "    .dataframe tbody tr th {\n",
       "        vertical-align: top;\n",
       "    }\n",
       "\n",
       "    .dataframe thead th {\n",
       "        text-align: right;\n",
       "    }\n",
       "</style>\n",
       "<table border=\"1\" class=\"dataframe\">\n",
       "  <thead>\n",
       "    <tr style=\"text-align: right;\">\n",
       "      <th></th>\n",
       "      <th>Whisky</th>\n",
       "      <th>Meta Critic</th>\n",
       "      <th>STDEV</th>\n",
       "      <th>#</th>\n",
       "      <th>Cost</th>\n",
       "      <th>Class</th>\n",
       "      <th>Cluster</th>\n",
       "      <th>Country</th>\n",
       "      <th>Type</th>\n",
       "    </tr>\n",
       "  </thead>\n",
       "  <tbody>\n",
       "    <tr>\n",
       "      <th>1179</th>\n",
       "      <td>Bruichladdich Octomore 10 (Fourth Edition)</td>\n",
       "      <td>#REF!</td>\n",
       "      <td>#REF!</td>\n",
       "      <td>3</td>\n",
       "      <td>$$$$$</td>\n",
       "      <td>SingleMalt-like</td>\n",
       "      <td>J</td>\n",
       "      <td>Scotland</td>\n",
       "      <td>Malt</td>\n",
       "    </tr>\n",
       "  </tbody>\n",
       "</table>\n",
       "</div>"
      ],
      "text/plain": [
       "                                          Whisky Meta Critic  STDEV  #   Cost  \\\n",
       "1179  Bruichladdich Octomore 10 (Fourth Edition)       #REF!  #REF!  3  $$$$$   \n",
       "\n",
       "                Class Cluster   Country  Type  \n",
       "1179  SingleMalt-like       J  Scotland  Malt  "
      ]
     },
     "execution_count": 9,
     "metadata": {},
     "output_type": "execute_result"
    }
   ],
   "source": [
    "df.loc[df['Meta Critic'] == '#REF!']"
   ]
  },
  {
   "cell_type": "code",
   "execution_count": 10,
   "metadata": {},
   "outputs": [],
   "source": [
    "i=df[((df['Meta Critic'] == '#REF!') )].index"
   ]
  },
  {
   "cell_type": "code",
   "execution_count": 11,
   "metadata": {},
   "outputs": [],
   "source": [
    "df.drop(i, inplace=True)"
   ]
  },
  {
   "cell_type": "markdown",
   "metadata": {},
   "source": [
    "Getting back to our target variable. I think the easiest way to do this is to do my sorting by length."
   ]
  },
  {
   "cell_type": "code",
   "execution_count": 12,
   "metadata": {},
   "outputs": [
    {
     "data": {
      "text/plain": [
       "6"
      ]
     },
     "execution_count": 12,
     "metadata": {},
     "output_type": "execute_result"
    }
   ],
   "source": [
    "len(df['Cost'][0])"
   ]
  },
  {
   "cell_type": "code",
   "execution_count": 13,
   "metadata": {},
   "outputs": [
    {
     "data": {
      "text/plain": [
       "5"
      ]
     },
     "execution_count": 13,
     "metadata": {},
     "output_type": "execute_result"
    }
   ],
   "source": [
    "len(df['Cost'][55])"
   ]
  },
  {
   "cell_type": "markdown",
   "metadata": {},
   "source": [
    "So what've learned is we can split these up by length. And we know that 4 dollar signs is about $100 USD, that's a nice place to split it."
   ]
  },
  {
   "cell_type": "code",
   "execution_count": 14,
   "metadata": {},
   "outputs": [],
   "source": [
    "Target=df['Cost']\n",
    "df1=df.drop('Cost',axis=1)"
   ]
  },
  {
   "cell_type": "code",
   "execution_count": 15,
   "metadata": {},
   "outputs": [
    {
     "data": {
      "text/html": [
       "<div>\n",
       "<style scoped>\n",
       "    .dataframe tbody tr th:only-of-type {\n",
       "        vertical-align: middle;\n",
       "    }\n",
       "\n",
       "    .dataframe tbody tr th {\n",
       "        vertical-align: top;\n",
       "    }\n",
       "\n",
       "    .dataframe thead th {\n",
       "        text-align: right;\n",
       "    }\n",
       "</style>\n",
       "<table border=\"1\" class=\"dataframe\">\n",
       "  <thead>\n",
       "    <tr style=\"text-align: right;\">\n",
       "      <th></th>\n",
       "      <th>Whisky</th>\n",
       "      <th>Meta Critic</th>\n",
       "      <th>STDEV</th>\n",
       "      <th>#</th>\n",
       "      <th>Class</th>\n",
       "      <th>Cluster</th>\n",
       "      <th>Country</th>\n",
       "      <th>Type</th>\n",
       "    </tr>\n",
       "  </thead>\n",
       "  <tbody>\n",
       "    <tr>\n",
       "      <th>0</th>\n",
       "      <td>Macallan 10yo Full Proof 57% 1980 (OB, Giovine...</td>\n",
       "      <td>9.57</td>\n",
       "      <td>0.24</td>\n",
       "      <td>3</td>\n",
       "      <td>SingleMalt-like</td>\n",
       "      <td>A</td>\n",
       "      <td>Scotland</td>\n",
       "      <td>Malt</td>\n",
       "    </tr>\n",
       "    <tr>\n",
       "      <th>1</th>\n",
       "      <td>Ledaig 42yo Dusgadh</td>\n",
       "      <td>9.48</td>\n",
       "      <td>0.23</td>\n",
       "      <td>3</td>\n",
       "      <td>SingleMalt-like</td>\n",
       "      <td>C</td>\n",
       "      <td>Scotland</td>\n",
       "      <td>Malt</td>\n",
       "    </tr>\n",
       "    <tr>\n",
       "      <th>2</th>\n",
       "      <td>Laphroaig 27yo 57.4% 1980-2007 (OB, 5 Oloroso ...</td>\n",
       "      <td>9.42</td>\n",
       "      <td>0.23</td>\n",
       "      <td>4</td>\n",
       "      <td>SingleMalt-like</td>\n",
       "      <td>C</td>\n",
       "      <td>Scotland</td>\n",
       "      <td>Malt</td>\n",
       "    </tr>\n",
       "    <tr>\n",
       "      <th>3</th>\n",
       "      <td>Glenfarclas 40yo</td>\n",
       "      <td>9.29</td>\n",
       "      <td>0.26</td>\n",
       "      <td>17</td>\n",
       "      <td>SingleMalt-like</td>\n",
       "      <td>A</td>\n",
       "      <td>Scotland</td>\n",
       "      <td>Malt</td>\n",
       "    </tr>\n",
       "    <tr>\n",
       "      <th>4</th>\n",
       "      <td>Glengoyne 25yo</td>\n",
       "      <td>9.24</td>\n",
       "      <td>0.22</td>\n",
       "      <td>21</td>\n",
       "      <td>SingleMalt-like</td>\n",
       "      <td>A</td>\n",
       "      <td>Scotland</td>\n",
       "      <td>Malt</td>\n",
       "    </tr>\n",
       "  </tbody>\n",
       "</table>\n",
       "</div>"
      ],
      "text/plain": [
       "                                              Whisky Meta Critic STDEV   #  \\\n",
       "0  Macallan 10yo Full Proof 57% 1980 (OB, Giovine...        9.57  0.24   3   \n",
       "1                                Ledaig 42yo Dusgadh        9.48  0.23   3   \n",
       "2  Laphroaig 27yo 57.4% 1980-2007 (OB, 5 Oloroso ...        9.42  0.23   4   \n",
       "3                                   Glenfarclas 40yo        9.29  0.26  17   \n",
       "4                                     Glengoyne 25yo        9.24  0.22  21   \n",
       "\n",
       "             Class Cluster   Country  Type  \n",
       "0  SingleMalt-like       A  Scotland  Malt  \n",
       "1  SingleMalt-like       C  Scotland  Malt  \n",
       "2  SingleMalt-like       C  Scotland  Malt  \n",
       "3  SingleMalt-like       A  Scotland  Malt  \n",
       "4  SingleMalt-like       A  Scotland  Malt  "
      ]
     },
     "execution_count": 15,
     "metadata": {},
     "output_type": "execute_result"
    }
   ],
   "source": [
    "df1.head()"
   ]
  },
  {
   "cell_type": "markdown",
   "metadata": {},
   "source": [
    "Ok, so we got our target variable separate from the data. Now we need to do a few things to get the data in working condition. First we need our target dataset to be a 1 or 0 based on our criteria. So anything above 4 dollar signs will be classified as 'expensive', it'll get assigned to 1. Everything else will be 0. So let's make that happen."
   ]
  },
  {
   "cell_type": "code",
   "execution_count": 16,
   "metadata": {},
   "outputs": [
    {
     "data": {
      "text/plain": [
       "pandas.core.series.Series"
      ]
     },
     "execution_count": 16,
     "metadata": {},
     "output_type": "execute_result"
    }
   ],
   "source": [
    "type(Target)"
   ]
  },
  {
   "cell_type": "code",
   "execution_count": 17,
   "metadata": {},
   "outputs": [
    {
     "data": {
      "text/plain": [
       "array(['$$$$$+', '$$$$$', '$$$$', '$$', '$$$', '$'], dtype=object)"
      ]
     },
     "execution_count": 17,
     "metadata": {},
     "output_type": "execute_result"
    }
   ],
   "source": [
    "Target.unique()"
   ]
  },
  {
   "cell_type": "code",
   "execution_count": 18,
   "metadata": {},
   "outputs": [
    {
     "data": {
      "text/plain": [
       "6"
      ]
     },
     "execution_count": 18,
     "metadata": {},
     "output_type": "execute_result"
    }
   ],
   "source": [
    "len(Target[0])"
   ]
  },
  {
   "cell_type": "markdown",
   "metadata": {},
   "source": [
    "Here's where we're going to sort our 'Cost' set:"
   ]
  },
  {
   "cell_type": "code",
   "execution_count": 19,
   "metadata": {},
   "outputs": [],
   "source": [
    "y=[]\n",
    "for i in Target.index:\n",
    "    if len(Target[i]) <=4:\n",
    "        y.append(0)\n",
    "    else:\n",
    "        y.append(1)"
   ]
  },
  {
   "cell_type": "code",
   "execution_count": 20,
   "metadata": {
    "scrolled": true
   },
   "outputs": [],
   "source": [
    "y=pd.Series(y)"
   ]
  },
  {
   "cell_type": "code",
   "execution_count": 21,
   "metadata": {},
   "outputs": [
    {
     "data": {
      "text/plain": [
       "array([1, 0], dtype=int64)"
      ]
     },
     "execution_count": 21,
     "metadata": {},
     "output_type": "execute_result"
    }
   ],
   "source": [
    "y.unique()"
   ]
  },
  {
   "cell_type": "code",
   "execution_count": 22,
   "metadata": {
    "scrolled": false
   },
   "outputs": [
    {
     "data": {
      "text/plain": [
       "0    0.696317\n",
       "1    0.303683\n",
       "dtype: float64"
      ]
     },
     "execution_count": 22,
     "metadata": {},
     "output_type": "execute_result"
    }
   ],
   "source": [
    "y.value_counts(normalize=True)"
   ]
  },
  {
   "cell_type": "code",
   "execution_count": 23,
   "metadata": {},
   "outputs": [
    {
     "data": {
      "text/plain": [
       "0    1229\n",
       "1     536\n",
       "dtype: int64"
      ]
     },
     "execution_count": 23,
     "metadata": {},
     "output_type": "execute_result"
    }
   ],
   "source": [
    "y.value_counts()"
   ]
  },
  {
   "cell_type": "markdown",
   "metadata": {},
   "source": [
    "About a 70/30 split. It's a little skewed, but hopefully not too much."
   ]
  },
  {
   "cell_type": "code",
   "execution_count": 24,
   "metadata": {
    "scrolled": false
   },
   "outputs": [
    {
     "data": {
      "text/plain": [
       "0     1\n",
       "1     1\n",
       "2     1\n",
       "3     1\n",
       "4     1\n",
       "5     1\n",
       "6     1\n",
       "7     1\n",
       "8     1\n",
       "9     1\n",
       "10    0\n",
       "11    0\n",
       "12    1\n",
       "13    1\n",
       "14    1\n",
       "dtype: int64"
      ]
     },
     "execution_count": 24,
     "metadata": {},
     "output_type": "execute_result"
    }
   ],
   "source": [
    "y.head(15)"
   ]
  },
  {
   "cell_type": "code",
   "execution_count": 25,
   "metadata": {},
   "outputs": [
    {
     "data": {
      "text/plain": [
       "1765"
      ]
     },
     "execution_count": 25,
     "metadata": {},
     "output_type": "execute_result"
    }
   ],
   "source": [
    "len(y)"
   ]
  },
  {
   "cell_type": "markdown",
   "metadata": {},
   "source": [
    "Ok, we have us a target dataset. Now I think I should do a little more to the data before we do the train test split"
   ]
  },
  {
   "cell_type": "code",
   "execution_count": 26,
   "metadata": {
    "scrolled": false
   },
   "outputs": [
    {
     "name": "stdout",
     "output_type": "stream",
     "text": [
      "<class 'pandas.core.frame.DataFrame'>\n",
      "Int64Index: 1765 entries, 0 to 1766\n",
      "Data columns (total 8 columns):\n",
      " #   Column       Non-Null Count  Dtype \n",
      "---  ------       --------------  ----- \n",
      " 0   Whisky       1765 non-null   object\n",
      " 1   Meta Critic  1765 non-null   object\n",
      " 2   STDEV        1765 non-null   object\n",
      " 3   #            1765 non-null   int64 \n",
      " 4   Class        1765 non-null   object\n",
      " 5   Cluster      1455 non-null   object\n",
      " 6   Country      1765 non-null   object\n",
      " 7   Type         1765 non-null   object\n",
      "dtypes: int64(1), object(7)\n",
      "memory usage: 204.1+ KB\n"
     ]
    }
   ],
   "source": [
    "df1.info()"
   ]
  },
  {
   "cell_type": "markdown",
   "metadata": {},
   "source": [
    "So most of these names have an age in them. I'm going to try to get that age out and make it into a column, that should be significant in the price of the whisky."
   ]
  },
  {
   "cell_type": "code",
   "execution_count": 27,
   "metadata": {},
   "outputs": [
    {
     "data": {
      "text/plain": [
       "['Macallan',\n",
       " '10yo',\n",
       " 'Full',\n",
       " 'Proof',\n",
       " '57%',\n",
       " '1980',\n",
       " '(OB,',\n",
       " 'Giovinetti',\n",
       " '&',\n",
       " 'Figli)']"
      ]
     },
     "execution_count": 27,
     "metadata": {},
     "output_type": "execute_result"
    }
   ],
   "source": [
    "df['Whisky'][0].split()"
   ]
  },
  {
   "cell_type": "code",
   "execution_count": 28,
   "metadata": {},
   "outputs": [
    {
     "data": {
      "text/plain": [
       "'10yo'"
      ]
     },
     "execution_count": 28,
     "metadata": {},
     "output_type": "execute_result"
    }
   ],
   "source": [
    "df['Whisky'][0].split()[1]"
   ]
  },
  {
   "cell_type": "code",
   "execution_count": 29,
   "metadata": {},
   "outputs": [
    {
     "data": {
      "text/plain": [
       "True"
      ]
     },
     "execution_count": 29,
     "metadata": {},
     "output_type": "execute_result"
    }
   ],
   "source": [
    "df['Whisky'][0].split()[1].endswith('yo')"
   ]
  },
  {
   "cell_type": "code",
   "execution_count": 30,
   "metadata": {
    "scrolled": true
   },
   "outputs": [],
   "source": [
    "test_age=df['Whisky'][0].split()[1][:2]"
   ]
  },
  {
   "cell_type": "code",
   "execution_count": 31,
   "metadata": {},
   "outputs": [
    {
     "data": {
      "text/plain": [
       "'10'"
      ]
     },
     "execution_count": 31,
     "metadata": {},
     "output_type": "execute_result"
    }
   ],
   "source": [
    "test_age"
   ]
  },
  {
   "cell_type": "code",
   "execution_count": 32,
   "metadata": {},
   "outputs": [],
   "source": [
    "Age=[]\n",
    "for a in range(0, len(df['Whisky'][0].split())):\n",
    "    split_name=df['Whisky'][0].split()[a]\n",
    "    if split_name.endswith('yo') == True:\n",
    "        y_string=df['Whisky'][0].split()[a][:2] #I'm assuming none of these bottles is over 100 years old\n",
    "        Age.append(y_string)"
   ]
  },
  {
   "cell_type": "code",
   "execution_count": 33,
   "metadata": {},
   "outputs": [
    {
     "data": {
      "text/plain": [
       "['10']"
      ]
     },
     "execution_count": 33,
     "metadata": {},
     "output_type": "execute_result"
    }
   ],
   "source": [
    "Age"
   ]
  },
  {
   "cell_type": "markdown",
   "metadata": {},
   "source": [
    "Ok, so we've successfully separated the age from the name. So let's make another loop, that goes through all the whiskies. I've added another bit to the 'if' statement, since there's a whisky that ends with 'yo', so I need to make sure the characters before the 'yo' are numbers."
   ]
  },
  {
   "cell_type": "code",
   "execution_count": 34,
   "metadata": {},
   "outputs": [],
   "source": [
    "#I ended up going another route with making the ages, but this works, so I'd like to keep it in.\n",
    "import re\n",
    "Ages=[]\n",
    "for a in df['Whisky'].index:\n",
    "    whisky_split=df['Whisky'][a].split()\n",
    "    tracker=0\n",
    "    for b in range(0, len(whisky_split)):\n",
    "        sing_word=whisky_split[b]\n",
    "        if sing_word.endswith('yo') == True and any(char.isdigit() for char in sing_word):\n",
    "            tracker=1\n",
    "            y_string= ''.join(c for c in sing_word if c.isdigit()) #re.sub(\"[^0-9]\", \"\", sing_word) is another way to do this\n",
    "            Ages.append(y_string)\n",
    "    if tracker==0:\n",
    "        Ages.append('Unknown')"
   ]
  },
  {
   "cell_type": "code",
   "execution_count": 35,
   "metadata": {},
   "outputs": [],
   "source": [
    "df2=df1.copy()"
   ]
  },
  {
   "cell_type": "code",
   "execution_count": 36,
   "metadata": {},
   "outputs": [],
   "source": [
    "df2['Ages']='Unknown'"
   ]
  },
  {
   "cell_type": "code",
   "execution_count": 37,
   "metadata": {
    "scrolled": true
   },
   "outputs": [
    {
     "data": {
      "text/html": [
       "<div>\n",
       "<style scoped>\n",
       "    .dataframe tbody tr th:only-of-type {\n",
       "        vertical-align: middle;\n",
       "    }\n",
       "\n",
       "    .dataframe tbody tr th {\n",
       "        vertical-align: top;\n",
       "    }\n",
       "\n",
       "    .dataframe thead th {\n",
       "        text-align: right;\n",
       "    }\n",
       "</style>\n",
       "<table border=\"1\" class=\"dataframe\">\n",
       "  <thead>\n",
       "    <tr style=\"text-align: right;\">\n",
       "      <th></th>\n",
       "      <th>Whisky</th>\n",
       "      <th>Meta Critic</th>\n",
       "      <th>STDEV</th>\n",
       "      <th>#</th>\n",
       "      <th>Class</th>\n",
       "      <th>Cluster</th>\n",
       "      <th>Country</th>\n",
       "      <th>Type</th>\n",
       "      <th>Ages</th>\n",
       "    </tr>\n",
       "  </thead>\n",
       "  <tbody>\n",
       "    <tr>\n",
       "      <th>0</th>\n",
       "      <td>Macallan 10yo Full Proof 57% 1980 (OB, Giovine...</td>\n",
       "      <td>9.57</td>\n",
       "      <td>0.24</td>\n",
       "      <td>3</td>\n",
       "      <td>SingleMalt-like</td>\n",
       "      <td>A</td>\n",
       "      <td>Scotland</td>\n",
       "      <td>Malt</td>\n",
       "      <td>Unknown</td>\n",
       "    </tr>\n",
       "    <tr>\n",
       "      <th>1</th>\n",
       "      <td>Ledaig 42yo Dusgadh</td>\n",
       "      <td>9.48</td>\n",
       "      <td>0.23</td>\n",
       "      <td>3</td>\n",
       "      <td>SingleMalt-like</td>\n",
       "      <td>C</td>\n",
       "      <td>Scotland</td>\n",
       "      <td>Malt</td>\n",
       "      <td>Unknown</td>\n",
       "    </tr>\n",
       "    <tr>\n",
       "      <th>2</th>\n",
       "      <td>Laphroaig 27yo 57.4% 1980-2007 (OB, 5 Oloroso ...</td>\n",
       "      <td>9.42</td>\n",
       "      <td>0.23</td>\n",
       "      <td>4</td>\n",
       "      <td>SingleMalt-like</td>\n",
       "      <td>C</td>\n",
       "      <td>Scotland</td>\n",
       "      <td>Malt</td>\n",
       "      <td>Unknown</td>\n",
       "    </tr>\n",
       "    <tr>\n",
       "      <th>3</th>\n",
       "      <td>Glenfarclas 40yo</td>\n",
       "      <td>9.29</td>\n",
       "      <td>0.26</td>\n",
       "      <td>17</td>\n",
       "      <td>SingleMalt-like</td>\n",
       "      <td>A</td>\n",
       "      <td>Scotland</td>\n",
       "      <td>Malt</td>\n",
       "      <td>Unknown</td>\n",
       "    </tr>\n",
       "    <tr>\n",
       "      <th>4</th>\n",
       "      <td>Glengoyne 25yo</td>\n",
       "      <td>9.24</td>\n",
       "      <td>0.22</td>\n",
       "      <td>21</td>\n",
       "      <td>SingleMalt-like</td>\n",
       "      <td>A</td>\n",
       "      <td>Scotland</td>\n",
       "      <td>Malt</td>\n",
       "      <td>Unknown</td>\n",
       "    </tr>\n",
       "  </tbody>\n",
       "</table>\n",
       "</div>"
      ],
      "text/plain": [
       "                                              Whisky Meta Critic STDEV   #  \\\n",
       "0  Macallan 10yo Full Proof 57% 1980 (OB, Giovine...        9.57  0.24   3   \n",
       "1                                Ledaig 42yo Dusgadh        9.48  0.23   3   \n",
       "2  Laphroaig 27yo 57.4% 1980-2007 (OB, 5 Oloroso ...        9.42  0.23   4   \n",
       "3                                   Glenfarclas 40yo        9.29  0.26  17   \n",
       "4                                     Glengoyne 25yo        9.24  0.22  21   \n",
       "\n",
       "             Class Cluster   Country  Type     Ages  \n",
       "0  SingleMalt-like       A  Scotland  Malt  Unknown  \n",
       "1  SingleMalt-like       C  Scotland  Malt  Unknown  \n",
       "2  SingleMalt-like       C  Scotland  Malt  Unknown  \n",
       "3  SingleMalt-like       A  Scotland  Malt  Unknown  \n",
       "4  SingleMalt-like       A  Scotland  Malt  Unknown  "
      ]
     },
     "execution_count": 37,
     "metadata": {},
     "output_type": "execute_result"
    }
   ],
   "source": [
    "df2.head()"
   ]
  },
  {
   "cell_type": "code",
   "execution_count": 38,
   "metadata": {},
   "outputs": [],
   "source": [
    "for i in df2.index:\n",
    "    split_name=df2['Whisky'][i].split()\n",
    "    for item in split_name  :\n",
    "        if item.endswith('yo') and any(char.isdigit() for char in item):\n",
    "            df2.at[i,'Ages']=item[:-2]"
   ]
  },
  {
   "cell_type": "code",
   "execution_count": 39,
   "metadata": {},
   "outputs": [
    {
     "data": {
      "text/html": [
       "<div>\n",
       "<style scoped>\n",
       "    .dataframe tbody tr th:only-of-type {\n",
       "        vertical-align: middle;\n",
       "    }\n",
       "\n",
       "    .dataframe tbody tr th {\n",
       "        vertical-align: top;\n",
       "    }\n",
       "\n",
       "    .dataframe thead th {\n",
       "        text-align: right;\n",
       "    }\n",
       "</style>\n",
       "<table border=\"1\" class=\"dataframe\">\n",
       "  <thead>\n",
       "    <tr style=\"text-align: right;\">\n",
       "      <th></th>\n",
       "      <th>Whisky</th>\n",
       "      <th>Meta Critic</th>\n",
       "      <th>STDEV</th>\n",
       "      <th>#</th>\n",
       "      <th>Class</th>\n",
       "      <th>Cluster</th>\n",
       "      <th>Country</th>\n",
       "      <th>Type</th>\n",
       "      <th>Ages</th>\n",
       "    </tr>\n",
       "  </thead>\n",
       "  <tbody>\n",
       "    <tr>\n",
       "      <th>0</th>\n",
       "      <td>Macallan 10yo Full Proof 57% 1980 (OB, Giovine...</td>\n",
       "      <td>9.57</td>\n",
       "      <td>0.24</td>\n",
       "      <td>3</td>\n",
       "      <td>SingleMalt-like</td>\n",
       "      <td>A</td>\n",
       "      <td>Scotland</td>\n",
       "      <td>Malt</td>\n",
       "      <td>10</td>\n",
       "    </tr>\n",
       "    <tr>\n",
       "      <th>1</th>\n",
       "      <td>Ledaig 42yo Dusgadh</td>\n",
       "      <td>9.48</td>\n",
       "      <td>0.23</td>\n",
       "      <td>3</td>\n",
       "      <td>SingleMalt-like</td>\n",
       "      <td>C</td>\n",
       "      <td>Scotland</td>\n",
       "      <td>Malt</td>\n",
       "      <td>42</td>\n",
       "    </tr>\n",
       "    <tr>\n",
       "      <th>2</th>\n",
       "      <td>Laphroaig 27yo 57.4% 1980-2007 (OB, 5 Oloroso ...</td>\n",
       "      <td>9.42</td>\n",
       "      <td>0.23</td>\n",
       "      <td>4</td>\n",
       "      <td>SingleMalt-like</td>\n",
       "      <td>C</td>\n",
       "      <td>Scotland</td>\n",
       "      <td>Malt</td>\n",
       "      <td>27</td>\n",
       "    </tr>\n",
       "    <tr>\n",
       "      <th>3</th>\n",
       "      <td>Glenfarclas 40yo</td>\n",
       "      <td>9.29</td>\n",
       "      <td>0.26</td>\n",
       "      <td>17</td>\n",
       "      <td>SingleMalt-like</td>\n",
       "      <td>A</td>\n",
       "      <td>Scotland</td>\n",
       "      <td>Malt</td>\n",
       "      <td>40</td>\n",
       "    </tr>\n",
       "    <tr>\n",
       "      <th>4</th>\n",
       "      <td>Glengoyne 25yo</td>\n",
       "      <td>9.24</td>\n",
       "      <td>0.22</td>\n",
       "      <td>21</td>\n",
       "      <td>SingleMalt-like</td>\n",
       "      <td>A</td>\n",
       "      <td>Scotland</td>\n",
       "      <td>Malt</td>\n",
       "      <td>25</td>\n",
       "    </tr>\n",
       "  </tbody>\n",
       "</table>\n",
       "</div>"
      ],
      "text/plain": [
       "                                              Whisky Meta Critic STDEV   #  \\\n",
       "0  Macallan 10yo Full Proof 57% 1980 (OB, Giovine...        9.57  0.24   3   \n",
       "1                                Ledaig 42yo Dusgadh        9.48  0.23   3   \n",
       "2  Laphroaig 27yo 57.4% 1980-2007 (OB, 5 Oloroso ...        9.42  0.23   4   \n",
       "3                                   Glenfarclas 40yo        9.29  0.26  17   \n",
       "4                                     Glengoyne 25yo        9.24  0.22  21   \n",
       "\n",
       "             Class Cluster   Country  Type Ages  \n",
       "0  SingleMalt-like       A  Scotland  Malt   10  \n",
       "1  SingleMalt-like       C  Scotland  Malt   42  \n",
       "2  SingleMalt-like       C  Scotland  Malt   27  \n",
       "3  SingleMalt-like       A  Scotland  Malt   40  \n",
       "4  SingleMalt-like       A  Scotland  Malt   25  "
      ]
     },
     "execution_count": 39,
     "metadata": {},
     "output_type": "execute_result"
    }
   ],
   "source": [
    "df2.head()"
   ]
  },
  {
   "cell_type": "code",
   "execution_count": 40,
   "metadata": {
    "scrolled": true
   },
   "outputs": [
    {
     "data": {
      "text/plain": [
       "0            10\n",
       "1            42\n",
       "2            27\n",
       "3            40\n",
       "4            25\n",
       "         ...   \n",
       "1762    Unknown\n",
       "1763    Unknown\n",
       "1764    Unknown\n",
       "1765    Unknown\n",
       "1766    Unknown\n",
       "Name: Ages, Length: 1765, dtype: object"
      ]
     },
     "execution_count": 40,
     "metadata": {},
     "output_type": "execute_result"
    }
   ],
   "source": [
    "df2['Ages']"
   ]
  },
  {
   "cell_type": "markdown",
   "metadata": {},
   "source": [
    "So we're going to write a few lines of code and find all the years that aren't numbers, or aren't 'Unknown'."
   ]
  },
  {
   "cell_type": "code",
   "execution_count": 41,
   "metadata": {},
   "outputs": [],
   "source": [
    "df3 = df2[~df2[\"Ages\"].str.isdigit()]"
   ]
  },
  {
   "cell_type": "code",
   "execution_count": 42,
   "metadata": {},
   "outputs": [
    {
     "data": {
      "text/html": [
       "<div>\n",
       "<style scoped>\n",
       "    .dataframe tbody tr th:only-of-type {\n",
       "        vertical-align: middle;\n",
       "    }\n",
       "\n",
       "    .dataframe tbody tr th {\n",
       "        vertical-align: top;\n",
       "    }\n",
       "\n",
       "    .dataframe thead th {\n",
       "        text-align: right;\n",
       "    }\n",
       "</style>\n",
       "<table border=\"1\" class=\"dataframe\">\n",
       "  <thead>\n",
       "    <tr style=\"text-align: right;\">\n",
       "      <th></th>\n",
       "      <th>Whisky</th>\n",
       "      <th>Meta Critic</th>\n",
       "      <th>STDEV</th>\n",
       "      <th>#</th>\n",
       "      <th>Class</th>\n",
       "      <th>Cluster</th>\n",
       "      <th>Country</th>\n",
       "      <th>Type</th>\n",
       "      <th>Ages</th>\n",
       "    </tr>\n",
       "  </thead>\n",
       "  <tbody>\n",
       "    <tr>\n",
       "      <th>5</th>\n",
       "      <td>Amrut Spectrum (Batch 1)</td>\n",
       "      <td>9.21</td>\n",
       "      <td>0.24</td>\n",
       "      <td>14</td>\n",
       "      <td>SingleMalt-like</td>\n",
       "      <td>C</td>\n",
       "      <td>India</td>\n",
       "      <td>Malt</td>\n",
       "      <td>Unknown</td>\n",
       "    </tr>\n",
       "    <tr>\n",
       "      <th>9</th>\n",
       "      <td>Balvenie TUN 1401 (all batches)</td>\n",
       "      <td>9.15</td>\n",
       "      <td>0.31</td>\n",
       "      <td>19</td>\n",
       "      <td>SingleMalt-like</td>\n",
       "      <td>A</td>\n",
       "      <td>Scotland</td>\n",
       "      <td>Malt</td>\n",
       "      <td>Unknown</td>\n",
       "    </tr>\n",
       "    <tr>\n",
       "      <th>10</th>\n",
       "      <td>Aberlour A'Bunadh (Batch 33)</td>\n",
       "      <td>9.14</td>\n",
       "      <td>0.14</td>\n",
       "      <td>5</td>\n",
       "      <td>SingleMalt-like</td>\n",
       "      <td>A</td>\n",
       "      <td>Scotland</td>\n",
       "      <td>Malt</td>\n",
       "      <td>Unknown</td>\n",
       "    </tr>\n",
       "    <tr>\n",
       "      <th>11</th>\n",
       "      <td>Aberlour A'Bunadh (Batch 37)</td>\n",
       "      <td>9.13</td>\n",
       "      <td>0.10</td>\n",
       "      <td>3</td>\n",
       "      <td>SingleMalt-like</td>\n",
       "      <td>A</td>\n",
       "      <td>Scotland</td>\n",
       "      <td>Malt</td>\n",
       "      <td>Unknown</td>\n",
       "    </tr>\n",
       "    <tr>\n",
       "      <th>16</th>\n",
       "      <td>Aberlour A'Bunadh (Batch 40)</td>\n",
       "      <td>9.11</td>\n",
       "      <td>0.15</td>\n",
       "      <td>4</td>\n",
       "      <td>SingleMalt-like</td>\n",
       "      <td>A</td>\n",
       "      <td>Scotland</td>\n",
       "      <td>Malt</td>\n",
       "      <td>Unknown</td>\n",
       "    </tr>\n",
       "    <tr>\n",
       "      <th>...</th>\n",
       "      <td>...</td>\n",
       "      <td>...</td>\n",
       "      <td>...</td>\n",
       "      <td>...</td>\n",
       "      <td>...</td>\n",
       "      <td>...</td>\n",
       "      <td>...</td>\n",
       "      <td>...</td>\n",
       "      <td>...</td>\n",
       "    </tr>\n",
       "    <tr>\n",
       "      <th>1762</th>\n",
       "      <td>Jim Beam White Label</td>\n",
       "      <td>7.64</td>\n",
       "      <td>0.56</td>\n",
       "      <td>22</td>\n",
       "      <td>Bourbon-like</td>\n",
       "      <td>R2</td>\n",
       "      <td>USA</td>\n",
       "      <td>Bourbon</td>\n",
       "      <td>Unknown</td>\n",
       "    </tr>\n",
       "    <tr>\n",
       "      <th>1763</th>\n",
       "      <td>Rebel Yell Kentucky Bourbon</td>\n",
       "      <td>7.56</td>\n",
       "      <td>0.67</td>\n",
       "      <td>14</td>\n",
       "      <td>Bourbon-like</td>\n",
       "      <td>R0</td>\n",
       "      <td>USA</td>\n",
       "      <td>Bourbon</td>\n",
       "      <td>Unknown</td>\n",
       "    </tr>\n",
       "    <tr>\n",
       "      <th>1764</th>\n",
       "      <td>Jim Beam Red Stag (Black Cherry)</td>\n",
       "      <td>7.35</td>\n",
       "      <td>1.01</td>\n",
       "      <td>4</td>\n",
       "      <td>Bourbon-like</td>\n",
       "      <td>NaN</td>\n",
       "      <td>USA</td>\n",
       "      <td>Flavoured</td>\n",
       "      <td>Unknown</td>\n",
       "    </tr>\n",
       "    <tr>\n",
       "      <th>1765</th>\n",
       "      <td>Virginia Black</td>\n",
       "      <td>7.19</td>\n",
       "      <td>1.23</td>\n",
       "      <td>6</td>\n",
       "      <td>Bourbon-like</td>\n",
       "      <td>R2</td>\n",
       "      <td>USA</td>\n",
       "      <td>Bourbon</td>\n",
       "      <td>Unknown</td>\n",
       "    </tr>\n",
       "    <tr>\n",
       "      <th>1766</th>\n",
       "      <td>Early Times Kentucky Whisky</td>\n",
       "      <td>7.10</td>\n",
       "      <td>0.49</td>\n",
       "      <td>7</td>\n",
       "      <td>Bourbon-like</td>\n",
       "      <td>R1</td>\n",
       "      <td>USA</td>\n",
       "      <td>Bourbon</td>\n",
       "      <td>Unknown</td>\n",
       "    </tr>\n",
       "  </tbody>\n",
       "</table>\n",
       "<p>1117 rows × 9 columns</p>\n",
       "</div>"
      ],
      "text/plain": [
       "                                Whisky Meta Critic STDEV   #            Class  \\\n",
       "5             Amrut Spectrum (Batch 1)        9.21  0.24  14  SingleMalt-like   \n",
       "9      Balvenie TUN 1401 (all batches)        9.15  0.31  19  SingleMalt-like   \n",
       "10        Aberlour A'Bunadh (Batch 33)        9.14  0.14   5  SingleMalt-like   \n",
       "11        Aberlour A'Bunadh (Batch 37)        9.13  0.10   3  SingleMalt-like   \n",
       "16        Aberlour A'Bunadh (Batch 40)        9.11  0.15   4  SingleMalt-like   \n",
       "...                                ...         ...   ...  ..              ...   \n",
       "1762              Jim Beam White Label        7.64  0.56  22     Bourbon-like   \n",
       "1763       Rebel Yell Kentucky Bourbon        7.56  0.67  14     Bourbon-like   \n",
       "1764  Jim Beam Red Stag (Black Cherry)        7.35  1.01   4     Bourbon-like   \n",
       "1765                    Virginia Black        7.19  1.23   6     Bourbon-like   \n",
       "1766       Early Times Kentucky Whisky        7.10  0.49   7     Bourbon-like   \n",
       "\n",
       "     Cluster   Country       Type     Ages  \n",
       "5          C     India       Malt  Unknown  \n",
       "9          A  Scotland       Malt  Unknown  \n",
       "10         A  Scotland       Malt  Unknown  \n",
       "11         A  Scotland       Malt  Unknown  \n",
       "16         A  Scotland       Malt  Unknown  \n",
       "...      ...       ...        ...      ...  \n",
       "1762      R2       USA    Bourbon  Unknown  \n",
       "1763      R0       USA    Bourbon  Unknown  \n",
       "1764     NaN       USA  Flavoured  Unknown  \n",
       "1765      R2       USA    Bourbon  Unknown  \n",
       "1766      R1       USA    Bourbon  Unknown  \n",
       "\n",
       "[1117 rows x 9 columns]"
      ]
     },
     "execution_count": 42,
     "metadata": {},
     "output_type": "execute_result"
    }
   ],
   "source": [
    "df3"
   ]
  },
  {
   "cell_type": "code",
   "execution_count": 43,
   "metadata": {},
   "outputs": [],
   "source": [
    "df3a=df3[~df3['Ages'].str.contains(\"Unknown\")]"
   ]
  },
  {
   "cell_type": "code",
   "execution_count": 44,
   "metadata": {},
   "outputs": [
    {
     "data": {
      "text/html": [
       "<div>\n",
       "<style scoped>\n",
       "    .dataframe tbody tr th:only-of-type {\n",
       "        vertical-align: middle;\n",
       "    }\n",
       "\n",
       "    .dataframe tbody tr th {\n",
       "        vertical-align: top;\n",
       "    }\n",
       "\n",
       "    .dataframe thead th {\n",
       "        text-align: right;\n",
       "    }\n",
       "</style>\n",
       "<table border=\"1\" class=\"dataframe\">\n",
       "  <thead>\n",
       "    <tr style=\"text-align: right;\">\n",
       "      <th></th>\n",
       "      <th>Whisky</th>\n",
       "      <th>Meta Critic</th>\n",
       "      <th>STDEV</th>\n",
       "      <th>#</th>\n",
       "      <th>Class</th>\n",
       "      <th>Cluster</th>\n",
       "      <th>Country</th>\n",
       "      <th>Type</th>\n",
       "      <th>Ages</th>\n",
       "    </tr>\n",
       "  </thead>\n",
       "  <tbody>\n",
       "    <tr>\n",
       "      <th>23</th>\n",
       "      <td>Amrut Greedy Angels (8yo and 10yo)</td>\n",
       "      <td>9.07</td>\n",
       "      <td>0.20</td>\n",
       "      <td>13</td>\n",
       "      <td>SingleMalt-like</td>\n",
       "      <td>C</td>\n",
       "      <td>India</td>\n",
       "      <td>Malt</td>\n",
       "      <td>(8</td>\n",
       "    </tr>\n",
       "  </tbody>\n",
       "</table>\n",
       "</div>"
      ],
      "text/plain": [
       "                                Whisky Meta Critic STDEV   #            Class  \\\n",
       "23  Amrut Greedy Angels (8yo and 10yo)        9.07  0.20  13  SingleMalt-like   \n",
       "\n",
       "   Cluster Country  Type Ages  \n",
       "23       C   India  Malt   (8  "
      ]
     },
     "execution_count": 44,
     "metadata": {},
     "output_type": "execute_result"
    }
   ],
   "source": [
    "df3a"
   ]
  },
  {
   "cell_type": "markdown",
   "metadata": {},
   "source": [
    "When there are 2 ages on a bottle, always take the younger number."
   ]
  },
  {
   "cell_type": "code",
   "execution_count": 45,
   "metadata": {},
   "outputs": [],
   "source": [
    "df2.at[23, 'Ages']='8'"
   ]
  },
  {
   "cell_type": "code",
   "execution_count": 46,
   "metadata": {},
   "outputs": [
    {
     "name": "stdout",
     "output_type": "stream",
     "text": [
      "Whisky         Amrut Greedy Angels (8yo and 10yo)\n",
      "Meta Critic                                  9.07\n",
      "STDEV                                        0.20\n",
      "#                                              13\n",
      "Class                             SingleMalt-like\n",
      "Cluster                                         C\n",
      "Country                                     India\n",
      "Type                                         Malt\n",
      "Ages                                            8\n",
      "Name: 23, dtype: object\n"
     ]
    }
   ],
   "source": [
    "print(df2.loc[23])"
   ]
  },
  {
   "cell_type": "code",
   "execution_count": 47,
   "metadata": {
    "scrolled": true
   },
   "outputs": [
    {
     "data": {
      "text/plain": [
       "count        1765\n",
       "unique         37\n",
       "top       Unknown\n",
       "freq         1116\n",
       "Name: Ages, dtype: object"
      ]
     },
     "execution_count": 47,
     "metadata": {},
     "output_type": "execute_result"
    }
   ],
   "source": [
    "df2['Ages'].describe()"
   ]
  },
  {
   "cell_type": "markdown",
   "metadata": {},
   "source": [
    "That looks good so far. Even the right length."
   ]
  },
  {
   "cell_type": "markdown",
   "metadata": {},
   "source": [
    "So the majority of them are either unknowns, or don't follow the convention."
   ]
  },
  {
   "cell_type": "code",
   "execution_count": 48,
   "metadata": {},
   "outputs": [
    {
     "data": {
      "text/html": [
       "<div>\n",
       "<style scoped>\n",
       "    .dataframe tbody tr th:only-of-type {\n",
       "        vertical-align: middle;\n",
       "    }\n",
       "\n",
       "    .dataframe tbody tr th {\n",
       "        vertical-align: top;\n",
       "    }\n",
       "\n",
       "    .dataframe thead th {\n",
       "        text-align: right;\n",
       "    }\n",
       "</style>\n",
       "<table border=\"1\" class=\"dataframe\">\n",
       "  <thead>\n",
       "    <tr style=\"text-align: right;\">\n",
       "      <th></th>\n",
       "      <th>Whisky</th>\n",
       "      <th>Meta Critic</th>\n",
       "      <th>STDEV</th>\n",
       "      <th>#</th>\n",
       "      <th>Class</th>\n",
       "      <th>Cluster</th>\n",
       "      <th>Country</th>\n",
       "      <th>Type</th>\n",
       "      <th>Ages</th>\n",
       "    </tr>\n",
       "  </thead>\n",
       "  <tbody>\n",
       "    <tr>\n",
       "      <th>0</th>\n",
       "      <td>Macallan 10yo Full Proof 57% 1980 (OB, Giovine...</td>\n",
       "      <td>9.57</td>\n",
       "      <td>0.24</td>\n",
       "      <td>3</td>\n",
       "      <td>SingleMalt-like</td>\n",
       "      <td>A</td>\n",
       "      <td>Scotland</td>\n",
       "      <td>Malt</td>\n",
       "      <td>10</td>\n",
       "    </tr>\n",
       "    <tr>\n",
       "      <th>1</th>\n",
       "      <td>Ledaig 42yo Dusgadh</td>\n",
       "      <td>9.48</td>\n",
       "      <td>0.23</td>\n",
       "      <td>3</td>\n",
       "      <td>SingleMalt-like</td>\n",
       "      <td>C</td>\n",
       "      <td>Scotland</td>\n",
       "      <td>Malt</td>\n",
       "      <td>42</td>\n",
       "    </tr>\n",
       "    <tr>\n",
       "      <th>2</th>\n",
       "      <td>Laphroaig 27yo 57.4% 1980-2007 (OB, 5 Oloroso ...</td>\n",
       "      <td>9.42</td>\n",
       "      <td>0.23</td>\n",
       "      <td>4</td>\n",
       "      <td>SingleMalt-like</td>\n",
       "      <td>C</td>\n",
       "      <td>Scotland</td>\n",
       "      <td>Malt</td>\n",
       "      <td>27</td>\n",
       "    </tr>\n",
       "    <tr>\n",
       "      <th>3</th>\n",
       "      <td>Glenfarclas 40yo</td>\n",
       "      <td>9.29</td>\n",
       "      <td>0.26</td>\n",
       "      <td>17</td>\n",
       "      <td>SingleMalt-like</td>\n",
       "      <td>A</td>\n",
       "      <td>Scotland</td>\n",
       "      <td>Malt</td>\n",
       "      <td>40</td>\n",
       "    </tr>\n",
       "    <tr>\n",
       "      <th>4</th>\n",
       "      <td>Glengoyne 25yo</td>\n",
       "      <td>9.24</td>\n",
       "      <td>0.22</td>\n",
       "      <td>21</td>\n",
       "      <td>SingleMalt-like</td>\n",
       "      <td>A</td>\n",
       "      <td>Scotland</td>\n",
       "      <td>Malt</td>\n",
       "      <td>25</td>\n",
       "    </tr>\n",
       "    <tr>\n",
       "      <th>5</th>\n",
       "      <td>Amrut Spectrum (Batch 1)</td>\n",
       "      <td>9.21</td>\n",
       "      <td>0.24</td>\n",
       "      <td>14</td>\n",
       "      <td>SingleMalt-like</td>\n",
       "      <td>C</td>\n",
       "      <td>India</td>\n",
       "      <td>Malt</td>\n",
       "      <td>Unknown</td>\n",
       "    </tr>\n",
       "    <tr>\n",
       "      <th>6</th>\n",
       "      <td>Highland Park 25yo</td>\n",
       "      <td>9.18</td>\n",
       "      <td>0.19</td>\n",
       "      <td>18</td>\n",
       "      <td>SingleMalt-like</td>\n",
       "      <td>C</td>\n",
       "      <td>Scotland</td>\n",
       "      <td>Malt</td>\n",
       "      <td>25</td>\n",
       "    </tr>\n",
       "    <tr>\n",
       "      <th>7</th>\n",
       "      <td>Highland Park 40yo</td>\n",
       "      <td>9.16</td>\n",
       "      <td>0.43</td>\n",
       "      <td>10</td>\n",
       "      <td>SingleMalt-like</td>\n",
       "      <td>C</td>\n",
       "      <td>Scotland</td>\n",
       "      <td>Malt</td>\n",
       "      <td>40</td>\n",
       "    </tr>\n",
       "    <tr>\n",
       "      <th>8</th>\n",
       "      <td>Tamdhu 30yo (MacPhail Collection 2009)</td>\n",
       "      <td>9.16</td>\n",
       "      <td>0.18</td>\n",
       "      <td>3</td>\n",
       "      <td>SingleMalt-like</td>\n",
       "      <td>A</td>\n",
       "      <td>Scotland</td>\n",
       "      <td>Malt</td>\n",
       "      <td>30</td>\n",
       "    </tr>\n",
       "    <tr>\n",
       "      <th>9</th>\n",
       "      <td>Balvenie TUN 1401 (all batches)</td>\n",
       "      <td>9.15</td>\n",
       "      <td>0.31</td>\n",
       "      <td>19</td>\n",
       "      <td>SingleMalt-like</td>\n",
       "      <td>A</td>\n",
       "      <td>Scotland</td>\n",
       "      <td>Malt</td>\n",
       "      <td>Unknown</td>\n",
       "    </tr>\n",
       "    <tr>\n",
       "      <th>10</th>\n",
       "      <td>Aberlour A'Bunadh (Batch 33)</td>\n",
       "      <td>9.14</td>\n",
       "      <td>0.14</td>\n",
       "      <td>5</td>\n",
       "      <td>SingleMalt-like</td>\n",
       "      <td>A</td>\n",
       "      <td>Scotland</td>\n",
       "      <td>Malt</td>\n",
       "      <td>Unknown</td>\n",
       "    </tr>\n",
       "    <tr>\n",
       "      <th>11</th>\n",
       "      <td>Aberlour A'Bunadh (Batch 37)</td>\n",
       "      <td>9.13</td>\n",
       "      <td>0.10</td>\n",
       "      <td>3</td>\n",
       "      <td>SingleMalt-like</td>\n",
       "      <td>A</td>\n",
       "      <td>Scotland</td>\n",
       "      <td>Malt</td>\n",
       "      <td>Unknown</td>\n",
       "    </tr>\n",
       "    <tr>\n",
       "      <th>12</th>\n",
       "      <td>Highland Park 30yo</td>\n",
       "      <td>9.13</td>\n",
       "      <td>0.41</td>\n",
       "      <td>14</td>\n",
       "      <td>SingleMalt-like</td>\n",
       "      <td>C</td>\n",
       "      <td>Scotland</td>\n",
       "      <td>Malt</td>\n",
       "      <td>30</td>\n",
       "    </tr>\n",
       "    <tr>\n",
       "      <th>13</th>\n",
       "      <td>Laphroaig 25yo</td>\n",
       "      <td>9.13</td>\n",
       "      <td>0.28</td>\n",
       "      <td>23</td>\n",
       "      <td>SingleMalt-like</td>\n",
       "      <td>C</td>\n",
       "      <td>Scotland</td>\n",
       "      <td>Malt</td>\n",
       "      <td>25</td>\n",
       "    </tr>\n",
       "    <tr>\n",
       "      <th>14</th>\n",
       "      <td>Nikka Single Cask Coffey Malt 12yo</td>\n",
       "      <td>9.12</td>\n",
       "      <td>0.48</td>\n",
       "      <td>9</td>\n",
       "      <td>SingleMalt-like</td>\n",
       "      <td>C</td>\n",
       "      <td>Japan</td>\n",
       "      <td>Malt</td>\n",
       "      <td>12</td>\n",
       "    </tr>\n",
       "    <tr>\n",
       "      <th>15</th>\n",
       "      <td>Yamazaki 18yo</td>\n",
       "      <td>9.12</td>\n",
       "      <td>0.27</td>\n",
       "      <td>23</td>\n",
       "      <td>SingleMalt-like</td>\n",
       "      <td>C</td>\n",
       "      <td>Japan</td>\n",
       "      <td>Malt</td>\n",
       "      <td>18</td>\n",
       "    </tr>\n",
       "    <tr>\n",
       "      <th>16</th>\n",
       "      <td>Aberlour A'Bunadh (Batch 40)</td>\n",
       "      <td>9.11</td>\n",
       "      <td>0.15</td>\n",
       "      <td>4</td>\n",
       "      <td>SingleMalt-like</td>\n",
       "      <td>A</td>\n",
       "      <td>Scotland</td>\n",
       "      <td>Malt</td>\n",
       "      <td>Unknown</td>\n",
       "    </tr>\n",
       "    <tr>\n",
       "      <th>17</th>\n",
       "      <td>Aberlour A'Bunadh (Batch 49)</td>\n",
       "      <td>9.10</td>\n",
       "      <td>0.20</td>\n",
       "      <td>10</td>\n",
       "      <td>SingleMalt-like</td>\n",
       "      <td>A</td>\n",
       "      <td>Scotland</td>\n",
       "      <td>Malt</td>\n",
       "      <td>Unknown</td>\n",
       "    </tr>\n",
       "    <tr>\n",
       "      <th>18</th>\n",
       "      <td>Aberlour A'Bunadh (Batch 56)</td>\n",
       "      <td>9.09</td>\n",
       "      <td>0.22</td>\n",
       "      <td>5</td>\n",
       "      <td>SingleMalt-like</td>\n",
       "      <td>A</td>\n",
       "      <td>Scotland</td>\n",
       "      <td>Malt</td>\n",
       "      <td>Unknown</td>\n",
       "    </tr>\n",
       "    <tr>\n",
       "      <th>19</th>\n",
       "      <td>Compass Box Last Vatted Malt</td>\n",
       "      <td>9.09</td>\n",
       "      <td>0.16</td>\n",
       "      <td>4</td>\n",
       "      <td>SingleMalt-like</td>\n",
       "      <td>C</td>\n",
       "      <td>Scotland</td>\n",
       "      <td>Malt</td>\n",
       "      <td>Unknown</td>\n",
       "    </tr>\n",
       "    <tr>\n",
       "      <th>20</th>\n",
       "      <td>Redbreast 21yo</td>\n",
       "      <td>9.09</td>\n",
       "      <td>0.29</td>\n",
       "      <td>20</td>\n",
       "      <td>SingleMalt-like</td>\n",
       "      <td>C</td>\n",
       "      <td>Ireland</td>\n",
       "      <td>Malt</td>\n",
       "      <td>21</td>\n",
       "    </tr>\n",
       "    <tr>\n",
       "      <th>21</th>\n",
       "      <td>Yamazaki Sherry Cask (all vintages)</td>\n",
       "      <td>9.09</td>\n",
       "      <td>0.33</td>\n",
       "      <td>11</td>\n",
       "      <td>SingleMalt-like</td>\n",
       "      <td>A</td>\n",
       "      <td>Japan</td>\n",
       "      <td>Malt</td>\n",
       "      <td>Unknown</td>\n",
       "    </tr>\n",
       "    <tr>\n",
       "      <th>22</th>\n",
       "      <td>Bruichladdich 21yo Cuvée 407 PX</td>\n",
       "      <td>9.08</td>\n",
       "      <td>0.17</td>\n",
       "      <td>8</td>\n",
       "      <td>SingleMalt-like</td>\n",
       "      <td>A</td>\n",
       "      <td>Scotland</td>\n",
       "      <td>Malt</td>\n",
       "      <td>21</td>\n",
       "    </tr>\n",
       "    <tr>\n",
       "      <th>23</th>\n",
       "      <td>Amrut Greedy Angels (8yo and 10yo)</td>\n",
       "      <td>9.07</td>\n",
       "      <td>0.20</td>\n",
       "      <td>13</td>\n",
       "      <td>SingleMalt-like</td>\n",
       "      <td>C</td>\n",
       "      <td>India</td>\n",
       "      <td>Malt</td>\n",
       "      <td>8</td>\n",
       "    </tr>\n",
       "    <tr>\n",
       "      <th>24</th>\n",
       "      <td>Amrut Spectrum (all batches)</td>\n",
       "      <td>9.07</td>\n",
       "      <td>0.38</td>\n",
       "      <td>18</td>\n",
       "      <td>SingleMalt-like</td>\n",
       "      <td>C</td>\n",
       "      <td>India</td>\n",
       "      <td>Malt</td>\n",
       "      <td>Unknown</td>\n",
       "    </tr>\n",
       "    <tr>\n",
       "      <th>25</th>\n",
       "      <td>BenRiach 18yo Albariza Pedro Ximenez Peated</td>\n",
       "      <td>9.07</td>\n",
       "      <td>0.19</td>\n",
       "      <td>8</td>\n",
       "      <td>SingleMalt-like</td>\n",
       "      <td>C</td>\n",
       "      <td>Scotland</td>\n",
       "      <td>Malt</td>\n",
       "      <td>18</td>\n",
       "    </tr>\n",
       "    <tr>\n",
       "      <th>26</th>\n",
       "      <td>Highland Park 16yo Odin</td>\n",
       "      <td>9.07</td>\n",
       "      <td>0.28</td>\n",
       "      <td>7</td>\n",
       "      <td>SingleMalt-like</td>\n",
       "      <td>C</td>\n",
       "      <td>Scotland</td>\n",
       "      <td>Malt</td>\n",
       "      <td>16</td>\n",
       "    </tr>\n",
       "    <tr>\n",
       "      <th>27</th>\n",
       "      <td>Bowmore Springtide</td>\n",
       "      <td>9.06</td>\n",
       "      <td>0.67</td>\n",
       "      <td>5</td>\n",
       "      <td>SingleMalt-like</td>\n",
       "      <td>C</td>\n",
       "      <td>Scotland</td>\n",
       "      <td>Malt</td>\n",
       "      <td>Unknown</td>\n",
       "    </tr>\n",
       "    <tr>\n",
       "      <th>28</th>\n",
       "      <td>GlenDronach Cask Strength (batch 1)</td>\n",
       "      <td>9.05</td>\n",
       "      <td>0.27</td>\n",
       "      <td>6</td>\n",
       "      <td>SingleMalt-like</td>\n",
       "      <td>A</td>\n",
       "      <td>Scotland</td>\n",
       "      <td>Malt</td>\n",
       "      <td>Unknown</td>\n",
       "    </tr>\n",
       "    <tr>\n",
       "      <th>29</th>\n",
       "      <td>Kavalan Solist Vinho Barrique</td>\n",
       "      <td>9.05</td>\n",
       "      <td>0.21</td>\n",
       "      <td>20</td>\n",
       "      <td>SingleMalt-like</td>\n",
       "      <td>A</td>\n",
       "      <td>Taiwan</td>\n",
       "      <td>Malt</td>\n",
       "      <td>Unknown</td>\n",
       "    </tr>\n",
       "    <tr>\n",
       "      <th>30</th>\n",
       "      <td>Macallan Cask Strength</td>\n",
       "      <td>9.05</td>\n",
       "      <td>0.38</td>\n",
       "      <td>22</td>\n",
       "      <td>SingleMalt-like</td>\n",
       "      <td>A</td>\n",
       "      <td>Scotland</td>\n",
       "      <td>Malt</td>\n",
       "      <td>Unknown</td>\n",
       "    </tr>\n",
       "    <tr>\n",
       "      <th>31</th>\n",
       "      <td>Aberlour A'Bunadh (Batch 53)</td>\n",
       "      <td>9.04</td>\n",
       "      <td>0.12</td>\n",
       "      <td>6</td>\n",
       "      <td>SingleMalt-like</td>\n",
       "      <td>A</td>\n",
       "      <td>Scotland</td>\n",
       "      <td>Malt</td>\n",
       "      <td>Unknown</td>\n",
       "    </tr>\n",
       "    <tr>\n",
       "      <th>32</th>\n",
       "      <td>GlenDronach Cask Strength (batch 2)</td>\n",
       "      <td>9.04</td>\n",
       "      <td>0.14</td>\n",
       "      <td>10</td>\n",
       "      <td>SingleMalt-like</td>\n",
       "      <td>A</td>\n",
       "      <td>Scotland</td>\n",
       "      <td>Malt</td>\n",
       "      <td>Unknown</td>\n",
       "    </tr>\n",
       "    <tr>\n",
       "      <th>33</th>\n",
       "      <td>Highland Park 18yo</td>\n",
       "      <td>9.04</td>\n",
       "      <td>0.24</td>\n",
       "      <td>32</td>\n",
       "      <td>SingleMalt-like</td>\n",
       "      <td>C</td>\n",
       "      <td>Scotland</td>\n",
       "      <td>Malt</td>\n",
       "      <td>18</td>\n",
       "    </tr>\n",
       "    <tr>\n",
       "      <th>34</th>\n",
       "      <td>Kavalan Solist PX Cask</td>\n",
       "      <td>9.04</td>\n",
       "      <td>0.51</td>\n",
       "      <td>8</td>\n",
       "      <td>SingleMalt-like</td>\n",
       "      <td>A</td>\n",
       "      <td>Taiwan</td>\n",
       "      <td>Malt</td>\n",
       "      <td>Unknown</td>\n",
       "    </tr>\n",
       "    <tr>\n",
       "      <th>35</th>\n",
       "      <td>Sheep Dip Old Hebridean 1990 Blended Malt</td>\n",
       "      <td>9.04</td>\n",
       "      <td>0.22</td>\n",
       "      <td>7</td>\n",
       "      <td>SingleMalt-like</td>\n",
       "      <td>C</td>\n",
       "      <td>Scotland</td>\n",
       "      <td>Malt</td>\n",
       "      <td>Unknown</td>\n",
       "    </tr>\n",
       "    <tr>\n",
       "      <th>36</th>\n",
       "      <td>Aberlour A'Bunadh (Batch 39)</td>\n",
       "      <td>9.03</td>\n",
       "      <td>0.22</td>\n",
       "      <td>8</td>\n",
       "      <td>SingleMalt-like</td>\n",
       "      <td>A</td>\n",
       "      <td>Scotland</td>\n",
       "      <td>Malt</td>\n",
       "      <td>Unknown</td>\n",
       "    </tr>\n",
       "    <tr>\n",
       "      <th>37</th>\n",
       "      <td>Highland Park 17yo The Dark</td>\n",
       "      <td>9.03</td>\n",
       "      <td>0.38</td>\n",
       "      <td>13</td>\n",
       "      <td>SingleMalt-like</td>\n",
       "      <td>C</td>\n",
       "      <td>Scotland</td>\n",
       "      <td>Malt</td>\n",
       "      <td>17</td>\n",
       "    </tr>\n",
       "    <tr>\n",
       "      <th>38</th>\n",
       "      <td>Karuizawa 1990 Sherry Butt</td>\n",
       "      <td>9.03</td>\n",
       "      <td>0.30</td>\n",
       "      <td>4</td>\n",
       "      <td>SingleMalt-like</td>\n",
       "      <td>A</td>\n",
       "      <td>Japan</td>\n",
       "      <td>Malt</td>\n",
       "      <td>Unknown</td>\n",
       "    </tr>\n",
       "    <tr>\n",
       "      <th>39</th>\n",
       "      <td>Timorous Beastie 21yo Sherry Edition</td>\n",
       "      <td>9.03</td>\n",
       "      <td>0.2</td>\n",
       "      <td>3</td>\n",
       "      <td>SingleMalt-like</td>\n",
       "      <td>B</td>\n",
       "      <td>Scotland</td>\n",
       "      <td>Malt</td>\n",
       "      <td>21</td>\n",
       "    </tr>\n",
       "  </tbody>\n",
       "</table>\n",
       "</div>"
      ],
      "text/plain": [
       "                                               Whisky Meta Critic STDEV   #  \\\n",
       "0   Macallan 10yo Full Proof 57% 1980 (OB, Giovine...        9.57  0.24   3   \n",
       "1                                 Ledaig 42yo Dusgadh        9.48  0.23   3   \n",
       "2   Laphroaig 27yo 57.4% 1980-2007 (OB, 5 Oloroso ...        9.42  0.23   4   \n",
       "3                                    Glenfarclas 40yo        9.29  0.26  17   \n",
       "4                                      Glengoyne 25yo        9.24  0.22  21   \n",
       "5                            Amrut Spectrum (Batch 1)        9.21  0.24  14   \n",
       "6                                  Highland Park 25yo        9.18  0.19  18   \n",
       "7                                  Highland Park 40yo        9.16  0.43  10   \n",
       "8              Tamdhu 30yo (MacPhail Collection 2009)        9.16  0.18   3   \n",
       "9                     Balvenie TUN 1401 (all batches)        9.15  0.31  19   \n",
       "10                       Aberlour A'Bunadh (Batch 33)        9.14  0.14   5   \n",
       "11                       Aberlour A'Bunadh (Batch 37)        9.13  0.10   3   \n",
       "12                                 Highland Park 30yo        9.13  0.41  14   \n",
       "13                                     Laphroaig 25yo        9.13  0.28  23   \n",
       "14                 Nikka Single Cask Coffey Malt 12yo        9.12  0.48   9   \n",
       "15                                      Yamazaki 18yo        9.12  0.27  23   \n",
       "16                       Aberlour A'Bunadh (Batch 40)        9.11  0.15   4   \n",
       "17                       Aberlour A'Bunadh (Batch 49)        9.10  0.20  10   \n",
       "18                       Aberlour A'Bunadh (Batch 56)        9.09  0.22   5   \n",
       "19                       Compass Box Last Vatted Malt        9.09  0.16   4   \n",
       "20                                     Redbreast 21yo        9.09  0.29  20   \n",
       "21                Yamazaki Sherry Cask (all vintages)        9.09  0.33  11   \n",
       "22                    Bruichladdich 21yo Cuvée 407 PX        9.08  0.17   8   \n",
       "23                 Amrut Greedy Angels (8yo and 10yo)        9.07  0.20  13   \n",
       "24                       Amrut Spectrum (all batches)        9.07  0.38  18   \n",
       "25        BenRiach 18yo Albariza Pedro Ximenez Peated        9.07  0.19   8   \n",
       "26                            Highland Park 16yo Odin        9.07  0.28   7   \n",
       "27                                 Bowmore Springtide        9.06  0.67   5   \n",
       "28                GlenDronach Cask Strength (batch 1)        9.05  0.27   6   \n",
       "29                      Kavalan Solist Vinho Barrique        9.05  0.21  20   \n",
       "30                             Macallan Cask Strength        9.05  0.38  22   \n",
       "31                       Aberlour A'Bunadh (Batch 53)        9.04  0.12   6   \n",
       "32                GlenDronach Cask Strength (batch 2)        9.04  0.14  10   \n",
       "33                                 Highland Park 18yo        9.04  0.24  32   \n",
       "34                             Kavalan Solist PX Cask        9.04  0.51   8   \n",
       "35          Sheep Dip Old Hebridean 1990 Blended Malt        9.04  0.22   7   \n",
       "36                       Aberlour A'Bunadh (Batch 39)        9.03  0.22   8   \n",
       "37                        Highland Park 17yo The Dark        9.03  0.38  13   \n",
       "38                         Karuizawa 1990 Sherry Butt        9.03  0.30   4   \n",
       "39               Timorous Beastie 21yo Sherry Edition        9.03   0.2   3   \n",
       "\n",
       "              Class Cluster   Country  Type     Ages  \n",
       "0   SingleMalt-like       A  Scotland  Malt       10  \n",
       "1   SingleMalt-like       C  Scotland  Malt       42  \n",
       "2   SingleMalt-like       C  Scotland  Malt       27  \n",
       "3   SingleMalt-like       A  Scotland  Malt       40  \n",
       "4   SingleMalt-like       A  Scotland  Malt       25  \n",
       "5   SingleMalt-like       C     India  Malt  Unknown  \n",
       "6   SingleMalt-like       C  Scotland  Malt       25  \n",
       "7   SingleMalt-like       C  Scotland  Malt       40  \n",
       "8   SingleMalt-like       A  Scotland  Malt       30  \n",
       "9   SingleMalt-like       A  Scotland  Malt  Unknown  \n",
       "10  SingleMalt-like       A  Scotland  Malt  Unknown  \n",
       "11  SingleMalt-like       A  Scotland  Malt  Unknown  \n",
       "12  SingleMalt-like       C  Scotland  Malt       30  \n",
       "13  SingleMalt-like       C  Scotland  Malt       25  \n",
       "14  SingleMalt-like       C     Japan  Malt       12  \n",
       "15  SingleMalt-like       C     Japan  Malt       18  \n",
       "16  SingleMalt-like       A  Scotland  Malt  Unknown  \n",
       "17  SingleMalt-like       A  Scotland  Malt  Unknown  \n",
       "18  SingleMalt-like       A  Scotland  Malt  Unknown  \n",
       "19  SingleMalt-like       C  Scotland  Malt  Unknown  \n",
       "20  SingleMalt-like       C   Ireland  Malt       21  \n",
       "21  SingleMalt-like       A     Japan  Malt  Unknown  \n",
       "22  SingleMalt-like       A  Scotland  Malt       21  \n",
       "23  SingleMalt-like       C     India  Malt        8  \n",
       "24  SingleMalt-like       C     India  Malt  Unknown  \n",
       "25  SingleMalt-like       C  Scotland  Malt       18  \n",
       "26  SingleMalt-like       C  Scotland  Malt       16  \n",
       "27  SingleMalt-like       C  Scotland  Malt  Unknown  \n",
       "28  SingleMalt-like       A  Scotland  Malt  Unknown  \n",
       "29  SingleMalt-like       A    Taiwan  Malt  Unknown  \n",
       "30  SingleMalt-like       A  Scotland  Malt  Unknown  \n",
       "31  SingleMalt-like       A  Scotland  Malt  Unknown  \n",
       "32  SingleMalt-like       A  Scotland  Malt  Unknown  \n",
       "33  SingleMalt-like       C  Scotland  Malt       18  \n",
       "34  SingleMalt-like       A    Taiwan  Malt  Unknown  \n",
       "35  SingleMalt-like       C  Scotland  Malt  Unknown  \n",
       "36  SingleMalt-like       A  Scotland  Malt  Unknown  \n",
       "37  SingleMalt-like       C  Scotland  Malt       17  \n",
       "38  SingleMalt-like       A     Japan  Malt  Unknown  \n",
       "39  SingleMalt-like       B  Scotland  Malt       21  "
      ]
     },
     "execution_count": 48,
     "metadata": {},
     "output_type": "execute_result"
    }
   ],
   "source": [
    "df2.head(40)"
   ]
  },
  {
   "cell_type": "code",
   "execution_count": 49,
   "metadata": {},
   "outputs": [],
   "source": [
    "Unk_ages=df2.loc[df2['Ages']=='Unknown']"
   ]
  },
  {
   "cell_type": "code",
   "execution_count": 50,
   "metadata": {
    "scrolled": true
   },
   "outputs": [],
   "source": [
    "uniqs=list(Unk_ages['Whisky'].unique())"
   ]
  },
  {
   "cell_type": "code",
   "execution_count": 51,
   "metadata": {},
   "outputs": [
    {
     "data": {
      "text/plain": [
       "['Amrut Spectrum (Batch 1)',\n",
       " 'Balvenie TUN 1401 (all batches)',\n",
       " \"Aberlour A'Bunadh (Batch 33)\",\n",
       " \"Aberlour A'Bunadh (Batch 37)\",\n",
       " \"Aberlour A'Bunadh (Batch 40)\",\n",
       " \"Aberlour A'Bunadh (Batch 49)\",\n",
       " \"Aberlour A'Bunadh (Batch 56)\",\n",
       " 'Compass Box Last Vatted Malt',\n",
       " 'Yamazaki Sherry Cask (all vintages)',\n",
       " 'Amrut Spectrum (all batches)',\n",
       " 'Bowmore Springtide',\n",
       " 'GlenDronach Cask Strength (batch 1)',\n",
       " 'Kavalan Solist Vinho Barrique',\n",
       " 'Macallan Cask Strength',\n",
       " \"Aberlour A'Bunadh (Batch 53)\",\n",
       " 'GlenDronach Cask Strength (batch 2)',\n",
       " 'Kavalan Solist PX Cask',\n",
       " 'Sheep Dip Old Hebridean 1990 Blended Malt',\n",
       " \"Aberlour A'Bunadh (Batch 39)\",\n",
       " 'Karuizawa 1990 Sherry Butt',\n",
       " 'Amrut Spectrum 004 (Batch 2)',\n",
       " 'Kavalan Solist Manzanilla Cask',\n",
       " \"Aberlour A'Bunadh (Batch 44)\",\n",
       " \"Aberlour A'Bunadh (Batch 52)\",\n",
       " 'Kavalan Solist Amontillado Cask',\n",
       " \"Aberlour A'Bunadh (Batch 35)\",\n",
       " 'Arran Malt 21st Anniversary Edition',\n",
       " 'Laphroaig Cairdeas 2013 Port Wood',\n",
       " \"Aberlour A'Bunadh (Batch 45)\",\n",
       " \"Aberlour A'Bunadh (Batch 36)\",\n",
       " 'Amrut PX Sherry Single Cask 2696 (LCBO)',\n",
       " 'Kilchoman Port Cask Matured',\n",
       " \"Aberlour A'Bunadh (Batch 42)\",\n",
       " 'Amrut Portonova',\n",
       " 'Glenlivet Alpha',\n",
       " 'Glenmorangie Signet',\n",
       " \"Aberlour A'Bunadh (Batch 30)\",\n",
       " 'AnCnoc 1975',\n",
       " 'Hakushu Sherry Cask',\n",
       " 'Kavalan Solist Sherry Cask',\n",
       " \"Aberlour A'Bunadh (Batch 58)\",\n",
       " 'Kavalan Solist Port Cask',\n",
       " \"Aberlour A'Bunadh (Batch 34)\",\n",
       " 'Amrut Madeira Cask Finish (Batch 1)',\n",
       " \"Aberlour A'Bunadh (all batches)\",\n",
       " 'Balvenie TUN 1509 (all batches)',\n",
       " 'GlenDronach Cask Strength (batch 4)',\n",
       " \"Aberlour A'Bunadh (Batch 54)\",\n",
       " 'Amrut Intermediate Sherry',\n",
       " 'Amrut Kadhambam',\n",
       " \"Aberlour A'Bunadh (Batch 46)\",\n",
       " 'Glengoyne Cask Strength (batch 7)',\n",
       " 'Kilchoman PX Sherry Finish',\n",
       " 'Amrut PX Sherry Single Cask 3516 (SAQ)',\n",
       " 'Compass Box This is Not a Luxury Whisky',\n",
       " 'GlenDronach Cask Strength (all batches)',\n",
       " 'GlenDronach Cask Strength (batch 3)',\n",
       " \"Aberlour A'Bunadh (Batch 47)\",\n",
       " 'Glen Garioch 1998 Wine Cask Matured',\n",
       " 'Kilchoman Loch Gorm',\n",
       " 'Smogen Sherry Project 1:2',\n",
       " \"Aberlour A'Bunadh (Batch 66)\",\n",
       " 'Balblair 1990 (all releases)',\n",
       " 'GlenDronach Cask Strength (batch 6)',\n",
       " 'High Coast (Box) PX - Pedro Ximénez Finish',\n",
       " 'Kavalan Solist Fino Sherry Cask',\n",
       " \"Aberlour A'Bunadh (Batch 32)\",\n",
       " \"Aberlour A'Bunadh (Batch 61)\",\n",
       " 'Amrut PX Sherry Single Cask (all casks)',\n",
       " 'Glenmorangie Companta',\n",
       " 'Green Spot Chateau Leoville Barton',\n",
       " \"Aberlour A'Bunadh (Batch 59)\",\n",
       " \"Aberlour A'Bunadh (Batch 60)\",\n",
       " 'Glenlivet Nadurra Cask Strength (NAS)',\n",
       " 'High Coast (Box) Dalvve Sherry Influence',\n",
       " 'Smogen Sherry Project 1:4',\n",
       " 'Kavalan Brandy Oak',\n",
       " 'Bruichladdich Port Charlotte 2009 MC:01',\n",
       " 'Deanston 2008 Bordeaux Red Wine Cask Matured',\n",
       " 'Glenfiddich Snow Phoenix',\n",
       " 'Glengoyne Teapot Dram (all batches)',\n",
       " 'Glenmorangie Bacalta',\n",
       " \"Glenrothes Minister's Reserve\",\n",
       " 'Highland Park Full Volume',\n",
       " \"Aberlour A'Bunadh (Batch 48)\",\n",
       " \"Aberlour A'Bunadh (Batch 65)\",\n",
       " 'Arran Malt Amarone Cask Finish',\n",
       " 'Macallan Reflexion',\n",
       " 'Two Brewers Release 09 Special Finishes',\n",
       " \"Aberlour A'Bunadh (Batch 50)\",\n",
       " 'Smogen Sherry Project 1:3',\n",
       " 'Arran Malt Sassicaia Wine Cask Finish',\n",
       " 'Macallan Classic Cut (all editions)',\n",
       " 'Glenfarclas 105',\n",
       " 'Macallan Ruby',\n",
       " 'Two Brewers Special Finishes (all releases)',\n",
       " 'GlenDronach Cask Strength (batch 5)',\n",
       " 'Glengoyne Cask Strength (batch 1)',\n",
       " 'Highland Park Valknut',\n",
       " 'Scallywag Cask Strength (all batches)',\n",
       " \"Aberlour A'Bunadh (Batch 57)\",\n",
       " 'GlenDronach Cask Strength (batch 7)',\n",
       " \"Glenmorangie Nectar d'Or\",\n",
       " \"Glenrothes Whisky Maker's Cut\",\n",
       " 'Karuizawa Asama Vintages 1999-2000',\n",
       " 'Sheep Dip 1999 Amoroso Blended Malt',\n",
       " 'Smogen Sherry Project 1:1',\n",
       " 'Two Brewers Release 15 Special Finishes',\n",
       " 'Jura Brooklyn',\n",
       " 'Macallan Rare Cask (all batches)',\n",
       " 'Macallan Sienna',\n",
       " 'Teerenpeli Distiller’s Choice KARHI',\n",
       " 'Amrut Bengal Tiger PX Single Cask (Canada)',\n",
       " 'Two Brewers Release 02 Special Finishes',\n",
       " \"Aberlour A'Bunadh (Batch 38)\",\n",
       " \"Aberlour A'Bunadh (Batch 62)\",\n",
       " 'Redbreast Lustau Edition',\n",
       " 'Tomatin Cu Bocan 2005 Limited Edition',\n",
       " 'Arran Malt Madeira Wine Cask',\n",
       " 'Glengoyne Cask Strength (all batches)',\n",
       " 'Glengoyne Cask Strength (batch 2)',\n",
       " 'Glenmorangie The Taghta',\n",
       " 'Oban Distillers Edition (all vintages)',\n",
       " 'Compass Box The Story of the Spaniard',\n",
       " 'Ohishi Sherry Single Cask',\n",
       " 'Redbreast Mano a Lámh',\n",
       " 'Sullivans Cove French Oak',\n",
       " 'Ardbeg Galileo',\n",
       " 'Balblair 1989',\n",
       " 'Bunnahabhain Moine (all bottlings)',\n",
       " 'Tamdhu Batch Strength (all batches)',\n",
       " 'Kilchoman Sherry Single Cask',\n",
       " 'AnCnoc 2000',\n",
       " 'Arran Malt Port Cask Finish',\n",
       " 'Highland Park Valkyrie',\n",
       " 'Swiss Highland Classic Single Malt',\n",
       " 'Highland Park Magnus (2017)',\n",
       " 'Dalmore Port Wood Reserve',\n",
       " 'Glenmorangie Dornoch',\n",
       " 'Glenmorangie Quinta Ruban',\n",
       " 'Kilchoman Madeira Cask Matured',\n",
       " 'Amrut Naarangi',\n",
       " 'Laphroaig PX Triple Matured',\n",
       " 'Santis Alpstein (all editions)',\n",
       " 'Spirit of Hven Sankt Claus',\n",
       " 'Glen Garioch 1999 Sherry Cask Matured',\n",
       " 'Glenfarclas 1968-2000 54.2% (OB, Old Stock Reserve, Ceramic)',\n",
       " 'Glenmorangie A Midwinter Night’s Dram',\n",
       " 'Dalwhinnie Distillers Edition',\n",
       " 'Aberlour Casg Annamh',\n",
       " 'Talisker Port Ruighe',\n",
       " 'Tomatin Oloroso Sherry 1995',\n",
       " 'Glengoyne Cask Strength (batch 4)',\n",
       " 'Glenmorangie Duthac',\n",
       " \"Macallan Whisky Maker's Edition\",\n",
       " 'Redbreast All Sherry Single Cask 1999',\n",
       " 'Teerenpeli Distiller’s Choice AURA',\n",
       " 'Amrut PX Sherry Single Cask 2701',\n",
       " 'Kavalan Sherry Oak',\n",
       " 'Mackmyra Skordetid',\n",
       " 'Arran Malt Sherry Single Cask',\n",
       " 'Glenlivet Nadurra Oloroso',\n",
       " 'Mackmyra Midvinter',\n",
       " 'Penderyn Portwood',\n",
       " 'Westland Winter 2016',\n",
       " 'Glengoyne Cask Strength (batch 3)',\n",
       " 'Highland Park Dark Origins',\n",
       " 'Ledaig 1996',\n",
       " 'Smogen Primör',\n",
       " 'Westland Sherry Wood',\n",
       " 'Glenmorangie Milsean',\n",
       " 'Green Spot Chateau Montelena',\n",
       " 'Dalmore Cigar Malt',\n",
       " 'Glenmorangie The Tayne',\n",
       " 'Glenmorangie Lasanta',\n",
       " 'Bruichladdich Rocks',\n",
       " 'Glen Moray Classic Sherry Cask finish',\n",
       " 'Arran Malt Sherry Cask Finish',\n",
       " 'Wemyss Malts The Spice King',\n",
       " 'Bushmills Black Bush',\n",
       " 'Glen Moray Classic Port Cask finish',\n",
       " 'Teeling Single Malt',\n",
       " 'Arran Malt Pomerol Bordeaux Cask Finish',\n",
       " 'Kavalan Concertmaster Port Cask',\n",
       " 'Timorous Beastie',\n",
       " 'Glen Scotia Double Cask',\n",
       " \"Glenfiddich Malt Master's Edition\",\n",
       " 'Laphroaig Select',\n",
       " 'Tomatin Cu Bocan Sherry Edition',\n",
       " 'Auchentoshan Three Wood',\n",
       " 'Dalmore Cigar Malt Reserve',\n",
       " 'Glenfiddich Reserve Cask',\n",
       " 'Dalmore King Alexander III',\n",
       " 'Jura Seven Wood',\n",
       " 'Ohishi Sherry Cask',\n",
       " 'Writers Tears Red Head Single Malt',\n",
       " 'Game of Thrones House Baratheon Royal Lochnagar 12 ans',\n",
       " 'Bushmills Sherry Cask Reserve',\n",
       " 'Singleton of Dufftown Tailfire',\n",
       " 'Bowmore Black Rock',\n",
       " 'Glenrothes Robur Reserve',\n",
       " 'Macallan Select Oak',\n",
       " 'Wemyss Malts Velvet Fig',\n",
       " 'Glenglassaugh Revival',\n",
       " 'Nantou (Omar) Yushan Sherry Cask',\n",
       " 'Tullibardine 500 Sherry Finish',\n",
       " 'Mackmyra Blomstertid',\n",
       " 'Glenrothes Sherry Cask Reserve',\n",
       " 'Dalmore Gran Reserva',\n",
       " 'Bladnoch Samsara',\n",
       " \"Longmorn Distiller's Choice\",\n",
       " 'Penderyn Madeira',\n",
       " 'Lohin McKinnon Wine Barrel Finished (Black Sage)',\n",
       " 'Tullibardine 1993 Port',\n",
       " 'Penderyn Sherrywood',\n",
       " 'Jura Turas Mara',\n",
       " 'Amrut PX Sherry Single Cask 2702',\n",
       " 'Singleton of Dufftown Spey Cascade',\n",
       " \"Ichiro's Malt The Joker\",\n",
       " 'Bruichladdich Black Art 7.x 1994',\n",
       " 'Bruichladdich Black Art 6.x 1990',\n",
       " 'Bruichladdich Black Art 3.x 1989',\n",
       " 'Midleton Very Rare 2017',\n",
       " 'Midleton Dair Ghaelach',\n",
       " 'Amrut Virgin Oak Single Cask',\n",
       " 'Bruichladdich Black Art 2.x 1989',\n",
       " 'Mackmyra Reserve Single Cask (various casks)',\n",
       " 'Amrut Double Cask',\n",
       " 'Yamazaki Mizunara',\n",
       " 'Bruichladdich The Organic 2010',\n",
       " 'Kanosuke New Born 2018 8mo',\n",
       " 'Glenlivet Nadurra First Fill (White Oak)',\n",
       " 'Yamazaki Limited Edition 2016',\n",
       " 'Tomatin Decades',\n",
       " 'Amrut Herald',\n",
       " 'Bruichladdich Black Art 5.x 1992',\n",
       " 'Amrut Fusion',\n",
       " 'Glenmorangie Ealanta',\n",
       " 'Kavalan ex-Bourbon Oak',\n",
       " 'Macallan Edition No. 2',\n",
       " 'Compass Box Spice Tree Extravaganza',\n",
       " 'Macallan Edition No. 4',\n",
       " 'Arran Malt The Devil’s Punch Bowl (all chapters)',\n",
       " 'Arran Malt Bourbon Single Cask',\n",
       " 'Compass Box Phenomenology',\n",
       " 'Macallan Edition No. 6',\n",
       " 'Glenmorangie Astar',\n",
       " 'Kavalan Solist Ex-Bourbon',\n",
       " 'Mackmyra Moment Glöd',\n",
       " 'Mackmyra Moment Urberg',\n",
       " 'Midleton Very Rare (all vintages)',\n",
       " 'Glen Grant Five Decades',\n",
       " 'High Coast (Box) The 2nd Step Collection 02',\n",
       " 'Paul John Single Cask',\n",
       " 'Amrut Two Continents',\n",
       " 'Game of Thrones House Tyrell Clynelish Reserve',\n",
       " 'Midleton Very Rare 2016',\n",
       " 'Nikka From the Barrel',\n",
       " 'Macallan Edition No. 1',\n",
       " 'Arran Malt Tokaji Aszu Wine Finish',\n",
       " 'Two Brewers Release 14 Innovative',\n",
       " 'Two Brewers Release 21 Classic',\n",
       " 'Westland Single Cask',\n",
       " 'Compass Box Spice Tree',\n",
       " 'Mortlach Special Strength',\n",
       " 'Cragganmore NAS (Special Release 2016)',\n",
       " 'Macallan Edition No. 3',\n",
       " 'Arran Malt Napoleon Cognac Finish',\n",
       " 'Glenfiddich Cask of Dreams',\n",
       " 'Mackmyra Special 04',\n",
       " 'Amrut Bourbon Single Cask',\n",
       " 'Mackmyra Moment Rimfrost',\n",
       " 'Bruichladdich Black Art 4.x 1990',\n",
       " 'Glenfiddich Project XX Experimental Series No. 2',\n",
       " 'High Coast (Box) The Festival 2016',\n",
       " 'Shelter Point French Oak Double Barreled',\n",
       " 'Macallan Edition No. 5',\n",
       " 'Mackmyra Special 03',\n",
       " 'Bruichladdich The Organic 2009',\n",
       " \"Ichiro's Malt Double Distilleries\",\n",
       " 'Nikka Coffey Malt',\n",
       " 'Two Brewers Release 17 Innovative',\n",
       " 'Two Brewers Release 04 Special Finishes',\n",
       " 'Bruichladdich The Organic (Mid Coul, Coulmore, Mains of Tullibardine Farms)',\n",
       " 'Matsui Sakura Cask',\n",
       " \"Aberlour A'Bunadh Alba (all batches)\",\n",
       " \"Aberlour A'Bunadh Alba (Batch 1)\",\n",
       " 'Balcones Texas Single Malt Whisky',\n",
       " \"Teerenpeli Distiller's Choice KASKI\",\n",
       " 'Kilkerran Work in Progress Sherry Wood',\n",
       " 'Sullivans Cove Port Cask Strength',\n",
       " 'Glenrothes Vintage 1995 (all bottlings)',\n",
       " 'Bruichladdich The Organic (all editions)',\n",
       " 'Glen Scotia Victoriana',\n",
       " 'Glenlivet Cipher',\n",
       " 'Mackmyra Special 09',\n",
       " 'Paul John Classic Select Cask',\n",
       " 'Compass Box Oak Cross',\n",
       " 'Sullivans Cove Bourbon Cask Strength',\n",
       " 'Two Brewers Innovative (all releases)',\n",
       " 'Midleton Very Rare 2015',\n",
       " 'Sullivans Cove American Oak',\n",
       " 'Arran Malt Sauternes Finish',\n",
       " 'Nikka Pure Malt Red',\n",
       " 'Westland American Single Malt (American Oak)',\n",
       " \"Auchentoshan Bartender's Malt\",\n",
       " 'Benromach Organic',\n",
       " 'Green Spot',\n",
       " 'High Coast (Box) The Messenger',\n",
       " 'Copperworks American Single Malt',\n",
       " 'Two Brewers Release 08 Innovative',\n",
       " 'Teerenpeli Distiller’s Choice RASI',\n",
       " \"Yamazaki Distiller's Reserve\",\n",
       " 'Mackmyra Moment Jord',\n",
       " 'Mackmyra Special 05',\n",
       " 'Bruichladdich The Organic 2003',\n",
       " 'Mackmyra Moment Källa',\n",
       " 'Paul John Brilliance',\n",
       " 'Mackmyra Moment Solsken',\n",
       " 'Bunnahabhain Stiuireadair',\n",
       " 'Mortlach Rare Old',\n",
       " 'Mackmyra Special 08',\n",
       " 'Glenfiddich IPA Cask Finish Experimental Series No. 1',\n",
       " 'Bunnahabhain Darach Ur',\n",
       " 'Bunnahabhain Eirigh Na Greine',\n",
       " \"Glenlivet Captain's Reserve\",\n",
       " 'Mackmyra Moment Malström (Maelstrom)',\n",
       " 'Nikka All Malt',\n",
       " 'Mackmyra Special 10',\n",
       " 'Okanagan Spirits Laird of Fintry (all editions)',\n",
       " 'Glenrothes Vintage 1998 (2014)',\n",
       " 'Glenrothes Vintage Reserve (NAS)',\n",
       " 'Old Pulteney Navigator',\n",
       " 'Gouden Carolus Single Malt',\n",
       " 'Monkey Shoulder',\n",
       " 'Sullivans Cove Double Cask',\n",
       " 'Teeling Small Batch (Rum Cask Finish)',\n",
       " 'Tullibardine 225 Sauternes Finish',\n",
       " 'Nantou (Omar) Yushan Bourbon Cask',\n",
       " 'Wemyss Malts Smooth Gentleman',\n",
       " 'Bruichladdich Black Art 1989',\n",
       " 'Macallan Amber',\n",
       " \"Glenrothes Elders' Reserve\",\n",
       " 'Stalk & Barrel Single Malt (All Casks)',\n",
       " 'Scallywag',\n",
       " 'Glencadam Origin 1825 (NAS)',\n",
       " 'Lohin McKinnon Choclolate Malt',\n",
       " 'Bruichladdich Sherry Classic',\n",
       " 'Mackmyra Moment Jakt',\n",
       " 'Glenfiddich Select Cask',\n",
       " 'The Irishman Single Malt (NAS)',\n",
       " 'Arran Malt Robert Burns Single Malt',\n",
       " 'Tullibardine 1993 Sauternes',\n",
       " 'Glenrothes Manse Reserve',\n",
       " 'Glenrothes Vintage 2001 (all bottlings)',\n",
       " 'Ohishi Brandy Cask',\n",
       " 'Glen Garioch Virgin Oak',\n",
       " 'Two Brewers Release 05 Innovative',\n",
       " 'Singleton of Dufftown Unité',\n",
       " 'Tullibardine 228 Burgundy Finish',\n",
       " 'Dalmore Valour',\n",
       " \"Glenlivet Founder's Reserve\",\n",
       " 'Santis Edition Sigel',\n",
       " 'Scapa Skiren',\n",
       " 'Game of Thrones House Tully Singleton Glendullan Select',\n",
       " 'Penderyn Legend',\n",
       " 'Singleton of Glen Ord Signature',\n",
       " 'Glenrothes Select Reserve',\n",
       " 'Penderyn Aur Cymru',\n",
       " 'Mars Iwai Tradition',\n",
       " 'Mackmyra Special 01',\n",
       " 'Santis Edition Säntis',\n",
       " \"McClelland's Speyside Single Malt\",\n",
       " 'Kavalan Solist Moscatel Cask',\n",
       " 'Midleton Barry Crockett Legacy',\n",
       " 'Yamazaki Limited Edition 2015',\n",
       " 'Mackmyra Iskristall',\n",
       " 'High Coast (Box) The 2nd Step Collection 03',\n",
       " \"Mackinlay's Shackleton Rare Old Highland Malt Discovery edition\",\n",
       " 'Compass Box Double Single',\n",
       " \"Ichiro's Malt Chichibu On The Way\",\n",
       " 'Mackmyra Vinterdrom',\n",
       " 'Compass Box Double Single (all editions)',\n",
       " 'Kavalan Distillery Reserve Rum Cask',\n",
       " 'High Coast (Box) Quercus IV Mongolica',\n",
       " 'Arran Malt Orkney Bere Barley',\n",
       " \"Mackinlay's Shackleton Rare Old Highland Malt (both limited editions)\",\n",
       " 'Matsui Mizunara Cask',\n",
       " 'Amrut Cask Strength',\n",
       " 'Yamazaki Bourbon Barrel',\n",
       " 'Two Brewers Cask Strength (all releases)',\n",
       " 'Two Brewers Release 10 Cask Strength',\n",
       " 'Glenmorangie Spios Private Edition No 9',\n",
       " 'Glenmorangie Tusail',\n",
       " 'Kilkerran Work in Progress Bourbon Wood',\n",
       " 'Compass Box Enlightenment',\n",
       " 'Two Brewers Release 06 Classic',\n",
       " 'Compass Box Rivals',\n",
       " 'BenRiach Cask Strength',\n",
       " 'Kavalan Podium',\n",
       " 'Mackmyra The First Edition (Den Första Utgåvan)',\n",
       " 'Two Brewers Release 13 Classic',\n",
       " 'Glenmorangie The Tarlogan',\n",
       " 'Two Brewers Classic (all releases)',\n",
       " \"Mackinlay's Shackleton Rare Old Highland Malt Journey edition\",\n",
       " 'Kilkerran Work in Progress',\n",
       " 'Westland Garryana',\n",
       " 'Mackmyra Preludium 03',\n",
       " 'Bruichladdich Classic Laddie Scottish Barley',\n",
       " 'Mars Maltage Cosmo',\n",
       " 'Yamazaki Puncheon',\n",
       " 'Spirit of Hven Urania',\n",
       " 'Two Brewers Release 16 Classic',\n",
       " 'Two Brewers Release 01 Classic',\n",
       " \"Ichiro's Malt Chichibu The Floor Malted\",\n",
       " 'Nikka Miyagikyo NAS',\n",
       " 'Tomatin Cu Bocan Virgin Oak Edition',\n",
       " 'AnCnoc Peter Arkle (all releases)',\n",
       " 'Mackmyra Svensk Ek',\n",
       " 'Old Pulteney Huddart',\n",
       " \"Ichiro's Malt Chichibu The First\",\n",
       " 'Kavalan King Car Conductor',\n",
       " 'Balblair 2000',\n",
       " 'High Coast (Box) Quercus III Petraea',\n",
       " 'Mackmyra Special 07',\n",
       " 'Yamazaki NAS',\n",
       " 'Sheep Dip Blended Malt',\n",
       " 'Benromach Traditional',\n",
       " 'Game of Thrones House Stark Dalwhinnie Winter’s Frost',\n",
       " \"Glen Garioch Founder's Reserve\",\n",
       " 'Bruichladdich Laddie Classic (Edition 01)',\n",
       " 'FEW Single Malt',\n",
       " 'Kavalan Single Malt Whisky',\n",
       " 'Talisker Skye',\n",
       " 'Nikka Taketsuru NAS',\n",
       " 'Mackmyra The Swedish Whisky (Brukswhisky)',\n",
       " 'Wemyss Malts The Hive',\n",
       " \"Hakushu Distiller's Reserve\",\n",
       " 'Hibiki Harmony',\n",
       " 'Auchentoshan Valinch',\n",
       " \"Ichiro's Malt Mizunara Wood Reserve (MWR)\",\n",
       " 'Tomatin Cask Strength',\n",
       " 'Hakushu NAS',\n",
       " \"Glenkinchie Distiller's Edition (all editions)\",\n",
       " 'Glenglassaugh Octaves Classic',\n",
       " 'Amrut Indian Single Malt',\n",
       " 'Mackmyra Special 02',\n",
       " 'Penderyn Myth',\n",
       " 'Wolfburn (NAS)',\n",
       " \"Mackinlay's Shackleton Blended Malt\",\n",
       " 'Arran Malt Lochranza Reserve',\n",
       " 'Glenfiddich 1963 Original Malt',\n",
       " \"Hibiki Harmony Master's Select\",\n",
       " 'High Coast (Box) Quercus I Robur',\n",
       " 'Highland Park Svein',\n",
       " 'Tullibardine Vintage 1993',\n",
       " 'Bladnoch Vintage 1992-2007 (Signatory)',\n",
       " \"St George's Chapter 6 (unpeated)\",\n",
       " 'Bladnoch 1993-2009 (G&M)',\n",
       " 'Glenrothes Alba Reserve',\n",
       " 'Highland Park Harald',\n",
       " 'Shelter Point Classic Single Cask (KWM) Single Malt Whisky',\n",
       " 'Auchentoshan Virgin Oak',\n",
       " 'Tyrconnell Single Malt Irish Whiskey',\n",
       " 'Glenglassaugh Evolution',\n",
       " 'Glenrothes Bourbon Cask Reserve',\n",
       " 'Macallan Gold',\n",
       " 'Nikka Gold & Gold',\n",
       " 'Shelter Point Artisanal Single Malt Whisky',\n",
       " 'Tomatin Legacy',\n",
       " 'Cardhu Amber Rock',\n",
       " 'Deanston Virgin Oak',\n",
       " 'Kilbeggan Irish Reserve Malt Whiskey',\n",
       " 'Knappogue Castle Vintage',\n",
       " 'Mackmyra Midnattssol',\n",
       " 'Tullibardine Aged Oak Edition',\n",
       " 'Tomatin Cu Bocan',\n",
       " 'Game of Thrones House Targaryen Cardhu Gold Reserve',\n",
       " 'Lohin McKinnon Single Malt',\n",
       " 'Auchentoshan Classic',\n",
       " 'White Oak Akashi Single Malt (NAS)',\n",
       " 'Nantou (Omar) Yushan Blended Malt',\n",
       " 'Glen Moray Classic',\n",
       " \"Glen Grant The Major's Reserve\",\n",
       " 'Mackmyra Mack',\n",
       " 'BenRiach Heart of Speyside',\n",
       " 'Macallan Gold Double Cask',\n",
       " 'Auchentoshan American Oak',\n",
       " 'Loch Lomond NAS',\n",
       " 'Tullibardine Sovereign',\n",
       " \"McClelland's Highland Single Malt\",\n",
       " \"McClelland's Lowland Single Malt\",\n",
       " 'Port Ellen (all OB releases)',\n",
       " 'Compass Box Flaming Heart 2018 6th Edition',\n",
       " 'Compass Box Flaming Heart 2008 2nd Edition',\n",
       " 'Compass Box Flaming Heart 2015 5th Edition - 15th Anniversary',\n",
       " 'Highland Park Sigurd',\n",
       " 'Two Brewers Release 07 Peated',\n",
       " 'Bruichladdich Port Charlotte 2010 MRC:01',\n",
       " 'Compass Box Flaming Heart (all editions)',\n",
       " 'Bruichladdich Port Charlotte PC10 Tro Na Linntean',\n",
       " 'Glen Garioch 1994',\n",
       " 'Tomatin Cu Bocan 1989 Limited Edition',\n",
       " 'Kilchoman Bourbon Single Cask',\n",
       " 'Glen Garioch 1991',\n",
       " 'Bruichladdich Port Charlotte 2007 CC:01',\n",
       " 'Bruichladdich Port Charlotte PC11 Eorna Na H-Alba',\n",
       " 'Compass Box Flaming Heart 2010 3rd Edition - 10th Anniversary',\n",
       " 'Talisker 57 North',\n",
       " 'Compass Box Flaming Heart 2012 4th Edition',\n",
       " 'Kavalan Distillery Reserve Peaty Cask',\n",
       " \"Talisker Distiller's Edition (all editions)\",\n",
       " 'Glen Garioch 1995',\n",
       " 'Compass Box The Lost Blend',\n",
       " 'Bowmore Vault Edition Second Release',\n",
       " 'Bruichladdich Port Charlotte PC12 Oileanach Furachail',\n",
       " 'Wemyss Malts The Rockpool',\n",
       " 'Bruichladdich Port Charlotte PC10 (Second Edition)',\n",
       " 'Spirit of Hven Seven Stars No. 5 Alioth',\n",
       " 'Bowmore Mizunara Cask Finish',\n",
       " 'Dun Bheagan Islay 2009',\n",
       " 'Glenlivet Nadurra Peated Cask Finish',\n",
       " 'Hakushu Single Malt Heavily Peated',\n",
       " 'Bruichladdich Infinity Third Edition',\n",
       " 'Westland Peat Week',\n",
       " 'Game of Thrones House Greyjoy Talisker Select Reserve',\n",
       " 'Bruichladdich Port Charlotte An Turas Mor',\n",
       " 'Nikka Pure Malt Black',\n",
       " 'Two Brewers Peated (all releases)',\n",
       " 'Ben Nevis Celebrated Traditional (NAS)',\n",
       " 'GlenDronach Peated Port Wood',\n",
       " 'Bruichladdich Port Charlotte Scottish Barley Heavily Peated',\n",
       " 'Kilchoman Sanaig',\n",
       " 'Paul John Peated Select Cask',\n",
       " 'Spirit of Hven Tycho’s Star',\n",
       " 'Compass Box Lady Luck',\n",
       " 'Glenglassaugh Torfa',\n",
       " 'Nikka Pure Malt White',\n",
       " 'Paul John Bold',\n",
       " 'Kilchoman Sauternes Cask Matured',\n",
       " 'Big Peat (Douglas Laing)',\n",
       " 'Lohin McKinnon Peated',\n",
       " 'Bruichladdich Islay Barley (all vintages)',\n",
       " 'Mackmyra Svensk Rök',\n",
       " 'Talisker Dark Storm',\n",
       " 'Compass Box Eleuthera',\n",
       " 'Talisker Storm',\n",
       " 'GlenDronach Peated',\n",
       " 'Matsui The Peated',\n",
       " 'Arran Malt Machrie Moor Cask Strength',\n",
       " 'Dun Bheagan Islay (all vintage editions)',\n",
       " 'Game of Thrones The Night’s Watch Oban Bay Reserve',\n",
       " 'Mars Kogamatake The Revival 2011',\n",
       " 'Westland Peated',\n",
       " 'Nikka Yoichi NAS',\n",
       " 'Bowmore Vault Edition First Release',\n",
       " 'Kilchoman Coull Point',\n",
       " 'Elements of Islay \"Peat\"',\n",
       " 'Paul John Edited',\n",
       " 'BenRiach Peated Quarter Casks',\n",
       " 'Spirit of Hven Seven Stars No. 2 Merak',\n",
       " 'High Coast (Box) Early Days (batches 01/02)',\n",
       " 'Ardmore Traditional Cask',\n",
       " 'Glenfiddich Vintage Cask',\n",
       " 'High Coast (Box) Dalvve',\n",
       " 'Spirit of Hven Seven Stars No. 3 Phecda',\n",
       " 'Two Brewers Release 03 Peated',\n",
       " 'Glen Garioch 1997',\n",
       " 'Dun Bheagan Islay 1999',\n",
       " 'Teerenpeli Suomi 100 Juhlaviski',\n",
       " 'Oban Little Bay',\n",
       " 'Glenfiddich Fire & Cane Experimental Series No. 4',\n",
       " 'Fettercairn Fior',\n",
       " 'Wemyss Malts Peat Chimney',\n",
       " 'Glen Moray Classic Peated',\n",
       " 'Glenglassaugh Octaves Peated',\n",
       " 'Bowmore No.1',\n",
       " 'Benromach Sassicaia',\n",
       " 'Bowmore Gold Reef',\n",
       " 'Penderyn Peated',\n",
       " 'Springbank CV',\n",
       " 'Jura Superstition',\n",
       " 'Penderyn Celt',\n",
       " 'BenRiach Birnie Moss',\n",
       " 'Spirit of Hven Seven Stars No. 1 Dubhe',\n",
       " 'Bowmore Small Batch',\n",
       " 'Glenrothes Peated Cask Reserve',\n",
       " 'Connemara Peated Single Malt',\n",
       " \"St George's Chapter 9 (peated)\",\n",
       " 'Highland Park Einar',\n",
       " 'Old Ballantruan Peated (Toumintoul)',\n",
       " 'Arran Malt Machrie Moor Peated (all editions)',\n",
       " 'Bowmore Legend',\n",
       " 'Bruichladdich Octomore 10 (Third Edition)',\n",
       " 'Ardbeg Uigeadail',\n",
       " 'Laphroaig Cairdeas 2015',\n",
       " 'Bruichladdich Octomore 7.3',\n",
       " 'Bruichladdich Octomore 6.2',\n",
       " 'Bruichladdich Octomore 8.3',\n",
       " 'Amrut Peated Cask Strength',\n",
       " 'Ardbeg Supernova 2014',\n",
       " 'Bruichladdich Octomore 9.3',\n",
       " 'Ardbeg Corryvreckan',\n",
       " 'Amrut Portpipe Peated Single Cask #4668 (2017)',\n",
       " 'Ardbeg Alligator',\n",
       " 'Bruichladdich Octomore 8.2',\n",
       " \"Lagavulin Distiller's Edition (All Vintages)\",\n",
       " 'Ardbeg Ardbog',\n",
       " 'Ardbeg Supernova 2015',\n",
       " 'Compass Box No Name',\n",
       " 'Kilchoman 2008 Vintage',\n",
       " 'Bruichladdich Octomore 11.3',\n",
       " 'Bruichladdich Octomore 7.1',\n",
       " 'Bruichladdich Octomore 10 (Second Edition)',\n",
       " 'Compass Box No Name (all editions)',\n",
       " 'Compass Box Peat Monster 2014 - 10th Anniversary',\n",
       " 'Laphroaig Cairdeas 2019 Triple Wood Cask Strength',\n",
       " 'Bruichladdich Octomore 8.4',\n",
       " \"Ichiro's Malt Chichibu The Peated\",\n",
       " 'Laphroaig Cairdeas 2014 Amontillado',\n",
       " 'Laphroaig Quarter Cask',\n",
       " 'Smogen Single Cask (all editions)',\n",
       " 'Kilchoman 2009 Vintage',\n",
       " 'Kilchoman Original Cask Strength',\n",
       " 'Amrut Portpipe Peated Single Cask #2712 (2013)',\n",
       " 'AnCnoc Cutter',\n",
       " 'Kilchoman 2007 Vintage',\n",
       " 'Bruichladdich Octomore 10',\n",
       " 'Compass Box Peat Monster 2008 Reserve Edition',\n",
       " 'High Coast (Box) The Festival 2014',\n",
       " 'Ardbeg Dark Cove',\n",
       " 'Bruichladdich Octomore 11.1',\n",
       " 'Amrut 100 Peated',\n",
       " 'Bruichladdich Octomore 7.2',\n",
       " 'AnCnoc Rutter',\n",
       " 'Ardbeg Grooves',\n",
       " 'Compass Box No Name No. 2',\n",
       " 'Bruichladdich Octomore 8.1',\n",
       " 'Ardbeg Supernova 2019',\n",
       " 'Bruichladdich Octomore 10.1',\n",
       " 'Laphroaig Cairdeas 2018 Fino',\n",
       " 'Compass Box Monster 2004',\n",
       " 'Laphroaig Cairdeas 2016 Madeira',\n",
       " 'Ardbeg Auriverdes',\n",
       " 'Bruichladdich Octomore 6.3',\n",
       " 'Laphroaig An Cuan Mor',\n",
       " 'Wemyss Malts Kiln Embers',\n",
       " 'Ardbeg An Oa',\n",
       " 'Longrow CV',\n",
       " 'Bruichladdich Octomore 6.1',\n",
       " 'Bunnahabhain Ceòbanach',\n",
       " 'Compass Box Peat Monster 2015 Cask Strength',\n",
       " 'Ardbeg Kelpie',\n",
       " 'Ardbeg Perpetuum',\n",
       " 'Kilchoman Machir Bay (all vintages)',\n",
       " 'Bruichladdich Port Charlotte Islay Barley Heavily Peated',\n",
       " 'Amrut Portpipe Peated Single Cask #2713 (2013)',\n",
       " 'Amrut Portpipe Peated Single Cask (all casks)',\n",
       " 'Bruichladdich Octomore 9.1',\n",
       " 'Longrow Peated',\n",
       " 'Two Brewers Release 12 Peated',\n",
       " 'Connemara Turf Mor',\n",
       " 'Kilchoman 100% Islay (all editions)',\n",
       " 'Compass Box Peat Monster (all editions)',\n",
       " 'Big Peat Christmas Edition (all editions)',\n",
       " 'Bruichladdich Octomore 7.4',\n",
       " 'Bunnahabhain Toiteach A Dha',\n",
       " 'Compass Box Peat Monster 2005',\n",
       " 'Compass Box Peat Monster 2006',\n",
       " 'Compass Box Peat Monster 2012',\n",
       " 'Kilchoman Spring 2011 Release',\n",
       " 'Laphroaig Cairdeas 2017',\n",
       " 'Compass Box Peat Monster 2015',\n",
       " \"Caol Ila Distiller's Edition (all editions)\",\n",
       " 'Laphroaig Lore',\n",
       " 'Amrut Peated',\n",
       " 'Laphroaig Triple Wood',\n",
       " 'Ardbeg Drum',\n",
       " 'Ileach Peated Islay Cask Strength',\n",
       " 'Jura Prophecy',\n",
       " 'Amrut Portpipe Peated Single Cask #2712 (2016)',\n",
       " 'Bunnahabhain Toiteach',\n",
       " 'AnCnoc Flaughter',\n",
       " 'Benromach Peat Smoke',\n",
       " 'Bruichladdich Port Charlotte The Peat Project',\n",
       " 'Kilchoman Winter 2010 Release',\n",
       " 'Compass Box Peat Monster 2010',\n",
       " 'Finlaggan Old Reserve',\n",
       " 'Ileach Peated Islay',\n",
       " 'Bunnahabhain Cruach Mhona',\n",
       " 'Bruichladdich Octomore 10.4',\n",
       " 'Laphroaig QA Cask',\n",
       " 'Milstone Peated',\n",
       " 'Tomintoul Peaty Tang',\n",
       " 'Santis Edition Dreifaltigkeit',\n",
       " \"McClelland's Islay Single Malt\",\n",
       " 'Santis Edition Dreifaltigkeit / Cask Strength Peated',\n",
       " 'Santis Cask Strength Peated',\n",
       " 'Compass Box The General',\n",
       " 'Compass Box Hedonism Quindecimus',\n",
       " 'Compass Box The Circus',\n",
       " 'Chivas Regal Ultis',\n",
       " 'Compass Box Juveniles',\n",
       " 'The Irishman Cask Strength',\n",
       " 'Writers Tears Pot Still Cask Strength',\n",
       " 'High West Campfire',\n",
       " 'Compass Box Hedonism The Muse',\n",
       " 'Hankey Bannister Heritage',\n",
       " 'Compass Box The Circle',\n",
       " 'Powers Three Swallow',\n",
       " \"Compass Box Great King St Artist's Blend\",\n",
       " 'Johnnie Walker Blue Label',\n",
       " 'Compass Box Great King St Glasgow Blend',\n",
       " \"Jameson Cooper's Croze Irish Whiskey\",\n",
       " 'Jameson Round Irish Whiskey',\n",
       " 'Johnnie Walker Explorer’s Club The Gold Route',\n",
       " \"Ichiro's Malt & Grain World Blended\",\n",
       " 'Powers Signature Release',\n",
       " 'Cutty Sark Prohibition',\n",
       " 'Teeling Single Grain (Wine Cask Finish)',\n",
       " 'Writers Tears Pot Still Irish Whiskey',\n",
       " \"Compass Box Delilah's\",\n",
       " 'Compass Box Hedonism',\n",
       " 'Jameson Gold Reserve',\n",
       " 'Té Bheag',\n",
       " \"Jameson Blender's Dog Irish Whiskey\",\n",
       " 'Johnnie Walker Platinum Label',\n",
       " 'Jameson Select Reserve (Black Barrel)',\n",
       " 'Nikka Coffey Grain',\n",
       " 'Blandnoch Pure Scot',\n",
       " 'Johnnie Walker Explorer’s Club The Spice Road',\n",
       " \"Compass Box Delilah's XXV\",\n",
       " 'Jameson Signature Reserve',\n",
       " 'Johnnie Walker Explorer’s Club The Royal Route',\n",
       " 'Kirin 50% Blend (Fuji Gotemba)',\n",
       " 'The Irishman Founder’s Reserve',\n",
       " \"Buchanan's Master Blended\",\n",
       " 'Johnnie Walker Double Black',\n",
       " 'Compass Box Affinity',\n",
       " 'Bushmills Red Bush',\n",
       " 'Suntory Old Whisky',\n",
       " 'Johnnie Walker Gold Label Reserve',\n",
       " 'Glendalough Double Barrel',\n",
       " 'Jameson Crested Irish Whiskey',\n",
       " 'Jameson Bold Irish Whiskey',\n",
       " \"Jameson Distiller's Safe Irish Whiskey\",\n",
       " 'Lohin McKinnon Barley and Rye Lightly Peated',\n",
       " 'Nikka Blended',\n",
       " 'Compass Box Asyla',\n",
       " 'Nikka Days',\n",
       " 'Black Bottle (pre-2013)',\n",
       " 'Nikka Super Nikka',\n",
       " 'The Irishman Original Clan Irish Whiskey',\n",
       " 'Shelter Point Montfort Lot 141 Reserve',\n",
       " \"Bain's Cape Mountain Whisky\",\n",
       " 'Chivas Regal Mizunara',\n",
       " 'Powers Gold Label',\n",
       " 'Teeling Poitin',\n",
       " 'Famous Jubilee',\n",
       " 'Suntory The Chita Single Grain',\n",
       " \"Buchanan's Red Seal Blended\",\n",
       " 'Cutty Sark Storm',\n",
       " 'Jameson Caskmates Stout Edition',\n",
       " \"Catto's Rare Old\",\n",
       " 'Black Bottle (after 2013 re-launch)',\n",
       " 'Kakubin Yellow Label (Suntory Whisky)',\n",
       " \"Grant's Blended Sherry Cask\",\n",
       " 'Suntory Toki',\n",
       " 'Famous Grouse Smoky Black (Black Grouse)',\n",
       " 'West Cork Original Bourbon Cask',\n",
       " 'Grand Macnish',\n",
       " 'Hankey Bannister Original',\n",
       " \"Teacher's Highland Cream\",\n",
       " 'Highland Queen',\n",
       " 'Jameson Lively Irish Whiskey',\n",
       " 'Johnnie Walker Explorer’s Club The Adventurer',\n",
       " 'Jameson Irish Whiskey',\n",
       " 'Tullamore Dew Original Blended',\n",
       " '2 Gingers Irish Whiskey',\n",
       " 'John Barr Reserve (Black Label)',\n",
       " \"Grant's Family Reserve Blended\",\n",
       " 'Bushmills Original Blended',\n",
       " 'The Quiet Man Traditional Irish Whiskey',\n",
       " 'Whyte & Mackay Special Blended',\n",
       " 'Cutty Sark',\n",
       " \"Ballantine's Finest\",\n",
       " 'Famous Grouse',\n",
       " \"Bell's Original Scotch Whisky\",\n",
       " 'Compass Box Orangerie',\n",
       " 'Mackmyra Vit Hund',\n",
       " 'Johnnie Walker White Walker (Game of Thrones)',\n",
       " 'White Oak Akashi Blended',\n",
       " \"Dewar's White Label\",\n",
       " 'Johnnie Walker Red Label',\n",
       " 'P&M Blended Whisky',\n",
       " 'Passport Blended Scotch',\n",
       " 'Whyte & Mackay Blended Triple Matured',\n",
       " 'J&B Rare',\n",
       " 'Yamazakura Blended Whisky',\n",
       " 'Mister Sam Tribute Whisky',\n",
       " \"Booker's Rye\",\n",
       " 'Lot 40 Cask Strength (Single Cask)',\n",
       " 'Thomas H. Handy Sazerac',\n",
       " 'Smooth Ambler Old Scout Single Barrel Rye',\n",
       " \"J.P. Wiser's Seven Rebels\",\n",
       " 'High West Midwinter Night’s Dram Rye',\n",
       " \"J.P. Wiser's Dissertation\",\n",
       " \"Michter's Barrel Strength Rye\",\n",
       " 'Little Book Chapter 2 Noe Simple Task',\n",
       " \"Wild Turkey Master's Keep Cornerstone Rye\",\n",
       " \"J.P. Wiser's Legacy\",\n",
       " 'High West Rendezvous Rye (pre-2018)',\n",
       " 'Gooderham & Worts Eleven Souls Four Grain (2018)',\n",
       " 'Shelter Point Single Cask Rye',\n",
       " 'High West Rendezvous Rye (all bottlings)',\n",
       " 'Lot 40',\n",
       " 'Lot 40 Dark Oak',\n",
       " \"J.P. Wiser's Union 52\",\n",
       " 'Forty Creek Unity',\n",
       " 'High West Double Rye (new recipe, post-2018)',\n",
       " 'Whistlepig The Boss Hog',\n",
       " 'Little Book Chapter 3 The Road Home',\n",
       " 'Little Book (all Chapters)',\n",
       " 'Forty Creek Port Wood Reserve 2011/2012',\n",
       " 'Pikesville Straight Rye',\n",
       " 'Forty Creek Confederation Oak (Batch A, B)',\n",
       " 'Lot 40 Cask Strength Third Edition (2019)',\n",
       " 'Alberta Premium Cask Strength Rye (all batches)',\n",
       " 'Alberta Premium Cask Strength Rye (Batch 1 2019)',\n",
       " 'Amrut Rye',\n",
       " 'Crown Royal Hand Selected Barrel',\n",
       " 'Forty Creek Confederation Oak (Batch J, K, L)',\n",
       " 'Forty Creek Heart of Gold',\n",
       " 'High West Double Rye Manhattan Barrel',\n",
       " \"J.P. Wiser's Red Letter\",\n",
       " 'Willett Family Estate Rye (all ages)',\n",
       " 'Wayne Gretzky No. 99 Ninety Nine Proof',\n",
       " 'High West Bourye',\n",
       " 'High West Double Rye (all bottlings)',\n",
       " 'High West Double Rye (pre-2018)',\n",
       " 'Barrell Rye (all Batches)',\n",
       " 'Forty Creek Confederation Oak (All Batches)',\n",
       " \"Jack Daniel's Single Barrel Rye\",\n",
       " 'Angel’s Envy Rye (Rum-finished)',\n",
       " 'Forty Creek Double Barrel Reserve',\n",
       " 'FEW Rye Whisky',\n",
       " 'Alberta Rye Dark Batch',\n",
       " 'Colonel E.H. Taylor Straight Rye',\n",
       " 'Forty Creek Confederation Oak (Batch G, H, I)',\n",
       " 'Crown Royal Noble Collection Wine Barrel Finished',\n",
       " 'Little Book Chapter 1 The Easy',\n",
       " \"J.P. Wiser's One Fifty\",\n",
       " 'Crown Royal Monarch 75th Anniversary',\n",
       " \"J.P. Wiser's Canada 2018\",\n",
       " 'Alberta Premium Dark Horse',\n",
       " 'High West Yippee Ki-Yay',\n",
       " 'Rittenhouse Rye 100 Proof',\n",
       " 'Forty Creek Victory',\n",
       " 'Gooderham & Worts Four Grain',\n",
       " \"Michter's Single Barrel Straight Rye\",\n",
       " \"Crown Royal Blender's Select\",\n",
       " 'Wild Turkey 101 Rye',\n",
       " 'Forty Creek Evolution',\n",
       " 'Forty Creek Copper Pot Reserve',\n",
       " 'Sazerac Straight Rye',\n",
       " \"J.P. Wiser's Wheatfield Gold\",\n",
       " 'Crown Royal Northern Harvest Rye',\n",
       " 'Stalk & Barrel Rye',\n",
       " 'Crown Royal XO',\n",
       " 'High West Double Rye Campfire Barrel',\n",
       " \"J.P. Wiser's Small Batch\",\n",
       " 'Crown Royal Noble Collection French Oak Cask Finished',\n",
       " \"J.P. Wiser's Triple Barrel Rye\",\n",
       " 'Barrell Rye Batch 002',\n",
       " 'Forty Creek Heritage 2017',\n",
       " 'Knob Creek Small Batch Straight Rye Whiskey',\n",
       " 'Caribou Crossing Single Barrel',\n",
       " 'Crown Royal Noble Collection Cornerstone Blend',\n",
       " 'Forty Creek Confederation Oak (Batch E, F)',\n",
       " 'Millstone 100 Rye',\n",
       " 'George Dickel Rye',\n",
       " 'Shelter Point Artisanal Cask Strength Whisky',\n",
       " 'Prichard’s Rye',\n",
       " 'High West Son of Bourye',\n",
       " 'Forty Creek Confederation Oak (Batch C, D)',\n",
       " 'Crown Royal Reserve',\n",
       " 'Jim Beam Pre-Prohibition Rye',\n",
       " 'Stalk & Barrel Rye (Cask Strength)',\n",
       " \"Basil Hayden's Rye Whiskey\",\n",
       " 'Bulleit Rye',\n",
       " \"Potter's Special Old\",\n",
       " \"Forty Creek Founder's Reserve\",\n",
       " 'Woodford Reserve Straight Rye',\n",
       " 'Crown Royal Limited Edition',\n",
       " \"J.P. Wiser's Double Still Rye\",\n",
       " 'Willett Family Estate Rye XCF 1.0',\n",
       " 'Old Overholt Bonded',\n",
       " 'Canadian Club 100% Rye',\n",
       " 'Forty Creek Barrel Select',\n",
       " 'Wayne Gretzky No. 99 Ice Cask',\n",
       " 'Yellow Rose Straight Rye',\n",
       " \"Jack Daniel's Rested Tennessee Rye (Batch 1/2)\",\n",
       " 'Crown Royal Black',\n",
       " 'Forty Creek Three Grain Harmony',\n",
       " 'Stalk & Barrel Red Blend',\n",
       " '66 Gilead Crimson Rye',\n",
       " 'Stalk & Barrel 11+1 Canadian whisky',\n",
       " \"Crown Royal Bourbon Mash (Blender's Mash)\",\n",
       " 'Canadian Club Sherry Cask',\n",
       " 'Pendleton 1910',\n",
       " 'Wild Turkey 81 Rye',\n",
       " 'Hiram Walker Special Old Rye',\n",
       " 'Koval Single Barrel Rye',\n",
       " 'Century Reserve Lot 15/25',\n",
       " 'Alberta Premium',\n",
       " \"J.P. Wiser's Hopped\",\n",
       " 'Canada Gold',\n",
       " 'Royal Canadian Small Batch',\n",
       " 'Ezra Brooks Rye',\n",
       " \"J.P. Wiser's Deluxe\",\n",
       " 'Basil Hayden’s Dark Rye',\n",
       " 'Basil Hayden’s Two by Two Rye',\n",
       " 'Canadian Mist Black Diamond',\n",
       " 'Coyote Ugly',\n",
       " 'Jim Beam Rye',\n",
       " 'Collingwood',\n",
       " 'Stalk & Barrel Blue Blend',\n",
       " \"Gibson's Finest Sterling\",\n",
       " 'Templeton Rye',\n",
       " \"J.P. Wiser's Rye\",\n",
       " 'Wayne Gretzky No. 99 Red Cask',\n",
       " \"Pendleton (Let'er Buck)\",\n",
       " 'Canadian Club Barley Batch',\n",
       " 'Twelve Barrels',\n",
       " 'Basil Hayden’s Caribbean Reserve Rye',\n",
       " 'Pendleton Midnight',\n",
       " 'Old Overholt',\n",
       " 'Schenley Golden Wedding',\n",
       " 'Rich and Rare Reserve',\n",
       " 'Rich and Rare',\n",
       " 'Silk Tassel',\n",
       " 'Crown Royal',\n",
       " \"Seagram's VO\",\n",
       " 'Canadian Mist',\n",
       " '8 Seconds',\n",
       " \"J.P. Wiser's Special Blend\",\n",
       " 'Canadian Club (Premium)',\n",
       " \"Seagram's Canadian 83\",\n",
       " 'Proof Whisky',\n",
       " 'Black Velvet Deluxe',\n",
       " 'Barrell Single Barrel (all barrels)',\n",
       " 'George T Stagg',\n",
       " 'William Larue Weller',\n",
       " 'Parker’s Heritage 6th Blend of Mashbills',\n",
       " 'Stagg Jr batch 9 (131.9 proof)',\n",
       " 'Four Roses Small Batch Limited Edition',\n",
       " 'Barrell Bourbon Batch 011',\n",
       " 'Stagg Jr (batches 3+)',\n",
       " 'Stagg Jr batch 9 (116.8 proof)',\n",
       " 'Willett Family Estate Bourbon (all ages)',\n",
       " 'Barrell Bourbon Batch 019',\n",
       " 'Parker’s Heritage 1st',\n",
       " 'Barrell Bourbon Batch 015',\n",
       " 'Stagg Jr batch 5 (129.7 proof)',\n",
       " 'William Heavenhill BiB',\n",
       " 'Stagg Jr batch 4 (132.2 proof)',\n",
       " \"Wild Turkey Master's Keep Revival\",\n",
       " 'Barrell Bourbon New Years (all Batches)',\n",
       " \"Blanton's Straight from the Barrel Bourbon\",\n",
       " 'Barrell Bourbon New Years Batch 2018',\n",
       " 'Barrell Bourbon Batch 018',\n",
       " 'Colonel EH. Taylor Barrel Proof',\n",
       " 'Stagg Jr batch 11 (127.9 proof)',\n",
       " 'Heaven Hill Select Stock Barrel',\n",
       " \"Jack Daniel's 150th Anniversary\",\n",
       " 'Barrell Bourbon Batch 013',\n",
       " 'Barrell Dovetail Whiskey (all Batches)',\n",
       " \"Angel's Envy Cask Strength\",\n",
       " 'Barrell Bourbon New Years Batch 2017',\n",
       " \"Wild Turkey Master's Keep Decades\",\n",
       " 'Barrell Bourbon Batch 009',\n",
       " 'Colonel E.H. Taylor Four Grain',\n",
       " 'Elijah Craig Barrel Proof',\n",
       " 'Smooth Ambler Old Scout Single Barrel Bourbon',\n",
       " 'Yellowstone 2018 Limited Edition',\n",
       " 'Wild Turkey Kentucky Spirit Single Barrel',\n",
       " 'Colonel E.H. Taylor Single Barrel',\n",
       " 'Stagg Jr batch 3 (132.1 proof)',\n",
       " \"Russell's Reserve Single Barrel\",\n",
       " 'Barrell Bourbon (all Batches)',\n",
       " 'Barrell Bourbon Batch 016',\n",
       " 'Old Forester 1920 Prohibition Style',\n",
       " \"J.P. Wiser's Last Barrels\",\n",
       " 'Stagg Jr batch 10 (126.4 proof)',\n",
       " \"Booker's Small Batch Straight Bourbon\",\n",
       " 'Knob Creek Single Barrel Reserve Bourbon',\n",
       " 'Wild Turkey Diamond Anniversary',\n",
       " 'Barrell Bourbon Batch 017',\n",
       " 'Elmer T. Lee Single Barrel Bourbon',\n",
       " 'Barrell Bourbon Batch 007',\n",
       " ...]"
      ]
     },
     "execution_count": 51,
     "metadata": {},
     "output_type": "execute_result"
    }
   ],
   "source": [
    "uniqs"
   ]
  },
  {
   "cell_type": "markdown",
   "metadata": {},
   "source": [
    "So going over the list, I was able to find a few whiskies that contain an age, and didn't follow the convention. First is Octomore, which is pretty pricey brand."
   ]
  },
  {
   "cell_type": "code",
   "execution_count": 52,
   "metadata": {},
   "outputs": [
    {
     "data": {
      "text/html": [
       "<div>\n",
       "<style scoped>\n",
       "    .dataframe tbody tr th:only-of-type {\n",
       "        vertical-align: middle;\n",
       "    }\n",
       "\n",
       "    .dataframe tbody tr th {\n",
       "        vertical-align: top;\n",
       "    }\n",
       "\n",
       "    .dataframe thead th {\n",
       "        text-align: right;\n",
       "    }\n",
       "</style>\n",
       "<table border=\"1\" class=\"dataframe\">\n",
       "  <thead>\n",
       "    <tr style=\"text-align: right;\">\n",
       "      <th></th>\n",
       "      <th>Whisky</th>\n",
       "      <th>Meta Critic</th>\n",
       "      <th>STDEV</th>\n",
       "      <th>#</th>\n",
       "      <th>Class</th>\n",
       "      <th>Cluster</th>\n",
       "      <th>Country</th>\n",
       "      <th>Type</th>\n",
       "      <th>Ages</th>\n",
       "    </tr>\n",
       "  </thead>\n",
       "  <tbody>\n",
       "    <tr>\n",
       "      <th>1052</th>\n",
       "      <td>Bruichladdich Octomore 10 (Third Edition)</td>\n",
       "      <td>9.25</td>\n",
       "      <td>0.17</td>\n",
       "      <td>3</td>\n",
       "      <td>SingleMalt-like</td>\n",
       "      <td>J</td>\n",
       "      <td>Scotland</td>\n",
       "      <td>Malt</td>\n",
       "      <td>Unknown</td>\n",
       "    </tr>\n",
       "    <tr>\n",
       "      <th>1059</th>\n",
       "      <td>Bruichladdich Octomore 7.3</td>\n",
       "      <td>9.10</td>\n",
       "      <td>0.47</td>\n",
       "      <td>14</td>\n",
       "      <td>SingleMalt-like</td>\n",
       "      <td>J</td>\n",
       "      <td>Scotland</td>\n",
       "      <td>Malt</td>\n",
       "      <td>Unknown</td>\n",
       "    </tr>\n",
       "    <tr>\n",
       "      <th>1060</th>\n",
       "      <td>Bruichladdich Octomore 6.2</td>\n",
       "      <td>9.08</td>\n",
       "      <td>0.18</td>\n",
       "      <td>12</td>\n",
       "      <td>SingleMalt-like</td>\n",
       "      <td>J</td>\n",
       "      <td>Scotland</td>\n",
       "      <td>Malt</td>\n",
       "      <td>Unknown</td>\n",
       "    </tr>\n",
       "    <tr>\n",
       "      <th>1061</th>\n",
       "      <td>Bruichladdich Octomore 8.3</td>\n",
       "      <td>9.08</td>\n",
       "      <td>0.19</td>\n",
       "      <td>13</td>\n",
       "      <td>SingleMalt-like</td>\n",
       "      <td>J</td>\n",
       "      <td>Scotland</td>\n",
       "      <td>Malt</td>\n",
       "      <td>Unknown</td>\n",
       "    </tr>\n",
       "    <tr>\n",
       "      <th>1065</th>\n",
       "      <td>Bruichladdich Octomore 9.3</td>\n",
       "      <td>9.07</td>\n",
       "      <td>0.26</td>\n",
       "      <td>12</td>\n",
       "      <td>SingleMalt-like</td>\n",
       "      <td>J</td>\n",
       "      <td>Scotland</td>\n",
       "      <td>Malt</td>\n",
       "      <td>Unknown</td>\n",
       "    </tr>\n",
       "    <tr>\n",
       "      <th>1070</th>\n",
       "      <td>Bruichladdich Octomore 8.2</td>\n",
       "      <td>9.03</td>\n",
       "      <td>0.22</td>\n",
       "      <td>8</td>\n",
       "      <td>SingleMalt-like</td>\n",
       "      <td>J</td>\n",
       "      <td>Scotland</td>\n",
       "      <td>Malt</td>\n",
       "      <td>Unknown</td>\n",
       "    </tr>\n",
       "    <tr>\n",
       "      <th>1077</th>\n",
       "      <td>Bruichladdich Octomore 11.3</td>\n",
       "      <td>9.01</td>\n",
       "      <td>0.27</td>\n",
       "      <td>4</td>\n",
       "      <td>SingleMalt-like</td>\n",
       "      <td>J</td>\n",
       "      <td>Scotland</td>\n",
       "      <td>Malt</td>\n",
       "      <td>Unknown</td>\n",
       "    </tr>\n",
       "    <tr>\n",
       "      <th>1078</th>\n",
       "      <td>Bruichladdich Octomore 7.1</td>\n",
       "      <td>9.01</td>\n",
       "      <td>0.28</td>\n",
       "      <td>17</td>\n",
       "      <td>SingleMalt-like</td>\n",
       "      <td>J</td>\n",
       "      <td>Scotland</td>\n",
       "      <td>Malt</td>\n",
       "      <td>Unknown</td>\n",
       "    </tr>\n",
       "    <tr>\n",
       "      <th>1081</th>\n",
       "      <td>Bruichladdich Octomore 10 (Second Edition)</td>\n",
       "      <td>9.00</td>\n",
       "      <td>0.26</td>\n",
       "      <td>12</td>\n",
       "      <td>SingleMalt-like</td>\n",
       "      <td>J</td>\n",
       "      <td>Scotland</td>\n",
       "      <td>Malt</td>\n",
       "      <td>Unknown</td>\n",
       "    </tr>\n",
       "    <tr>\n",
       "      <th>1085</th>\n",
       "      <td>Bruichladdich Octomore 8.4</td>\n",
       "      <td>8.98</td>\n",
       "      <td>0.09</td>\n",
       "      <td>4</td>\n",
       "      <td>SingleMalt-like</td>\n",
       "      <td>J</td>\n",
       "      <td>Scotland</td>\n",
       "      <td>Malt</td>\n",
       "      <td>Unknown</td>\n",
       "    </tr>\n",
       "    <tr>\n",
       "      <th>1098</th>\n",
       "      <td>Bruichladdich Octomore 10</td>\n",
       "      <td>8.93</td>\n",
       "      <td>0.35</td>\n",
       "      <td>6</td>\n",
       "      <td>SingleMalt-like</td>\n",
       "      <td>J</td>\n",
       "      <td>Scotland</td>\n",
       "      <td>Malt</td>\n",
       "      <td>Unknown</td>\n",
       "    </tr>\n",
       "    <tr>\n",
       "      <th>1102</th>\n",
       "      <td>Bruichladdich Octomore 11.1</td>\n",
       "      <td>8.90</td>\n",
       "      <td>0.20</td>\n",
       "      <td>5</td>\n",
       "      <td>SingleMalt-like</td>\n",
       "      <td>J</td>\n",
       "      <td>Scotland</td>\n",
       "      <td>Malt</td>\n",
       "      <td>Unknown</td>\n",
       "    </tr>\n",
       "    <tr>\n",
       "      <th>1104</th>\n",
       "      <td>Bruichladdich Octomore 7.2</td>\n",
       "      <td>8.89</td>\n",
       "      <td>0.44</td>\n",
       "      <td>14</td>\n",
       "      <td>SingleMalt-like</td>\n",
       "      <td>J</td>\n",
       "      <td>Scotland</td>\n",
       "      <td>Malt</td>\n",
       "      <td>Unknown</td>\n",
       "    </tr>\n",
       "    <tr>\n",
       "      <th>1110</th>\n",
       "      <td>Bruichladdich Octomore 8.1</td>\n",
       "      <td>8.86</td>\n",
       "      <td>0.14</td>\n",
       "      <td>14</td>\n",
       "      <td>SingleMalt-like</td>\n",
       "      <td>J</td>\n",
       "      <td>Scotland</td>\n",
       "      <td>Malt</td>\n",
       "      <td>Unknown</td>\n",
       "    </tr>\n",
       "    <tr>\n",
       "      <th>1112</th>\n",
       "      <td>Bruichladdich Octomore 10.1</td>\n",
       "      <td>8.85</td>\n",
       "      <td>0.19</td>\n",
       "      <td>5</td>\n",
       "      <td>SingleMalt-like</td>\n",
       "      <td>J</td>\n",
       "      <td>Scotland</td>\n",
       "      <td>Malt</td>\n",
       "      <td>Unknown</td>\n",
       "    </tr>\n",
       "    <tr>\n",
       "      <th>1118</th>\n",
       "      <td>Bruichladdich Octomore 6.3</td>\n",
       "      <td>8.82</td>\n",
       "      <td>0.62</td>\n",
       "      <td>12</td>\n",
       "      <td>SingleMalt-like</td>\n",
       "      <td>J</td>\n",
       "      <td>Scotland</td>\n",
       "      <td>Malt</td>\n",
       "      <td>Unknown</td>\n",
       "    </tr>\n",
       "    <tr>\n",
       "      <th>1124</th>\n",
       "      <td>Bruichladdich Octomore 6.1</td>\n",
       "      <td>8.79</td>\n",
       "      <td>0.30</td>\n",
       "      <td>21</td>\n",
       "      <td>SingleMalt-like</td>\n",
       "      <td>J</td>\n",
       "      <td>Scotland</td>\n",
       "      <td>Malt</td>\n",
       "      <td>Unknown</td>\n",
       "    </tr>\n",
       "    <tr>\n",
       "      <th>1136</th>\n",
       "      <td>Bruichladdich Octomore 9.1</td>\n",
       "      <td>8.75</td>\n",
       "      <td>0.35</td>\n",
       "      <td>10</td>\n",
       "      <td>SingleMalt-like</td>\n",
       "      <td>J</td>\n",
       "      <td>Scotland</td>\n",
       "      <td>Malt</td>\n",
       "      <td>Unknown</td>\n",
       "    </tr>\n",
       "    <tr>\n",
       "      <th>1144</th>\n",
       "      <td>Bruichladdich Octomore 7.4</td>\n",
       "      <td>8.72</td>\n",
       "      <td>0.60</td>\n",
       "      <td>13</td>\n",
       "      <td>SingleMalt-like</td>\n",
       "      <td>J</td>\n",
       "      <td>Scotland</td>\n",
       "      <td>Malt</td>\n",
       "      <td>Unknown</td>\n",
       "    </tr>\n",
       "    <tr>\n",
       "      <th>1171</th>\n",
       "      <td>Bruichladdich Octomore 10.4</td>\n",
       "      <td>8.36</td>\n",
       "      <td>0.84</td>\n",
       "      <td>3</td>\n",
       "      <td>SingleMalt-like</td>\n",
       "      <td>J</td>\n",
       "      <td>Scotland</td>\n",
       "      <td>Malt</td>\n",
       "      <td>Unknown</td>\n",
       "    </tr>\n",
       "  </tbody>\n",
       "</table>\n",
       "</div>"
      ],
      "text/plain": [
       "                                          Whisky Meta Critic STDEV   #  \\\n",
       "1052   Bruichladdich Octomore 10 (Third Edition)        9.25  0.17   3   \n",
       "1059                  Bruichladdich Octomore 7.3        9.10  0.47  14   \n",
       "1060                  Bruichladdich Octomore 6.2        9.08  0.18  12   \n",
       "1061                  Bruichladdich Octomore 8.3        9.08  0.19  13   \n",
       "1065                  Bruichladdich Octomore 9.3        9.07  0.26  12   \n",
       "1070                  Bruichladdich Octomore 8.2        9.03  0.22   8   \n",
       "1077                 Bruichladdich Octomore 11.3        9.01  0.27   4   \n",
       "1078                  Bruichladdich Octomore 7.1        9.01  0.28  17   \n",
       "1081  Bruichladdich Octomore 10 (Second Edition)        9.00  0.26  12   \n",
       "1085                  Bruichladdich Octomore 8.4        8.98  0.09   4   \n",
       "1098                   Bruichladdich Octomore 10        8.93  0.35   6   \n",
       "1102                 Bruichladdich Octomore 11.1        8.90  0.20   5   \n",
       "1104                  Bruichladdich Octomore 7.2        8.89  0.44  14   \n",
       "1110                  Bruichladdich Octomore 8.1        8.86  0.14  14   \n",
       "1112                 Bruichladdich Octomore 10.1        8.85  0.19   5   \n",
       "1118                  Bruichladdich Octomore 6.3        8.82  0.62  12   \n",
       "1124                  Bruichladdich Octomore 6.1        8.79  0.30  21   \n",
       "1136                  Bruichladdich Octomore 9.1        8.75  0.35  10   \n",
       "1144                  Bruichladdich Octomore 7.4        8.72  0.60  13   \n",
       "1171                 Bruichladdich Octomore 10.4        8.36  0.84   3   \n",
       "\n",
       "                Class Cluster   Country  Type     Ages  \n",
       "1052  SingleMalt-like       J  Scotland  Malt  Unknown  \n",
       "1059  SingleMalt-like       J  Scotland  Malt  Unknown  \n",
       "1060  SingleMalt-like       J  Scotland  Malt  Unknown  \n",
       "1061  SingleMalt-like       J  Scotland  Malt  Unknown  \n",
       "1065  SingleMalt-like       J  Scotland  Malt  Unknown  \n",
       "1070  SingleMalt-like       J  Scotland  Malt  Unknown  \n",
       "1077  SingleMalt-like       J  Scotland  Malt  Unknown  \n",
       "1078  SingleMalt-like       J  Scotland  Malt  Unknown  \n",
       "1081  SingleMalt-like       J  Scotland  Malt  Unknown  \n",
       "1085  SingleMalt-like       J  Scotland  Malt  Unknown  \n",
       "1098  SingleMalt-like       J  Scotland  Malt  Unknown  \n",
       "1102  SingleMalt-like       J  Scotland  Malt  Unknown  \n",
       "1104  SingleMalt-like       J  Scotland  Malt  Unknown  \n",
       "1110  SingleMalt-like       J  Scotland  Malt  Unknown  \n",
       "1112  SingleMalt-like       J  Scotland  Malt  Unknown  \n",
       "1118  SingleMalt-like       J  Scotland  Malt  Unknown  \n",
       "1124  SingleMalt-like       J  Scotland  Malt  Unknown  \n",
       "1136  SingleMalt-like       J  Scotland  Malt  Unknown  \n",
       "1144  SingleMalt-like       J  Scotland  Malt  Unknown  \n",
       "1171  SingleMalt-like       J  Scotland  Malt  Unknown  "
      ]
     },
     "execution_count": 52,
     "metadata": {},
     "output_type": "execute_result"
    }
   ],
   "source": [
    "df2.loc[df2['Whisky'].str.contains('Octomore')]"
   ]
  },
  {
   "cell_type": "markdown",
   "metadata": {},
   "source": [
    "Doing some more research all the Octomores are 5, aside from the Octomore 10s. So let's use our .at and/or another loop to get those right."
   ]
  },
  {
   "cell_type": "code",
   "execution_count": 53,
   "metadata": {},
   "outputs": [],
   "source": [
    "df2.at[1052, 'Ages']='10'\n",
    "df2.at[1081, 'Ages']='10'"
   ]
  },
  {
   "cell_type": "code",
   "execution_count": 54,
   "metadata": {},
   "outputs": [
    {
     "data": {
      "text/html": [
       "<div>\n",
       "<style scoped>\n",
       "    .dataframe tbody tr th:only-of-type {\n",
       "        vertical-align: middle;\n",
       "    }\n",
       "\n",
       "    .dataframe tbody tr th {\n",
       "        vertical-align: top;\n",
       "    }\n",
       "\n",
       "    .dataframe thead th {\n",
       "        text-align: right;\n",
       "    }\n",
       "</style>\n",
       "<table border=\"1\" class=\"dataframe\">\n",
       "  <thead>\n",
       "    <tr style=\"text-align: right;\">\n",
       "      <th></th>\n",
       "      <th>Whisky</th>\n",
       "      <th>Meta Critic</th>\n",
       "      <th>STDEV</th>\n",
       "      <th>#</th>\n",
       "      <th>Class</th>\n",
       "      <th>Cluster</th>\n",
       "      <th>Country</th>\n",
       "      <th>Type</th>\n",
       "      <th>Ages</th>\n",
       "    </tr>\n",
       "  </thead>\n",
       "  <tbody>\n",
       "    <tr>\n",
       "      <th>1052</th>\n",
       "      <td>Bruichladdich Octomore 10 (Third Edition)</td>\n",
       "      <td>9.25</td>\n",
       "      <td>0.17</td>\n",
       "      <td>3</td>\n",
       "      <td>SingleMalt-like</td>\n",
       "      <td>J</td>\n",
       "      <td>Scotland</td>\n",
       "      <td>Malt</td>\n",
       "      <td>10</td>\n",
       "    </tr>\n",
       "    <tr>\n",
       "      <th>1059</th>\n",
       "      <td>Bruichladdich Octomore 7.3</td>\n",
       "      <td>9.10</td>\n",
       "      <td>0.47</td>\n",
       "      <td>14</td>\n",
       "      <td>SingleMalt-like</td>\n",
       "      <td>J</td>\n",
       "      <td>Scotland</td>\n",
       "      <td>Malt</td>\n",
       "      <td>Unknown</td>\n",
       "    </tr>\n",
       "    <tr>\n",
       "      <th>1060</th>\n",
       "      <td>Bruichladdich Octomore 6.2</td>\n",
       "      <td>9.08</td>\n",
       "      <td>0.18</td>\n",
       "      <td>12</td>\n",
       "      <td>SingleMalt-like</td>\n",
       "      <td>J</td>\n",
       "      <td>Scotland</td>\n",
       "      <td>Malt</td>\n",
       "      <td>Unknown</td>\n",
       "    </tr>\n",
       "    <tr>\n",
       "      <th>1061</th>\n",
       "      <td>Bruichladdich Octomore 8.3</td>\n",
       "      <td>9.08</td>\n",
       "      <td>0.19</td>\n",
       "      <td>13</td>\n",
       "      <td>SingleMalt-like</td>\n",
       "      <td>J</td>\n",
       "      <td>Scotland</td>\n",
       "      <td>Malt</td>\n",
       "      <td>Unknown</td>\n",
       "    </tr>\n",
       "    <tr>\n",
       "      <th>1065</th>\n",
       "      <td>Bruichladdich Octomore 9.3</td>\n",
       "      <td>9.07</td>\n",
       "      <td>0.26</td>\n",
       "      <td>12</td>\n",
       "      <td>SingleMalt-like</td>\n",
       "      <td>J</td>\n",
       "      <td>Scotland</td>\n",
       "      <td>Malt</td>\n",
       "      <td>Unknown</td>\n",
       "    </tr>\n",
       "    <tr>\n",
       "      <th>1070</th>\n",
       "      <td>Bruichladdich Octomore 8.2</td>\n",
       "      <td>9.03</td>\n",
       "      <td>0.22</td>\n",
       "      <td>8</td>\n",
       "      <td>SingleMalt-like</td>\n",
       "      <td>J</td>\n",
       "      <td>Scotland</td>\n",
       "      <td>Malt</td>\n",
       "      <td>Unknown</td>\n",
       "    </tr>\n",
       "    <tr>\n",
       "      <th>1077</th>\n",
       "      <td>Bruichladdich Octomore 11.3</td>\n",
       "      <td>9.01</td>\n",
       "      <td>0.27</td>\n",
       "      <td>4</td>\n",
       "      <td>SingleMalt-like</td>\n",
       "      <td>J</td>\n",
       "      <td>Scotland</td>\n",
       "      <td>Malt</td>\n",
       "      <td>Unknown</td>\n",
       "    </tr>\n",
       "    <tr>\n",
       "      <th>1078</th>\n",
       "      <td>Bruichladdich Octomore 7.1</td>\n",
       "      <td>9.01</td>\n",
       "      <td>0.28</td>\n",
       "      <td>17</td>\n",
       "      <td>SingleMalt-like</td>\n",
       "      <td>J</td>\n",
       "      <td>Scotland</td>\n",
       "      <td>Malt</td>\n",
       "      <td>Unknown</td>\n",
       "    </tr>\n",
       "    <tr>\n",
       "      <th>1081</th>\n",
       "      <td>Bruichladdich Octomore 10 (Second Edition)</td>\n",
       "      <td>9.00</td>\n",
       "      <td>0.26</td>\n",
       "      <td>12</td>\n",
       "      <td>SingleMalt-like</td>\n",
       "      <td>J</td>\n",
       "      <td>Scotland</td>\n",
       "      <td>Malt</td>\n",
       "      <td>10</td>\n",
       "    </tr>\n",
       "    <tr>\n",
       "      <th>1085</th>\n",
       "      <td>Bruichladdich Octomore 8.4</td>\n",
       "      <td>8.98</td>\n",
       "      <td>0.09</td>\n",
       "      <td>4</td>\n",
       "      <td>SingleMalt-like</td>\n",
       "      <td>J</td>\n",
       "      <td>Scotland</td>\n",
       "      <td>Malt</td>\n",
       "      <td>Unknown</td>\n",
       "    </tr>\n",
       "    <tr>\n",
       "      <th>1098</th>\n",
       "      <td>Bruichladdich Octomore 10</td>\n",
       "      <td>8.93</td>\n",
       "      <td>0.35</td>\n",
       "      <td>6</td>\n",
       "      <td>SingleMalt-like</td>\n",
       "      <td>J</td>\n",
       "      <td>Scotland</td>\n",
       "      <td>Malt</td>\n",
       "      <td>Unknown</td>\n",
       "    </tr>\n",
       "    <tr>\n",
       "      <th>1102</th>\n",
       "      <td>Bruichladdich Octomore 11.1</td>\n",
       "      <td>8.90</td>\n",
       "      <td>0.20</td>\n",
       "      <td>5</td>\n",
       "      <td>SingleMalt-like</td>\n",
       "      <td>J</td>\n",
       "      <td>Scotland</td>\n",
       "      <td>Malt</td>\n",
       "      <td>Unknown</td>\n",
       "    </tr>\n",
       "    <tr>\n",
       "      <th>1104</th>\n",
       "      <td>Bruichladdich Octomore 7.2</td>\n",
       "      <td>8.89</td>\n",
       "      <td>0.44</td>\n",
       "      <td>14</td>\n",
       "      <td>SingleMalt-like</td>\n",
       "      <td>J</td>\n",
       "      <td>Scotland</td>\n",
       "      <td>Malt</td>\n",
       "      <td>Unknown</td>\n",
       "    </tr>\n",
       "    <tr>\n",
       "      <th>1110</th>\n",
       "      <td>Bruichladdich Octomore 8.1</td>\n",
       "      <td>8.86</td>\n",
       "      <td>0.14</td>\n",
       "      <td>14</td>\n",
       "      <td>SingleMalt-like</td>\n",
       "      <td>J</td>\n",
       "      <td>Scotland</td>\n",
       "      <td>Malt</td>\n",
       "      <td>Unknown</td>\n",
       "    </tr>\n",
       "    <tr>\n",
       "      <th>1112</th>\n",
       "      <td>Bruichladdich Octomore 10.1</td>\n",
       "      <td>8.85</td>\n",
       "      <td>0.19</td>\n",
       "      <td>5</td>\n",
       "      <td>SingleMalt-like</td>\n",
       "      <td>J</td>\n",
       "      <td>Scotland</td>\n",
       "      <td>Malt</td>\n",
       "      <td>Unknown</td>\n",
       "    </tr>\n",
       "    <tr>\n",
       "      <th>1118</th>\n",
       "      <td>Bruichladdich Octomore 6.3</td>\n",
       "      <td>8.82</td>\n",
       "      <td>0.62</td>\n",
       "      <td>12</td>\n",
       "      <td>SingleMalt-like</td>\n",
       "      <td>J</td>\n",
       "      <td>Scotland</td>\n",
       "      <td>Malt</td>\n",
       "      <td>Unknown</td>\n",
       "    </tr>\n",
       "    <tr>\n",
       "      <th>1124</th>\n",
       "      <td>Bruichladdich Octomore 6.1</td>\n",
       "      <td>8.79</td>\n",
       "      <td>0.30</td>\n",
       "      <td>21</td>\n",
       "      <td>SingleMalt-like</td>\n",
       "      <td>J</td>\n",
       "      <td>Scotland</td>\n",
       "      <td>Malt</td>\n",
       "      <td>Unknown</td>\n",
       "    </tr>\n",
       "    <tr>\n",
       "      <th>1136</th>\n",
       "      <td>Bruichladdich Octomore 9.1</td>\n",
       "      <td>8.75</td>\n",
       "      <td>0.35</td>\n",
       "      <td>10</td>\n",
       "      <td>SingleMalt-like</td>\n",
       "      <td>J</td>\n",
       "      <td>Scotland</td>\n",
       "      <td>Malt</td>\n",
       "      <td>Unknown</td>\n",
       "    </tr>\n",
       "    <tr>\n",
       "      <th>1144</th>\n",
       "      <td>Bruichladdich Octomore 7.4</td>\n",
       "      <td>8.72</td>\n",
       "      <td>0.60</td>\n",
       "      <td>13</td>\n",
       "      <td>SingleMalt-like</td>\n",
       "      <td>J</td>\n",
       "      <td>Scotland</td>\n",
       "      <td>Malt</td>\n",
       "      <td>Unknown</td>\n",
       "    </tr>\n",
       "    <tr>\n",
       "      <th>1171</th>\n",
       "      <td>Bruichladdich Octomore 10.4</td>\n",
       "      <td>8.36</td>\n",
       "      <td>0.84</td>\n",
       "      <td>3</td>\n",
       "      <td>SingleMalt-like</td>\n",
       "      <td>J</td>\n",
       "      <td>Scotland</td>\n",
       "      <td>Malt</td>\n",
       "      <td>Unknown</td>\n",
       "    </tr>\n",
       "  </tbody>\n",
       "</table>\n",
       "</div>"
      ],
      "text/plain": [
       "                                          Whisky Meta Critic STDEV   #  \\\n",
       "1052   Bruichladdich Octomore 10 (Third Edition)        9.25  0.17   3   \n",
       "1059                  Bruichladdich Octomore 7.3        9.10  0.47  14   \n",
       "1060                  Bruichladdich Octomore 6.2        9.08  0.18  12   \n",
       "1061                  Bruichladdich Octomore 8.3        9.08  0.19  13   \n",
       "1065                  Bruichladdich Octomore 9.3        9.07  0.26  12   \n",
       "1070                  Bruichladdich Octomore 8.2        9.03  0.22   8   \n",
       "1077                 Bruichladdich Octomore 11.3        9.01  0.27   4   \n",
       "1078                  Bruichladdich Octomore 7.1        9.01  0.28  17   \n",
       "1081  Bruichladdich Octomore 10 (Second Edition)        9.00  0.26  12   \n",
       "1085                  Bruichladdich Octomore 8.4        8.98  0.09   4   \n",
       "1098                   Bruichladdich Octomore 10        8.93  0.35   6   \n",
       "1102                 Bruichladdich Octomore 11.1        8.90  0.20   5   \n",
       "1104                  Bruichladdich Octomore 7.2        8.89  0.44  14   \n",
       "1110                  Bruichladdich Octomore 8.1        8.86  0.14  14   \n",
       "1112                 Bruichladdich Octomore 10.1        8.85  0.19   5   \n",
       "1118                  Bruichladdich Octomore 6.3        8.82  0.62  12   \n",
       "1124                  Bruichladdich Octomore 6.1        8.79  0.30  21   \n",
       "1136                  Bruichladdich Octomore 9.1        8.75  0.35  10   \n",
       "1144                  Bruichladdich Octomore 7.4        8.72  0.60  13   \n",
       "1171                 Bruichladdich Octomore 10.4        8.36  0.84   3   \n",
       "\n",
       "                Class Cluster   Country  Type     Ages  \n",
       "1052  SingleMalt-like       J  Scotland  Malt       10  \n",
       "1059  SingleMalt-like       J  Scotland  Malt  Unknown  \n",
       "1060  SingleMalt-like       J  Scotland  Malt  Unknown  \n",
       "1061  SingleMalt-like       J  Scotland  Malt  Unknown  \n",
       "1065  SingleMalt-like       J  Scotland  Malt  Unknown  \n",
       "1070  SingleMalt-like       J  Scotland  Malt  Unknown  \n",
       "1077  SingleMalt-like       J  Scotland  Malt  Unknown  \n",
       "1078  SingleMalt-like       J  Scotland  Malt  Unknown  \n",
       "1081  SingleMalt-like       J  Scotland  Malt       10  \n",
       "1085  SingleMalt-like       J  Scotland  Malt  Unknown  \n",
       "1098  SingleMalt-like       J  Scotland  Malt  Unknown  \n",
       "1102  SingleMalt-like       J  Scotland  Malt  Unknown  \n",
       "1104  SingleMalt-like       J  Scotland  Malt  Unknown  \n",
       "1110  SingleMalt-like       J  Scotland  Malt  Unknown  \n",
       "1112  SingleMalt-like       J  Scotland  Malt  Unknown  \n",
       "1118  SingleMalt-like       J  Scotland  Malt  Unknown  \n",
       "1124  SingleMalt-like       J  Scotland  Malt  Unknown  \n",
       "1136  SingleMalt-like       J  Scotland  Malt  Unknown  \n",
       "1144  SingleMalt-like       J  Scotland  Malt  Unknown  \n",
       "1171  SingleMalt-like       J  Scotland  Malt  Unknown  "
      ]
     },
     "execution_count": 54,
     "metadata": {},
     "output_type": "execute_result"
    }
   ],
   "source": [
    "df2.loc[df2['Whisky'].str.contains('Octomore')]"
   ]
  },
  {
   "cell_type": "code",
   "execution_count": 55,
   "metadata": {},
   "outputs": [],
   "source": [
    "for i in df2.index:\n",
    "    split_name=df2['Whisky'][i].split()\n",
    "    for item in split_name:\n",
    "        if item=='Octomore' and df2['Ages'][i]=='Unknown':\n",
    "            df2.at[i,'Ages']='5'"
   ]
  },
  {
   "cell_type": "code",
   "execution_count": 56,
   "metadata": {},
   "outputs": [
    {
     "data": {
      "text/html": [
       "<div>\n",
       "<style scoped>\n",
       "    .dataframe tbody tr th:only-of-type {\n",
       "        vertical-align: middle;\n",
       "    }\n",
       "\n",
       "    .dataframe tbody tr th {\n",
       "        vertical-align: top;\n",
       "    }\n",
       "\n",
       "    .dataframe thead th {\n",
       "        text-align: right;\n",
       "    }\n",
       "</style>\n",
       "<table border=\"1\" class=\"dataframe\">\n",
       "  <thead>\n",
       "    <tr style=\"text-align: right;\">\n",
       "      <th></th>\n",
       "      <th>Whisky</th>\n",
       "      <th>Meta Critic</th>\n",
       "      <th>STDEV</th>\n",
       "      <th>#</th>\n",
       "      <th>Class</th>\n",
       "      <th>Cluster</th>\n",
       "      <th>Country</th>\n",
       "      <th>Type</th>\n",
       "      <th>Ages</th>\n",
       "    </tr>\n",
       "  </thead>\n",
       "  <tbody>\n",
       "    <tr>\n",
       "      <th>1052</th>\n",
       "      <td>Bruichladdich Octomore 10 (Third Edition)</td>\n",
       "      <td>9.25</td>\n",
       "      <td>0.17</td>\n",
       "      <td>3</td>\n",
       "      <td>SingleMalt-like</td>\n",
       "      <td>J</td>\n",
       "      <td>Scotland</td>\n",
       "      <td>Malt</td>\n",
       "      <td>10</td>\n",
       "    </tr>\n",
       "    <tr>\n",
       "      <th>1059</th>\n",
       "      <td>Bruichladdich Octomore 7.3</td>\n",
       "      <td>9.10</td>\n",
       "      <td>0.47</td>\n",
       "      <td>14</td>\n",
       "      <td>SingleMalt-like</td>\n",
       "      <td>J</td>\n",
       "      <td>Scotland</td>\n",
       "      <td>Malt</td>\n",
       "      <td>5</td>\n",
       "    </tr>\n",
       "    <tr>\n",
       "      <th>1060</th>\n",
       "      <td>Bruichladdich Octomore 6.2</td>\n",
       "      <td>9.08</td>\n",
       "      <td>0.18</td>\n",
       "      <td>12</td>\n",
       "      <td>SingleMalt-like</td>\n",
       "      <td>J</td>\n",
       "      <td>Scotland</td>\n",
       "      <td>Malt</td>\n",
       "      <td>5</td>\n",
       "    </tr>\n",
       "    <tr>\n",
       "      <th>1061</th>\n",
       "      <td>Bruichladdich Octomore 8.3</td>\n",
       "      <td>9.08</td>\n",
       "      <td>0.19</td>\n",
       "      <td>13</td>\n",
       "      <td>SingleMalt-like</td>\n",
       "      <td>J</td>\n",
       "      <td>Scotland</td>\n",
       "      <td>Malt</td>\n",
       "      <td>5</td>\n",
       "    </tr>\n",
       "    <tr>\n",
       "      <th>1065</th>\n",
       "      <td>Bruichladdich Octomore 9.3</td>\n",
       "      <td>9.07</td>\n",
       "      <td>0.26</td>\n",
       "      <td>12</td>\n",
       "      <td>SingleMalt-like</td>\n",
       "      <td>J</td>\n",
       "      <td>Scotland</td>\n",
       "      <td>Malt</td>\n",
       "      <td>5</td>\n",
       "    </tr>\n",
       "    <tr>\n",
       "      <th>1070</th>\n",
       "      <td>Bruichladdich Octomore 8.2</td>\n",
       "      <td>9.03</td>\n",
       "      <td>0.22</td>\n",
       "      <td>8</td>\n",
       "      <td>SingleMalt-like</td>\n",
       "      <td>J</td>\n",
       "      <td>Scotland</td>\n",
       "      <td>Malt</td>\n",
       "      <td>5</td>\n",
       "    </tr>\n",
       "    <tr>\n",
       "      <th>1077</th>\n",
       "      <td>Bruichladdich Octomore 11.3</td>\n",
       "      <td>9.01</td>\n",
       "      <td>0.27</td>\n",
       "      <td>4</td>\n",
       "      <td>SingleMalt-like</td>\n",
       "      <td>J</td>\n",
       "      <td>Scotland</td>\n",
       "      <td>Malt</td>\n",
       "      <td>5</td>\n",
       "    </tr>\n",
       "    <tr>\n",
       "      <th>1078</th>\n",
       "      <td>Bruichladdich Octomore 7.1</td>\n",
       "      <td>9.01</td>\n",
       "      <td>0.28</td>\n",
       "      <td>17</td>\n",
       "      <td>SingleMalt-like</td>\n",
       "      <td>J</td>\n",
       "      <td>Scotland</td>\n",
       "      <td>Malt</td>\n",
       "      <td>5</td>\n",
       "    </tr>\n",
       "    <tr>\n",
       "      <th>1081</th>\n",
       "      <td>Bruichladdich Octomore 10 (Second Edition)</td>\n",
       "      <td>9.00</td>\n",
       "      <td>0.26</td>\n",
       "      <td>12</td>\n",
       "      <td>SingleMalt-like</td>\n",
       "      <td>J</td>\n",
       "      <td>Scotland</td>\n",
       "      <td>Malt</td>\n",
       "      <td>10</td>\n",
       "    </tr>\n",
       "    <tr>\n",
       "      <th>1085</th>\n",
       "      <td>Bruichladdich Octomore 8.4</td>\n",
       "      <td>8.98</td>\n",
       "      <td>0.09</td>\n",
       "      <td>4</td>\n",
       "      <td>SingleMalt-like</td>\n",
       "      <td>J</td>\n",
       "      <td>Scotland</td>\n",
       "      <td>Malt</td>\n",
       "      <td>5</td>\n",
       "    </tr>\n",
       "    <tr>\n",
       "      <th>1098</th>\n",
       "      <td>Bruichladdich Octomore 10</td>\n",
       "      <td>8.93</td>\n",
       "      <td>0.35</td>\n",
       "      <td>6</td>\n",
       "      <td>SingleMalt-like</td>\n",
       "      <td>J</td>\n",
       "      <td>Scotland</td>\n",
       "      <td>Malt</td>\n",
       "      <td>5</td>\n",
       "    </tr>\n",
       "    <tr>\n",
       "      <th>1102</th>\n",
       "      <td>Bruichladdich Octomore 11.1</td>\n",
       "      <td>8.90</td>\n",
       "      <td>0.20</td>\n",
       "      <td>5</td>\n",
       "      <td>SingleMalt-like</td>\n",
       "      <td>J</td>\n",
       "      <td>Scotland</td>\n",
       "      <td>Malt</td>\n",
       "      <td>5</td>\n",
       "    </tr>\n",
       "    <tr>\n",
       "      <th>1104</th>\n",
       "      <td>Bruichladdich Octomore 7.2</td>\n",
       "      <td>8.89</td>\n",
       "      <td>0.44</td>\n",
       "      <td>14</td>\n",
       "      <td>SingleMalt-like</td>\n",
       "      <td>J</td>\n",
       "      <td>Scotland</td>\n",
       "      <td>Malt</td>\n",
       "      <td>5</td>\n",
       "    </tr>\n",
       "    <tr>\n",
       "      <th>1110</th>\n",
       "      <td>Bruichladdich Octomore 8.1</td>\n",
       "      <td>8.86</td>\n",
       "      <td>0.14</td>\n",
       "      <td>14</td>\n",
       "      <td>SingleMalt-like</td>\n",
       "      <td>J</td>\n",
       "      <td>Scotland</td>\n",
       "      <td>Malt</td>\n",
       "      <td>5</td>\n",
       "    </tr>\n",
       "    <tr>\n",
       "      <th>1112</th>\n",
       "      <td>Bruichladdich Octomore 10.1</td>\n",
       "      <td>8.85</td>\n",
       "      <td>0.19</td>\n",
       "      <td>5</td>\n",
       "      <td>SingleMalt-like</td>\n",
       "      <td>J</td>\n",
       "      <td>Scotland</td>\n",
       "      <td>Malt</td>\n",
       "      <td>5</td>\n",
       "    </tr>\n",
       "    <tr>\n",
       "      <th>1118</th>\n",
       "      <td>Bruichladdich Octomore 6.3</td>\n",
       "      <td>8.82</td>\n",
       "      <td>0.62</td>\n",
       "      <td>12</td>\n",
       "      <td>SingleMalt-like</td>\n",
       "      <td>J</td>\n",
       "      <td>Scotland</td>\n",
       "      <td>Malt</td>\n",
       "      <td>5</td>\n",
       "    </tr>\n",
       "    <tr>\n",
       "      <th>1124</th>\n",
       "      <td>Bruichladdich Octomore 6.1</td>\n",
       "      <td>8.79</td>\n",
       "      <td>0.30</td>\n",
       "      <td>21</td>\n",
       "      <td>SingleMalt-like</td>\n",
       "      <td>J</td>\n",
       "      <td>Scotland</td>\n",
       "      <td>Malt</td>\n",
       "      <td>5</td>\n",
       "    </tr>\n",
       "    <tr>\n",
       "      <th>1136</th>\n",
       "      <td>Bruichladdich Octomore 9.1</td>\n",
       "      <td>8.75</td>\n",
       "      <td>0.35</td>\n",
       "      <td>10</td>\n",
       "      <td>SingleMalt-like</td>\n",
       "      <td>J</td>\n",
       "      <td>Scotland</td>\n",
       "      <td>Malt</td>\n",
       "      <td>5</td>\n",
       "    </tr>\n",
       "    <tr>\n",
       "      <th>1144</th>\n",
       "      <td>Bruichladdich Octomore 7.4</td>\n",
       "      <td>8.72</td>\n",
       "      <td>0.60</td>\n",
       "      <td>13</td>\n",
       "      <td>SingleMalt-like</td>\n",
       "      <td>J</td>\n",
       "      <td>Scotland</td>\n",
       "      <td>Malt</td>\n",
       "      <td>5</td>\n",
       "    </tr>\n",
       "    <tr>\n",
       "      <th>1171</th>\n",
       "      <td>Bruichladdich Octomore 10.4</td>\n",
       "      <td>8.36</td>\n",
       "      <td>0.84</td>\n",
       "      <td>3</td>\n",
       "      <td>SingleMalt-like</td>\n",
       "      <td>J</td>\n",
       "      <td>Scotland</td>\n",
       "      <td>Malt</td>\n",
       "      <td>5</td>\n",
       "    </tr>\n",
       "  </tbody>\n",
       "</table>\n",
       "</div>"
      ],
      "text/plain": [
       "                                          Whisky Meta Critic STDEV   #  \\\n",
       "1052   Bruichladdich Octomore 10 (Third Edition)        9.25  0.17   3   \n",
       "1059                  Bruichladdich Octomore 7.3        9.10  0.47  14   \n",
       "1060                  Bruichladdich Octomore 6.2        9.08  0.18  12   \n",
       "1061                  Bruichladdich Octomore 8.3        9.08  0.19  13   \n",
       "1065                  Bruichladdich Octomore 9.3        9.07  0.26  12   \n",
       "1070                  Bruichladdich Octomore 8.2        9.03  0.22   8   \n",
       "1077                 Bruichladdich Octomore 11.3        9.01  0.27   4   \n",
       "1078                  Bruichladdich Octomore 7.1        9.01  0.28  17   \n",
       "1081  Bruichladdich Octomore 10 (Second Edition)        9.00  0.26  12   \n",
       "1085                  Bruichladdich Octomore 8.4        8.98  0.09   4   \n",
       "1098                   Bruichladdich Octomore 10        8.93  0.35   6   \n",
       "1102                 Bruichladdich Octomore 11.1        8.90  0.20   5   \n",
       "1104                  Bruichladdich Octomore 7.2        8.89  0.44  14   \n",
       "1110                  Bruichladdich Octomore 8.1        8.86  0.14  14   \n",
       "1112                 Bruichladdich Octomore 10.1        8.85  0.19   5   \n",
       "1118                  Bruichladdich Octomore 6.3        8.82  0.62  12   \n",
       "1124                  Bruichladdich Octomore 6.1        8.79  0.30  21   \n",
       "1136                  Bruichladdich Octomore 9.1        8.75  0.35  10   \n",
       "1144                  Bruichladdich Octomore 7.4        8.72  0.60  13   \n",
       "1171                 Bruichladdich Octomore 10.4        8.36  0.84   3   \n",
       "\n",
       "                Class Cluster   Country  Type Ages  \n",
       "1052  SingleMalt-like       J  Scotland  Malt   10  \n",
       "1059  SingleMalt-like       J  Scotland  Malt    5  \n",
       "1060  SingleMalt-like       J  Scotland  Malt    5  \n",
       "1061  SingleMalt-like       J  Scotland  Malt    5  \n",
       "1065  SingleMalt-like       J  Scotland  Malt    5  \n",
       "1070  SingleMalt-like       J  Scotland  Malt    5  \n",
       "1077  SingleMalt-like       J  Scotland  Malt    5  \n",
       "1078  SingleMalt-like       J  Scotland  Malt    5  \n",
       "1081  SingleMalt-like       J  Scotland  Malt   10  \n",
       "1085  SingleMalt-like       J  Scotland  Malt    5  \n",
       "1098  SingleMalt-like       J  Scotland  Malt    5  \n",
       "1102  SingleMalt-like       J  Scotland  Malt    5  \n",
       "1104  SingleMalt-like       J  Scotland  Malt    5  \n",
       "1110  SingleMalt-like       J  Scotland  Malt    5  \n",
       "1112  SingleMalt-like       J  Scotland  Malt    5  \n",
       "1118  SingleMalt-like       J  Scotland  Malt    5  \n",
       "1124  SingleMalt-like       J  Scotland  Malt    5  \n",
       "1136  SingleMalt-like       J  Scotland  Malt    5  \n",
       "1144  SingleMalt-like       J  Scotland  Malt    5  \n",
       "1171  SingleMalt-like       J  Scotland  Malt    5  "
      ]
     },
     "execution_count": 56,
     "metadata": {},
     "output_type": "execute_result"
    }
   ],
   "source": [
    "df2.loc[df2['Whisky'].str.contains('Octomore')]"
   ]
  },
  {
   "cell_type": "markdown",
   "metadata": {},
   "source": [
    "Bruichladdich (who also makes Octomore) didn't use the convention when naming its Port Charlotte brand. They just like to do things differently."
   ]
  },
  {
   "cell_type": "code",
   "execution_count": 57,
   "metadata": {},
   "outputs": [
    {
     "data": {
      "text/html": [
       "<div>\n",
       "<style scoped>\n",
       "    .dataframe tbody tr th:only-of-type {\n",
       "        vertical-align: middle;\n",
       "    }\n",
       "\n",
       "    .dataframe tbody tr th {\n",
       "        vertical-align: top;\n",
       "    }\n",
       "\n",
       "    .dataframe thead th {\n",
       "        text-align: right;\n",
       "    }\n",
       "</style>\n",
       "<table border=\"1\" class=\"dataframe\">\n",
       "  <thead>\n",
       "    <tr style=\"text-align: right;\">\n",
       "      <th></th>\n",
       "      <th>Whisky</th>\n",
       "      <th>Meta Critic</th>\n",
       "      <th>STDEV</th>\n",
       "      <th>#</th>\n",
       "      <th>Class</th>\n",
       "      <th>Cluster</th>\n",
       "      <th>Country</th>\n",
       "      <th>Type</th>\n",
       "      <th>Ages</th>\n",
       "    </tr>\n",
       "  </thead>\n",
       "  <tbody>\n",
       "    <tr>\n",
       "      <th>141</th>\n",
       "      <td>Bruichladdich Port Charlotte 2009 MC:01</td>\n",
       "      <td>8.79</td>\n",
       "      <td>0.29</td>\n",
       "      <td>10</td>\n",
       "      <td>SingleMalt-like</td>\n",
       "      <td>C</td>\n",
       "      <td>Scotland</td>\n",
       "      <td>Malt</td>\n",
       "      <td>Unknown</td>\n",
       "    </tr>\n",
       "    <tr>\n",
       "      <th>898</th>\n",
       "      <td>Bruichladdich Port Charlotte 2010 MRC:01</td>\n",
       "      <td>8.98</td>\n",
       "      <td>0.20</td>\n",
       "      <td>12</td>\n",
       "      <td>SingleMalt-like</td>\n",
       "      <td>I</td>\n",
       "      <td>Scotland</td>\n",
       "      <td>Malt</td>\n",
       "      <td>Unknown</td>\n",
       "    </tr>\n",
       "    <tr>\n",
       "      <th>901</th>\n",
       "      <td>Bruichladdich Port Charlotte PC10 Tro Na Linntean</td>\n",
       "      <td>8.96</td>\n",
       "      <td>0.39</td>\n",
       "      <td>12</td>\n",
       "      <td>SingleMalt-like</td>\n",
       "      <td>I</td>\n",
       "      <td>Scotland</td>\n",
       "      <td>Malt</td>\n",
       "      <td>Unknown</td>\n",
       "    </tr>\n",
       "    <tr>\n",
       "      <th>910</th>\n",
       "      <td>Bruichladdich Port Charlotte 2007 CC:01</td>\n",
       "      <td>8.93</td>\n",
       "      <td>0.29</td>\n",
       "      <td>17</td>\n",
       "      <td>SingleMalt-like</td>\n",
       "      <td>I</td>\n",
       "      <td>Scotland</td>\n",
       "      <td>Malt</td>\n",
       "      <td>Unknown</td>\n",
       "    </tr>\n",
       "    <tr>\n",
       "      <th>911</th>\n",
       "      <td>Bruichladdich Port Charlotte PC11 Eorna Na H-Alba</td>\n",
       "      <td>8.93</td>\n",
       "      <td>0.26</td>\n",
       "      <td>6</td>\n",
       "      <td>SingleMalt-like</td>\n",
       "      <td>I</td>\n",
       "      <td>Scotland</td>\n",
       "      <td>Malt</td>\n",
       "      <td>Unknown</td>\n",
       "    </tr>\n",
       "    <tr>\n",
       "      <th>925</th>\n",
       "      <td>Bruichladdich Port Charlotte PC12 Oileanach Fu...</td>\n",
       "      <td>8.87</td>\n",
       "      <td>0.43</td>\n",
       "      <td>13</td>\n",
       "      <td>SingleMalt-like</td>\n",
       "      <td>I</td>\n",
       "      <td>Scotland</td>\n",
       "      <td>Malt</td>\n",
       "      <td>Unknown</td>\n",
       "    </tr>\n",
       "    <tr>\n",
       "      <th>928</th>\n",
       "      <td>Bruichladdich Port Charlotte 10yo Heavily Peat...</td>\n",
       "      <td>8.85</td>\n",
       "      <td>0.36</td>\n",
       "      <td>12</td>\n",
       "      <td>SingleMalt-like</td>\n",
       "      <td>I</td>\n",
       "      <td>Scotland</td>\n",
       "      <td>Malt</td>\n",
       "      <td>10</td>\n",
       "    </tr>\n",
       "    <tr>\n",
       "      <th>930</th>\n",
       "      <td>Bruichladdich Port Charlotte PC10 (Second Edit...</td>\n",
       "      <td>8.84</td>\n",
       "      <td>0.19</td>\n",
       "      <td>7</td>\n",
       "      <td>SingleMalt-like</td>\n",
       "      <td>I</td>\n",
       "      <td>Scotland</td>\n",
       "      <td>Malt</td>\n",
       "      <td>Unknown</td>\n",
       "    </tr>\n",
       "    <tr>\n",
       "      <th>942</th>\n",
       "      <td>Bruichladdich Port Charlotte 10yo Heavily Peat...</td>\n",
       "      <td>8.77</td>\n",
       "      <td>0.21</td>\n",
       "      <td>9</td>\n",
       "      <td>SingleMalt-like</td>\n",
       "      <td>I</td>\n",
       "      <td>Scotland</td>\n",
       "      <td>Malt</td>\n",
       "      <td>10</td>\n",
       "    </tr>\n",
       "    <tr>\n",
       "      <th>950</th>\n",
       "      <td>Bruichladdich Port Charlotte An Turas Mor</td>\n",
       "      <td>8.74</td>\n",
       "      <td>0.27</td>\n",
       "      <td>13</td>\n",
       "      <td>SingleMalt-like</td>\n",
       "      <td>I</td>\n",
       "      <td>Scotland</td>\n",
       "      <td>Malt</td>\n",
       "      <td>Unknown</td>\n",
       "    </tr>\n",
       "    <tr>\n",
       "      <th>959</th>\n",
       "      <td>Bruichladdich Port Charlotte Scottish Barley H...</td>\n",
       "      <td>8.70</td>\n",
       "      <td>0.26</td>\n",
       "      <td>23</td>\n",
       "      <td>SingleMalt-like</td>\n",
       "      <td>I</td>\n",
       "      <td>Scotland</td>\n",
       "      <td>Malt</td>\n",
       "      <td>Unknown</td>\n",
       "    </tr>\n",
       "    <tr>\n",
       "      <th>1133</th>\n",
       "      <td>Bruichladdich Port Charlotte Islay Barley Heav...</td>\n",
       "      <td>8.76</td>\n",
       "      <td>0.18</td>\n",
       "      <td>8</td>\n",
       "      <td>SingleMalt-like</td>\n",
       "      <td>J</td>\n",
       "      <td>Scotland</td>\n",
       "      <td>Malt</td>\n",
       "      <td>Unknown</td>\n",
       "    </tr>\n",
       "    <tr>\n",
       "      <th>1165</th>\n",
       "      <td>Bruichladdich Port Charlotte The Peat Project</td>\n",
       "      <td>8.51</td>\n",
       "      <td>0.38</td>\n",
       "      <td>7</td>\n",
       "      <td>SingleMalt-like</td>\n",
       "      <td>J</td>\n",
       "      <td>Scotland</td>\n",
       "      <td>Malt</td>\n",
       "      <td>Unknown</td>\n",
       "    </tr>\n",
       "  </tbody>\n",
       "</table>\n",
       "</div>"
      ],
      "text/plain": [
       "                                                 Whisky Meta Critic STDEV   #  \\\n",
       "141             Bruichladdich Port Charlotte 2009 MC:01        8.79  0.29  10   \n",
       "898            Bruichladdich Port Charlotte 2010 MRC:01        8.98  0.20  12   \n",
       "901   Bruichladdich Port Charlotte PC10 Tro Na Linntean        8.96  0.39  12   \n",
       "910             Bruichladdich Port Charlotte 2007 CC:01        8.93  0.29  17   \n",
       "911   Bruichladdich Port Charlotte PC11 Eorna Na H-Alba        8.93  0.26   6   \n",
       "925   Bruichladdich Port Charlotte PC12 Oileanach Fu...        8.87  0.43  13   \n",
       "928   Bruichladdich Port Charlotte 10yo Heavily Peat...        8.85  0.36  12   \n",
       "930   Bruichladdich Port Charlotte PC10 (Second Edit...        8.84  0.19   7   \n",
       "942   Bruichladdich Port Charlotte 10yo Heavily Peat...        8.77  0.21   9   \n",
       "950           Bruichladdich Port Charlotte An Turas Mor        8.74  0.27  13   \n",
       "959   Bruichladdich Port Charlotte Scottish Barley H...        8.70  0.26  23   \n",
       "1133  Bruichladdich Port Charlotte Islay Barley Heav...        8.76  0.18   8   \n",
       "1165      Bruichladdich Port Charlotte The Peat Project        8.51  0.38   7   \n",
       "\n",
       "                Class Cluster   Country  Type     Ages  \n",
       "141   SingleMalt-like       C  Scotland  Malt  Unknown  \n",
       "898   SingleMalt-like       I  Scotland  Malt  Unknown  \n",
       "901   SingleMalt-like       I  Scotland  Malt  Unknown  \n",
       "910   SingleMalt-like       I  Scotland  Malt  Unknown  \n",
       "911   SingleMalt-like       I  Scotland  Malt  Unknown  \n",
       "925   SingleMalt-like       I  Scotland  Malt  Unknown  \n",
       "928   SingleMalt-like       I  Scotland  Malt       10  \n",
       "930   SingleMalt-like       I  Scotland  Malt  Unknown  \n",
       "942   SingleMalt-like       I  Scotland  Malt       10  \n",
       "950   SingleMalt-like       I  Scotland  Malt  Unknown  \n",
       "959   SingleMalt-like       I  Scotland  Malt  Unknown  \n",
       "1133  SingleMalt-like       J  Scotland  Malt  Unknown  \n",
       "1165  SingleMalt-like       J  Scotland  Malt  Unknown  "
      ]
     },
     "execution_count": 57,
     "metadata": {},
     "output_type": "execute_result"
    }
   ],
   "source": [
    "df2.loc[df2['Whisky'].str.contains('Charlotte')]"
   ]
  },
  {
   "cell_type": "code",
   "execution_count": 58,
   "metadata": {},
   "outputs": [],
   "source": [
    "df2.at[901, 'Ages']='10'\n",
    "df2.at[911, 'Ages']='11'\n",
    "df2.at[925, 'Ages']='12'\n",
    "df2.at[930, 'Ages']='10'"
   ]
  },
  {
   "cell_type": "markdown",
   "metadata": {},
   "source": [
    "Let's see if we can resolve the rest of the unknowns based on the type."
   ]
  },
  {
   "cell_type": "code",
   "execution_count": 59,
   "metadata": {
    "scrolled": false
   },
   "outputs": [
    {
     "data": {
      "text/plain": [
       "Malt         1158\n",
       "Blend         302\n",
       "Bourbon       209\n",
       "Rye            84\n",
       "Grain           7\n",
       "Wheat           2\n",
       "Whiskey         1\n",
       "Barley          1\n",
       "Flavoured       1\n",
       "Name: Type, dtype: int64"
      ]
     },
     "execution_count": 59,
     "metadata": {},
     "output_type": "execute_result"
    }
   ],
   "source": [
    "df1['Type'].value_counts()"
   ]
  },
  {
   "cell_type": "markdown",
   "metadata": {},
   "source": [
    "Upon a little research, I've found that the minimum age for whiskies is typically 2-3 years. So I'll make a list of whiskies that must be at least 3 years old. Then make a loop that'll go through the dataframe: if the age is 'Unknown' and it corresponds to a member of this list, it'll make it a '3', otherwise, it'll make it a '2'."
   ]
  },
  {
   "cell_type": "code",
   "execution_count": 60,
   "metadata": {},
   "outputs": [],
   "source": [
    "yr3=['Malt','Blend','Grain','Barley'] "
   ]
  },
  {
   "cell_type": "code",
   "execution_count": 61,
   "metadata": {},
   "outputs": [],
   "source": [
    "for a in df2['Whisky'].index:\n",
    "    if df2['Ages'][a] == 'Unknown' and df1['Type'][a] in yr3:\n",
    "        df2.at[a,'Ages']='3'\n",
    "    elif df2['Ages'][a] == 'Unknown' and df1['Type'][a] not in yr3:\n",
    "        df2.at[a,'Ages']='2'\n",
    "    "
   ]
  },
  {
   "cell_type": "code",
   "execution_count": 62,
   "metadata": {
    "scrolled": false
   },
   "outputs": [
    {
     "data": {
      "text/html": [
       "<div>\n",
       "<style scoped>\n",
       "    .dataframe tbody tr th:only-of-type {\n",
       "        vertical-align: middle;\n",
       "    }\n",
       "\n",
       "    .dataframe tbody tr th {\n",
       "        vertical-align: top;\n",
       "    }\n",
       "\n",
       "    .dataframe thead th {\n",
       "        text-align: right;\n",
       "    }\n",
       "</style>\n",
       "<table border=\"1\" class=\"dataframe\">\n",
       "  <thead>\n",
       "    <tr style=\"text-align: right;\">\n",
       "      <th></th>\n",
       "      <th>Whisky</th>\n",
       "      <th>Meta Critic</th>\n",
       "      <th>STDEV</th>\n",
       "      <th>#</th>\n",
       "      <th>Class</th>\n",
       "      <th>Cluster</th>\n",
       "      <th>Country</th>\n",
       "      <th>Type</th>\n",
       "      <th>Ages</th>\n",
       "    </tr>\n",
       "  </thead>\n",
       "  <tbody>\n",
       "    <tr>\n",
       "      <th>0</th>\n",
       "      <td>Macallan 10yo Full Proof 57% 1980 (OB, Giovine...</td>\n",
       "      <td>9.57</td>\n",
       "      <td>0.24</td>\n",
       "      <td>3</td>\n",
       "      <td>SingleMalt-like</td>\n",
       "      <td>A</td>\n",
       "      <td>Scotland</td>\n",
       "      <td>Malt</td>\n",
       "      <td>10</td>\n",
       "    </tr>\n",
       "    <tr>\n",
       "      <th>1</th>\n",
       "      <td>Ledaig 42yo Dusgadh</td>\n",
       "      <td>9.48</td>\n",
       "      <td>0.23</td>\n",
       "      <td>3</td>\n",
       "      <td>SingleMalt-like</td>\n",
       "      <td>C</td>\n",
       "      <td>Scotland</td>\n",
       "      <td>Malt</td>\n",
       "      <td>42</td>\n",
       "    </tr>\n",
       "    <tr>\n",
       "      <th>2</th>\n",
       "      <td>Laphroaig 27yo 57.4% 1980-2007 (OB, 5 Oloroso ...</td>\n",
       "      <td>9.42</td>\n",
       "      <td>0.23</td>\n",
       "      <td>4</td>\n",
       "      <td>SingleMalt-like</td>\n",
       "      <td>C</td>\n",
       "      <td>Scotland</td>\n",
       "      <td>Malt</td>\n",
       "      <td>27</td>\n",
       "    </tr>\n",
       "    <tr>\n",
       "      <th>3</th>\n",
       "      <td>Glenfarclas 40yo</td>\n",
       "      <td>9.29</td>\n",
       "      <td>0.26</td>\n",
       "      <td>17</td>\n",
       "      <td>SingleMalt-like</td>\n",
       "      <td>A</td>\n",
       "      <td>Scotland</td>\n",
       "      <td>Malt</td>\n",
       "      <td>40</td>\n",
       "    </tr>\n",
       "    <tr>\n",
       "      <th>4</th>\n",
       "      <td>Glengoyne 25yo</td>\n",
       "      <td>9.24</td>\n",
       "      <td>0.22</td>\n",
       "      <td>21</td>\n",
       "      <td>SingleMalt-like</td>\n",
       "      <td>A</td>\n",
       "      <td>Scotland</td>\n",
       "      <td>Malt</td>\n",
       "      <td>25</td>\n",
       "    </tr>\n",
       "  </tbody>\n",
       "</table>\n",
       "</div>"
      ],
      "text/plain": [
       "                                              Whisky Meta Critic STDEV   #  \\\n",
       "0  Macallan 10yo Full Proof 57% 1980 (OB, Giovine...        9.57  0.24   3   \n",
       "1                                Ledaig 42yo Dusgadh        9.48  0.23   3   \n",
       "2  Laphroaig 27yo 57.4% 1980-2007 (OB, 5 Oloroso ...        9.42  0.23   4   \n",
       "3                                   Glenfarclas 40yo        9.29  0.26  17   \n",
       "4                                     Glengoyne 25yo        9.24  0.22  21   \n",
       "\n",
       "             Class Cluster   Country  Type Ages  \n",
       "0  SingleMalt-like       A  Scotland  Malt   10  \n",
       "1  SingleMalt-like       C  Scotland  Malt   42  \n",
       "2  SingleMalt-like       C  Scotland  Malt   27  \n",
       "3  SingleMalt-like       A  Scotland  Malt   40  \n",
       "4  SingleMalt-like       A  Scotland  Malt   25  "
      ]
     },
     "execution_count": 62,
     "metadata": {},
     "output_type": "execute_result"
    }
   ],
   "source": [
    "df2.head()"
   ]
  },
  {
   "cell_type": "code",
   "execution_count": 63,
   "metadata": {},
   "outputs": [
    {
     "data": {
      "text/plain": [
       "array(['10', '42', '27', '40', '25', '3', '30', '12', '18', '21', '8',\n",
       "       '16', '17', '20', '19', '15', '35', '13', '14', '11', '22', '26',\n",
       "       '23', '5', '7', '24', '31', '32', '28', '37', '29', '9', '4', '2',\n",
       "       '41', '6'], dtype=object)"
      ]
     },
     "execution_count": 63,
     "metadata": {},
     "output_type": "execute_result"
    }
   ],
   "source": [
    "df2['Ages'].unique()"
   ]
  },
  {
   "cell_type": "markdown",
   "metadata": {},
   "source": [
    "Now we have this Ages no longer has any unknowns. Now we can deal with the rest of the nulls in the data."
   ]
  },
  {
   "cell_type": "code",
   "execution_count": 64,
   "metadata": {},
   "outputs": [
    {
     "name": "stdout",
     "output_type": "stream",
     "text": [
      "<class 'pandas.core.frame.DataFrame'>\n",
      "Int64Index: 1765 entries, 0 to 1766\n",
      "Data columns (total 9 columns):\n",
      " #   Column       Non-Null Count  Dtype \n",
      "---  ------       --------------  ----- \n",
      " 0   Whisky       1765 non-null   object\n",
      " 1   Meta Critic  1765 non-null   object\n",
      " 2   STDEV        1765 non-null   object\n",
      " 3   #            1765 non-null   int64 \n",
      " 4   Class        1765 non-null   object\n",
      " 5   Cluster      1455 non-null   object\n",
      " 6   Country      1765 non-null   object\n",
      " 7   Type         1765 non-null   object\n",
      " 8   Ages         1765 non-null   object\n",
      "dtypes: int64(1), object(8)\n",
      "memory usage: 217.9+ KB\n"
     ]
    }
   ],
   "source": [
    "df2.info()"
   ]
  },
  {
   "cell_type": "markdown",
   "metadata": {},
   "source": [
    "So barring any other invalid values, it looks like only 'Cluster' has nulls, 310 of them to be exact."
   ]
  },
  {
   "cell_type": "code",
   "execution_count": 65,
   "metadata": {},
   "outputs": [
    {
     "data": {
      "text/plain": [
       "array(['A', 'C', 'B', 'F', 'E', 'G', 'H', 'I', 'J', nan, 'R4', 'R2', 'R1',\n",
       "       'R0', 'R3'], dtype=object)"
      ]
     },
     "execution_count": 65,
     "metadata": {},
     "output_type": "execute_result"
    }
   ],
   "source": [
    "df2['Cluster'].unique()"
   ]
  },
  {
   "cell_type": "code",
   "execution_count": 66,
   "metadata": {},
   "outputs": [
    {
     "data": {
      "text/html": [
       "<div>\n",
       "<style scoped>\n",
       "    .dataframe tbody tr th:only-of-type {\n",
       "        vertical-align: middle;\n",
       "    }\n",
       "\n",
       "    .dataframe tbody tr th {\n",
       "        vertical-align: top;\n",
       "    }\n",
       "\n",
       "    .dataframe thead th {\n",
       "        text-align: right;\n",
       "    }\n",
       "</style>\n",
       "<table border=\"1\" class=\"dataframe\">\n",
       "  <thead>\n",
       "    <tr style=\"text-align: right;\">\n",
       "      <th></th>\n",
       "      <th>Whisky</th>\n",
       "      <th>Meta Critic</th>\n",
       "      <th>STDEV</th>\n",
       "      <th>#</th>\n",
       "      <th>Class</th>\n",
       "      <th>Cluster</th>\n",
       "      <th>Country</th>\n",
       "      <th>Type</th>\n",
       "      <th>Ages</th>\n",
       "    </tr>\n",
       "  </thead>\n",
       "  <tbody>\n",
       "    <tr>\n",
       "      <th>1180</th>\n",
       "      <td>Compass Box The General</td>\n",
       "      <td>9.21</td>\n",
       "      <td>0.28</td>\n",
       "      <td>11</td>\n",
       "      <td>Scotch-like</td>\n",
       "      <td>NaN</td>\n",
       "      <td>Scotland</td>\n",
       "      <td>Blend</td>\n",
       "      <td>3</td>\n",
       "    </tr>\n",
       "    <tr>\n",
       "      <th>1181</th>\n",
       "      <td>Black Bull 40yo</td>\n",
       "      <td>9.09</td>\n",
       "      <td>0.35</td>\n",
       "      <td>11</td>\n",
       "      <td>Scotch-like</td>\n",
       "      <td>NaN</td>\n",
       "      <td>Scotland</td>\n",
       "      <td>Blend</td>\n",
       "      <td>40</td>\n",
       "    </tr>\n",
       "    <tr>\n",
       "      <th>1182</th>\n",
       "      <td>Compass Box Hedonism Quindecimus</td>\n",
       "      <td>8.92</td>\n",
       "      <td>0.39</td>\n",
       "      <td>8</td>\n",
       "      <td>Scotch-like</td>\n",
       "      <td>NaN</td>\n",
       "      <td>Scotland</td>\n",
       "      <td>Blend</td>\n",
       "      <td>3</td>\n",
       "    </tr>\n",
       "    <tr>\n",
       "      <th>1183</th>\n",
       "      <td>Compass Box The Circus</td>\n",
       "      <td>8.84</td>\n",
       "      <td>0.29</td>\n",
       "      <td>8</td>\n",
       "      <td>Scotch-like</td>\n",
       "      <td>NaN</td>\n",
       "      <td>Scotland</td>\n",
       "      <td>Blend</td>\n",
       "      <td>3</td>\n",
       "    </tr>\n",
       "    <tr>\n",
       "      <th>1184</th>\n",
       "      <td>Powers 12yo John's Lane</td>\n",
       "      <td>8.84</td>\n",
       "      <td>0.36</td>\n",
       "      <td>19</td>\n",
       "      <td>Scotch-like</td>\n",
       "      <td>NaN</td>\n",
       "      <td>Ireland</td>\n",
       "      <td>Blend</td>\n",
       "      <td>12</td>\n",
       "    </tr>\n",
       "    <tr>\n",
       "      <th>...</th>\n",
       "      <td>...</td>\n",
       "      <td>...</td>\n",
       "      <td>...</td>\n",
       "      <td>...</td>\n",
       "      <td>...</td>\n",
       "      <td>...</td>\n",
       "      <td>...</td>\n",
       "      <td>...</td>\n",
       "      <td>...</td>\n",
       "    </tr>\n",
       "    <tr>\n",
       "      <th>1675</th>\n",
       "      <td>Barrell Whiskey (all Batches)</td>\n",
       "      <td>8.51</td>\n",
       "      <td>0.47</td>\n",
       "      <td>7</td>\n",
       "      <td>Bourbon-like</td>\n",
       "      <td>NaN</td>\n",
       "      <td>USA</td>\n",
       "      <td>Blend</td>\n",
       "      <td>3</td>\n",
       "    </tr>\n",
       "    <tr>\n",
       "      <th>1684</th>\n",
       "      <td>Barrell Infinity Barrel Project (all releases)</td>\n",
       "      <td>8.49</td>\n",
       "      <td>0.34</td>\n",
       "      <td>5</td>\n",
       "      <td>Bourbon-like</td>\n",
       "      <td>NaN</td>\n",
       "      <td>USA</td>\n",
       "      <td>Blend</td>\n",
       "      <td>3</td>\n",
       "    </tr>\n",
       "    <tr>\n",
       "      <th>1686</th>\n",
       "      <td>Barrell Whiskey Batch 005</td>\n",
       "      <td>8.48</td>\n",
       "      <td>0.62</td>\n",
       "      <td>3</td>\n",
       "      <td>Bourbon-like</td>\n",
       "      <td>NaN</td>\n",
       "      <td>USA</td>\n",
       "      <td>Blend</td>\n",
       "      <td>3</td>\n",
       "    </tr>\n",
       "    <tr>\n",
       "      <th>1753</th>\n",
       "      <td>66 Gilead The Wild Oak</td>\n",
       "      <td>7.91</td>\n",
       "      <td>0.57</td>\n",
       "      <td>7</td>\n",
       "      <td>Bourbon-like</td>\n",
       "      <td>NaN</td>\n",
       "      <td>Canada</td>\n",
       "      <td>Blend</td>\n",
       "      <td>3</td>\n",
       "    </tr>\n",
       "    <tr>\n",
       "      <th>1764</th>\n",
       "      <td>Jim Beam Red Stag (Black Cherry)</td>\n",
       "      <td>7.35</td>\n",
       "      <td>1.01</td>\n",
       "      <td>4</td>\n",
       "      <td>Bourbon-like</td>\n",
       "      <td>NaN</td>\n",
       "      <td>USA</td>\n",
       "      <td>Flavoured</td>\n",
       "      <td>2</td>\n",
       "    </tr>\n",
       "  </tbody>\n",
       "</table>\n",
       "<p>310 rows × 9 columns</p>\n",
       "</div>"
      ],
      "text/plain": [
       "                                              Whisky Meta Critic STDEV   #  \\\n",
       "1180                         Compass Box The General        9.21  0.28  11   \n",
       "1181                                 Black Bull 40yo        9.09  0.35  11   \n",
       "1182                Compass Box Hedonism Quindecimus        8.92  0.39   8   \n",
       "1183                          Compass Box The Circus        8.84  0.29   8   \n",
       "1184                         Powers 12yo John's Lane        8.84  0.36  19   \n",
       "...                                              ...         ...   ...  ..   \n",
       "1675                   Barrell Whiskey (all Batches)        8.51  0.47   7   \n",
       "1684  Barrell Infinity Barrel Project (all releases)        8.49  0.34   5   \n",
       "1686                       Barrell Whiskey Batch 005        8.48  0.62   3   \n",
       "1753                          66 Gilead The Wild Oak        7.91  0.57   7   \n",
       "1764                Jim Beam Red Stag (Black Cherry)        7.35  1.01   4   \n",
       "\n",
       "             Class Cluster   Country       Type Ages  \n",
       "1180   Scotch-like     NaN  Scotland      Blend    3  \n",
       "1181   Scotch-like     NaN  Scotland      Blend   40  \n",
       "1182   Scotch-like     NaN  Scotland      Blend    3  \n",
       "1183   Scotch-like     NaN  Scotland      Blend    3  \n",
       "1184   Scotch-like     NaN   Ireland      Blend   12  \n",
       "...            ...     ...       ...        ...  ...  \n",
       "1675  Bourbon-like     NaN       USA      Blend    3  \n",
       "1684  Bourbon-like     NaN       USA      Blend    3  \n",
       "1686  Bourbon-like     NaN       USA      Blend    3  \n",
       "1753  Bourbon-like     NaN    Canada      Blend    3  \n",
       "1764  Bourbon-like     NaN       USA  Flavoured    2  \n",
       "\n",
       "[310 rows x 9 columns]"
      ]
     },
     "execution_count": 66,
     "metadata": {},
     "output_type": "execute_result"
    }
   ],
   "source": [
    "df2.loc[df2['Cluster'].isnull()]"
   ]
  },
  {
   "cell_type": "markdown",
   "metadata": {},
   "source": [
    "My gut tells me the easiest way to fix this is to just make a new cluster category, 'U' for undefined (or unknown). "
   ]
  },
  {
   "cell_type": "code",
   "execution_count": 67,
   "metadata": {},
   "outputs": [],
   "source": [
    "df2[\"Cluster\"].fillna(\"U\", inplace = True)"
   ]
  },
  {
   "cell_type": "code",
   "execution_count": 68,
   "metadata": {},
   "outputs": [
    {
     "name": "stdout",
     "output_type": "stream",
     "text": [
      "<class 'pandas.core.frame.DataFrame'>\n",
      "Int64Index: 1765 entries, 0 to 1766\n",
      "Data columns (total 9 columns):\n",
      " #   Column       Non-Null Count  Dtype \n",
      "---  ------       --------------  ----- \n",
      " 0   Whisky       1765 non-null   object\n",
      " 1   Meta Critic  1765 non-null   object\n",
      " 2   STDEV        1765 non-null   object\n",
      " 3   #            1765 non-null   int64 \n",
      " 4   Class        1765 non-null   object\n",
      " 5   Cluster      1765 non-null   object\n",
      " 6   Country      1765 non-null   object\n",
      " 7   Type         1765 non-null   object\n",
      " 8   Ages         1765 non-null   object\n",
      "dtypes: int64(1), object(8)\n",
      "memory usage: 217.9+ KB\n"
     ]
    }
   ],
   "source": [
    "df2.info()"
   ]
  },
  {
   "cell_type": "markdown",
   "metadata": {},
   "source": [
    "Since 5 of these remaining columns are categorical variables, I think we need to do some getdummies. Since it works better with string variables."
   ]
  },
  {
   "cell_type": "code",
   "execution_count": 69,
   "metadata": {},
   "outputs": [
    {
     "data": {
      "text/html": [
       "<div>\n",
       "<style scoped>\n",
       "    .dataframe tbody tr th:only-of-type {\n",
       "        vertical-align: middle;\n",
       "    }\n",
       "\n",
       "    .dataframe tbody tr th {\n",
       "        vertical-align: top;\n",
       "    }\n",
       "\n",
       "    .dataframe thead th {\n",
       "        text-align: right;\n",
       "    }\n",
       "</style>\n",
       "<table border=\"1\" class=\"dataframe\">\n",
       "  <thead>\n",
       "    <tr style=\"text-align: right;\">\n",
       "      <th></th>\n",
       "      <th>Whisky</th>\n",
       "      <th>Meta Critic</th>\n",
       "      <th>STDEV</th>\n",
       "      <th>#</th>\n",
       "      <th>Class</th>\n",
       "      <th>Cluster</th>\n",
       "      <th>Country</th>\n",
       "      <th>Type</th>\n",
       "      <th>Ages</th>\n",
       "    </tr>\n",
       "  </thead>\n",
       "  <tbody>\n",
       "    <tr>\n",
       "      <th>0</th>\n",
       "      <td>Macallan 10yo Full Proof 57% 1980 (OB, Giovine...</td>\n",
       "      <td>9.57</td>\n",
       "      <td>0.24</td>\n",
       "      <td>3</td>\n",
       "      <td>SingleMalt-like</td>\n",
       "      <td>A</td>\n",
       "      <td>Scotland</td>\n",
       "      <td>Malt</td>\n",
       "      <td>10</td>\n",
       "    </tr>\n",
       "    <tr>\n",
       "      <th>1</th>\n",
       "      <td>Ledaig 42yo Dusgadh</td>\n",
       "      <td>9.48</td>\n",
       "      <td>0.23</td>\n",
       "      <td>3</td>\n",
       "      <td>SingleMalt-like</td>\n",
       "      <td>C</td>\n",
       "      <td>Scotland</td>\n",
       "      <td>Malt</td>\n",
       "      <td>42</td>\n",
       "    </tr>\n",
       "    <tr>\n",
       "      <th>2</th>\n",
       "      <td>Laphroaig 27yo 57.4% 1980-2007 (OB, 5 Oloroso ...</td>\n",
       "      <td>9.42</td>\n",
       "      <td>0.23</td>\n",
       "      <td>4</td>\n",
       "      <td>SingleMalt-like</td>\n",
       "      <td>C</td>\n",
       "      <td>Scotland</td>\n",
       "      <td>Malt</td>\n",
       "      <td>27</td>\n",
       "    </tr>\n",
       "    <tr>\n",
       "      <th>3</th>\n",
       "      <td>Glenfarclas 40yo</td>\n",
       "      <td>9.29</td>\n",
       "      <td>0.26</td>\n",
       "      <td>17</td>\n",
       "      <td>SingleMalt-like</td>\n",
       "      <td>A</td>\n",
       "      <td>Scotland</td>\n",
       "      <td>Malt</td>\n",
       "      <td>40</td>\n",
       "    </tr>\n",
       "    <tr>\n",
       "      <th>4</th>\n",
       "      <td>Glengoyne 25yo</td>\n",
       "      <td>9.24</td>\n",
       "      <td>0.22</td>\n",
       "      <td>21</td>\n",
       "      <td>SingleMalt-like</td>\n",
       "      <td>A</td>\n",
       "      <td>Scotland</td>\n",
       "      <td>Malt</td>\n",
       "      <td>25</td>\n",
       "    </tr>\n",
       "  </tbody>\n",
       "</table>\n",
       "</div>"
      ],
      "text/plain": [
       "                                              Whisky Meta Critic STDEV   #  \\\n",
       "0  Macallan 10yo Full Proof 57% 1980 (OB, Giovine...        9.57  0.24   3   \n",
       "1                                Ledaig 42yo Dusgadh        9.48  0.23   3   \n",
       "2  Laphroaig 27yo 57.4% 1980-2007 (OB, 5 Oloroso ...        9.42  0.23   4   \n",
       "3                                   Glenfarclas 40yo        9.29  0.26  17   \n",
       "4                                     Glengoyne 25yo        9.24  0.22  21   \n",
       "\n",
       "             Class Cluster   Country  Type Ages  \n",
       "0  SingleMalt-like       A  Scotland  Malt   10  \n",
       "1  SingleMalt-like       C  Scotland  Malt   42  \n",
       "2  SingleMalt-like       C  Scotland  Malt   27  \n",
       "3  SingleMalt-like       A  Scotland  Malt   40  \n",
       "4  SingleMalt-like       A  Scotland  Malt   25  "
      ]
     },
     "execution_count": 69,
     "metadata": {},
     "output_type": "execute_result"
    }
   ],
   "source": [
    "df2.head()"
   ]
  },
  {
   "cell_type": "markdown",
   "metadata": {},
   "source": [
    "I'm pretty sure I don't want that name in when I do the modeling, so let's drop it."
   ]
  },
  {
   "cell_type": "code",
   "execution_count": 70,
   "metadata": {},
   "outputs": [],
   "source": [
    "df2.drop('Whisky',axis=1,inplace=True)"
   ]
  },
  {
   "cell_type": "code",
   "execution_count": 71,
   "metadata": {},
   "outputs": [],
   "source": [
    "cat=['Class','Cluster','Country','Type']"
   ]
  },
  {
   "cell_type": "code",
   "execution_count": 72,
   "metadata": {},
   "outputs": [],
   "source": [
    "dums = pd.get_dummies(df2[cat], drop_first=False)"
   ]
  },
  {
   "cell_type": "code",
   "execution_count": 73,
   "metadata": {
    "scrolled": true
   },
   "outputs": [
    {
     "data": {
      "text/html": [
       "<div>\n",
       "<style scoped>\n",
       "    .dataframe tbody tr th:only-of-type {\n",
       "        vertical-align: middle;\n",
       "    }\n",
       "\n",
       "    .dataframe tbody tr th {\n",
       "        vertical-align: top;\n",
       "    }\n",
       "\n",
       "    .dataframe thead th {\n",
       "        text-align: right;\n",
       "    }\n",
       "</style>\n",
       "<table border=\"1\" class=\"dataframe\">\n",
       "  <thead>\n",
       "    <tr style=\"text-align: right;\">\n",
       "      <th></th>\n",
       "      <th>Class_Bourbon-like</th>\n",
       "      <th>Class_Rye-like</th>\n",
       "      <th>Class_Scotch-like</th>\n",
       "      <th>Class_SingleMalt-like</th>\n",
       "      <th>Cluster_A</th>\n",
       "      <th>Cluster_B</th>\n",
       "      <th>Cluster_C</th>\n",
       "      <th>Cluster_E</th>\n",
       "      <th>Cluster_F</th>\n",
       "      <th>Cluster_G</th>\n",
       "      <th>...</th>\n",
       "      <th>Country_Wales</th>\n",
       "      <th>Type_Barley</th>\n",
       "      <th>Type_Blend</th>\n",
       "      <th>Type_Bourbon</th>\n",
       "      <th>Type_Flavoured</th>\n",
       "      <th>Type_Grain</th>\n",
       "      <th>Type_Malt</th>\n",
       "      <th>Type_Rye</th>\n",
       "      <th>Type_Wheat</th>\n",
       "      <th>Type_Whiskey</th>\n",
       "    </tr>\n",
       "  </thead>\n",
       "  <tbody>\n",
       "    <tr>\n",
       "      <th>0</th>\n",
       "      <td>0</td>\n",
       "      <td>0</td>\n",
       "      <td>0</td>\n",
       "      <td>1</td>\n",
       "      <td>1</td>\n",
       "      <td>0</td>\n",
       "      <td>0</td>\n",
       "      <td>0</td>\n",
       "      <td>0</td>\n",
       "      <td>0</td>\n",
       "      <td>...</td>\n",
       "      <td>0</td>\n",
       "      <td>0</td>\n",
       "      <td>0</td>\n",
       "      <td>0</td>\n",
       "      <td>0</td>\n",
       "      <td>0</td>\n",
       "      <td>1</td>\n",
       "      <td>0</td>\n",
       "      <td>0</td>\n",
       "      <td>0</td>\n",
       "    </tr>\n",
       "    <tr>\n",
       "      <th>1</th>\n",
       "      <td>0</td>\n",
       "      <td>0</td>\n",
       "      <td>0</td>\n",
       "      <td>1</td>\n",
       "      <td>0</td>\n",
       "      <td>0</td>\n",
       "      <td>1</td>\n",
       "      <td>0</td>\n",
       "      <td>0</td>\n",
       "      <td>0</td>\n",
       "      <td>...</td>\n",
       "      <td>0</td>\n",
       "      <td>0</td>\n",
       "      <td>0</td>\n",
       "      <td>0</td>\n",
       "      <td>0</td>\n",
       "      <td>0</td>\n",
       "      <td>1</td>\n",
       "      <td>0</td>\n",
       "      <td>0</td>\n",
       "      <td>0</td>\n",
       "    </tr>\n",
       "    <tr>\n",
       "      <th>2</th>\n",
       "      <td>0</td>\n",
       "      <td>0</td>\n",
       "      <td>0</td>\n",
       "      <td>1</td>\n",
       "      <td>0</td>\n",
       "      <td>0</td>\n",
       "      <td>1</td>\n",
       "      <td>0</td>\n",
       "      <td>0</td>\n",
       "      <td>0</td>\n",
       "      <td>...</td>\n",
       "      <td>0</td>\n",
       "      <td>0</td>\n",
       "      <td>0</td>\n",
       "      <td>0</td>\n",
       "      <td>0</td>\n",
       "      <td>0</td>\n",
       "      <td>1</td>\n",
       "      <td>0</td>\n",
       "      <td>0</td>\n",
       "      <td>0</td>\n",
       "    </tr>\n",
       "    <tr>\n",
       "      <th>3</th>\n",
       "      <td>0</td>\n",
       "      <td>0</td>\n",
       "      <td>0</td>\n",
       "      <td>1</td>\n",
       "      <td>1</td>\n",
       "      <td>0</td>\n",
       "      <td>0</td>\n",
       "      <td>0</td>\n",
       "      <td>0</td>\n",
       "      <td>0</td>\n",
       "      <td>...</td>\n",
       "      <td>0</td>\n",
       "      <td>0</td>\n",
       "      <td>0</td>\n",
       "      <td>0</td>\n",
       "      <td>0</td>\n",
       "      <td>0</td>\n",
       "      <td>1</td>\n",
       "      <td>0</td>\n",
       "      <td>0</td>\n",
       "      <td>0</td>\n",
       "    </tr>\n",
       "    <tr>\n",
       "      <th>4</th>\n",
       "      <td>0</td>\n",
       "      <td>0</td>\n",
       "      <td>0</td>\n",
       "      <td>1</td>\n",
       "      <td>1</td>\n",
       "      <td>0</td>\n",
       "      <td>0</td>\n",
       "      <td>0</td>\n",
       "      <td>0</td>\n",
       "      <td>0</td>\n",
       "      <td>...</td>\n",
       "      <td>0</td>\n",
       "      <td>0</td>\n",
       "      <td>0</td>\n",
       "      <td>0</td>\n",
       "      <td>0</td>\n",
       "      <td>0</td>\n",
       "      <td>1</td>\n",
       "      <td>0</td>\n",
       "      <td>0</td>\n",
       "      <td>0</td>\n",
       "    </tr>\n",
       "  </tbody>\n",
       "</table>\n",
       "<p>5 rows × 45 columns</p>\n",
       "</div>"
      ],
      "text/plain": [
       "   Class_Bourbon-like  Class_Rye-like  Class_Scotch-like  \\\n",
       "0                   0               0                  0   \n",
       "1                   0               0                  0   \n",
       "2                   0               0                  0   \n",
       "3                   0               0                  0   \n",
       "4                   0               0                  0   \n",
       "\n",
       "   Class_SingleMalt-like  Cluster_A  Cluster_B  Cluster_C  Cluster_E  \\\n",
       "0                      1          1          0          0          0   \n",
       "1                      1          0          0          1          0   \n",
       "2                      1          0          0          1          0   \n",
       "3                      1          1          0          0          0   \n",
       "4                      1          1          0          0          0   \n",
       "\n",
       "   Cluster_F  Cluster_G  ...  Country_Wales  Type_Barley  Type_Blend  \\\n",
       "0          0          0  ...              0            0           0   \n",
       "1          0          0  ...              0            0           0   \n",
       "2          0          0  ...              0            0           0   \n",
       "3          0          0  ...              0            0           0   \n",
       "4          0          0  ...              0            0           0   \n",
       "\n",
       "   Type_Bourbon  Type_Flavoured  Type_Grain  Type_Malt  Type_Rye  Type_Wheat  \\\n",
       "0             0               0           0          1         0           0   \n",
       "1             0               0           0          1         0           0   \n",
       "2             0               0           0          1         0           0   \n",
       "3             0               0           0          1         0           0   \n",
       "4             0               0           0          1         0           0   \n",
       "\n",
       "   Type_Whiskey  \n",
       "0             0  \n",
       "1             0  \n",
       "2             0  \n",
       "3             0  \n",
       "4             0  \n",
       "\n",
       "[5 rows x 45 columns]"
      ]
     },
     "execution_count": 73,
     "metadata": {},
     "output_type": "execute_result"
    }
   ],
   "source": [
    "dums.head()"
   ]
  },
  {
   "cell_type": "code",
   "execution_count": 74,
   "metadata": {},
   "outputs": [],
   "source": [
    "df2.drop(df2[cat],axis=1,inplace=True)"
   ]
  },
  {
   "cell_type": "code",
   "execution_count": 75,
   "metadata": {},
   "outputs": [],
   "source": [
    "X=df2.merge(dums,right_index=True,left_index=True)"
   ]
  },
  {
   "cell_type": "code",
   "execution_count": 76,
   "metadata": {},
   "outputs": [
    {
     "data": {
      "text/html": [
       "<div>\n",
       "<style scoped>\n",
       "    .dataframe tbody tr th:only-of-type {\n",
       "        vertical-align: middle;\n",
       "    }\n",
       "\n",
       "    .dataframe tbody tr th {\n",
       "        vertical-align: top;\n",
       "    }\n",
       "\n",
       "    .dataframe thead th {\n",
       "        text-align: right;\n",
       "    }\n",
       "</style>\n",
       "<table border=\"1\" class=\"dataframe\">\n",
       "  <thead>\n",
       "    <tr style=\"text-align: right;\">\n",
       "      <th></th>\n",
       "      <th>#</th>\n",
       "      <th>Class_Bourbon-like</th>\n",
       "      <th>Class_Rye-like</th>\n",
       "      <th>Class_Scotch-like</th>\n",
       "      <th>Class_SingleMalt-like</th>\n",
       "      <th>Cluster_A</th>\n",
       "      <th>Cluster_B</th>\n",
       "      <th>Cluster_C</th>\n",
       "      <th>Cluster_E</th>\n",
       "      <th>Cluster_F</th>\n",
       "      <th>...</th>\n",
       "      <th>Country_Wales</th>\n",
       "      <th>Type_Barley</th>\n",
       "      <th>Type_Blend</th>\n",
       "      <th>Type_Bourbon</th>\n",
       "      <th>Type_Flavoured</th>\n",
       "      <th>Type_Grain</th>\n",
       "      <th>Type_Malt</th>\n",
       "      <th>Type_Rye</th>\n",
       "      <th>Type_Wheat</th>\n",
       "      <th>Type_Whiskey</th>\n",
       "    </tr>\n",
       "  </thead>\n",
       "  <tbody>\n",
       "    <tr>\n",
       "      <th>count</th>\n",
       "      <td>1765.000000</td>\n",
       "      <td>1765.000000</td>\n",
       "      <td>1765.000000</td>\n",
       "      <td>1765.000000</td>\n",
       "      <td>1765.000000</td>\n",
       "      <td>1765.000000</td>\n",
       "      <td>1765.000000</td>\n",
       "      <td>1765.000000</td>\n",
       "      <td>1765.000000</td>\n",
       "      <td>1765.000000</td>\n",
       "      <td>...</td>\n",
       "      <td>1765.000000</td>\n",
       "      <td>1765.000000</td>\n",
       "      <td>1765.000000</td>\n",
       "      <td>1765.000000</td>\n",
       "      <td>1765.000000</td>\n",
       "      <td>1765.000000</td>\n",
       "      <td>1765.000000</td>\n",
       "      <td>1765.000000</td>\n",
       "      <td>1765.000000</td>\n",
       "      <td>1765.000000</td>\n",
       "    </tr>\n",
       "    <tr>\n",
       "      <th>mean</th>\n",
       "      <td>11.092351</td>\n",
       "      <td>0.127479</td>\n",
       "      <td>0.128612</td>\n",
       "      <td>0.076487</td>\n",
       "      <td>0.667422</td>\n",
       "      <td>0.058924</td>\n",
       "      <td>0.029462</td>\n",
       "      <td>0.124646</td>\n",
       "      <td>0.132011</td>\n",
       "      <td>0.024363</td>\n",
       "      <td>...</td>\n",
       "      <td>0.004533</td>\n",
       "      <td>0.000567</td>\n",
       "      <td>0.171105</td>\n",
       "      <td>0.118414</td>\n",
       "      <td>0.000567</td>\n",
       "      <td>0.003966</td>\n",
       "      <td>0.656091</td>\n",
       "      <td>0.047592</td>\n",
       "      <td>0.001133</td>\n",
       "      <td>0.000567</td>\n",
       "    </tr>\n",
       "    <tr>\n",
       "      <th>std</th>\n",
       "      <td>6.967285</td>\n",
       "      <td>0.333603</td>\n",
       "      <td>0.334865</td>\n",
       "      <td>0.265851</td>\n",
       "      <td>0.471270</td>\n",
       "      <td>0.235548</td>\n",
       "      <td>0.169145</td>\n",
       "      <td>0.330411</td>\n",
       "      <td>0.338599</td>\n",
       "      <td>0.154216</td>\n",
       "      <td>...</td>\n",
       "      <td>0.067191</td>\n",
       "      <td>0.023803</td>\n",
       "      <td>0.376707</td>\n",
       "      <td>0.323189</td>\n",
       "      <td>0.023803</td>\n",
       "      <td>0.062869</td>\n",
       "      <td>0.475146</td>\n",
       "      <td>0.212962</td>\n",
       "      <td>0.033653</td>\n",
       "      <td>0.023803</td>\n",
       "    </tr>\n",
       "    <tr>\n",
       "      <th>min</th>\n",
       "      <td>3.000000</td>\n",
       "      <td>0.000000</td>\n",
       "      <td>0.000000</td>\n",
       "      <td>0.000000</td>\n",
       "      <td>0.000000</td>\n",
       "      <td>0.000000</td>\n",
       "      <td>0.000000</td>\n",
       "      <td>0.000000</td>\n",
       "      <td>0.000000</td>\n",
       "      <td>0.000000</td>\n",
       "      <td>...</td>\n",
       "      <td>0.000000</td>\n",
       "      <td>0.000000</td>\n",
       "      <td>0.000000</td>\n",
       "      <td>0.000000</td>\n",
       "      <td>0.000000</td>\n",
       "      <td>0.000000</td>\n",
       "      <td>0.000000</td>\n",
       "      <td>0.000000</td>\n",
       "      <td>0.000000</td>\n",
       "      <td>0.000000</td>\n",
       "    </tr>\n",
       "    <tr>\n",
       "      <th>25%</th>\n",
       "      <td>5.000000</td>\n",
       "      <td>0.000000</td>\n",
       "      <td>0.000000</td>\n",
       "      <td>0.000000</td>\n",
       "      <td>0.000000</td>\n",
       "      <td>0.000000</td>\n",
       "      <td>0.000000</td>\n",
       "      <td>0.000000</td>\n",
       "      <td>0.000000</td>\n",
       "      <td>0.000000</td>\n",
       "      <td>...</td>\n",
       "      <td>0.000000</td>\n",
       "      <td>0.000000</td>\n",
       "      <td>0.000000</td>\n",
       "      <td>0.000000</td>\n",
       "      <td>0.000000</td>\n",
       "      <td>0.000000</td>\n",
       "      <td>0.000000</td>\n",
       "      <td>0.000000</td>\n",
       "      <td>0.000000</td>\n",
       "      <td>0.000000</td>\n",
       "    </tr>\n",
       "    <tr>\n",
       "      <th>50%</th>\n",
       "      <td>9.000000</td>\n",
       "      <td>0.000000</td>\n",
       "      <td>0.000000</td>\n",
       "      <td>0.000000</td>\n",
       "      <td>1.000000</td>\n",
       "      <td>0.000000</td>\n",
       "      <td>0.000000</td>\n",
       "      <td>0.000000</td>\n",
       "      <td>0.000000</td>\n",
       "      <td>0.000000</td>\n",
       "      <td>...</td>\n",
       "      <td>0.000000</td>\n",
       "      <td>0.000000</td>\n",
       "      <td>0.000000</td>\n",
       "      <td>0.000000</td>\n",
       "      <td>0.000000</td>\n",
       "      <td>0.000000</td>\n",
       "      <td>1.000000</td>\n",
       "      <td>0.000000</td>\n",
       "      <td>0.000000</td>\n",
       "      <td>0.000000</td>\n",
       "    </tr>\n",
       "    <tr>\n",
       "      <th>75%</th>\n",
       "      <td>15.000000</td>\n",
       "      <td>0.000000</td>\n",
       "      <td>0.000000</td>\n",
       "      <td>0.000000</td>\n",
       "      <td>1.000000</td>\n",
       "      <td>0.000000</td>\n",
       "      <td>0.000000</td>\n",
       "      <td>0.000000</td>\n",
       "      <td>0.000000</td>\n",
       "      <td>0.000000</td>\n",
       "      <td>...</td>\n",
       "      <td>0.000000</td>\n",
       "      <td>0.000000</td>\n",
       "      <td>0.000000</td>\n",
       "      <td>0.000000</td>\n",
       "      <td>0.000000</td>\n",
       "      <td>0.000000</td>\n",
       "      <td>1.000000</td>\n",
       "      <td>0.000000</td>\n",
       "      <td>0.000000</td>\n",
       "      <td>0.000000</td>\n",
       "    </tr>\n",
       "    <tr>\n",
       "      <th>max</th>\n",
       "      <td>34.000000</td>\n",
       "      <td>1.000000</td>\n",
       "      <td>1.000000</td>\n",
       "      <td>1.000000</td>\n",
       "      <td>1.000000</td>\n",
       "      <td>1.000000</td>\n",
       "      <td>1.000000</td>\n",
       "      <td>1.000000</td>\n",
       "      <td>1.000000</td>\n",
       "      <td>1.000000</td>\n",
       "      <td>...</td>\n",
       "      <td>1.000000</td>\n",
       "      <td>1.000000</td>\n",
       "      <td>1.000000</td>\n",
       "      <td>1.000000</td>\n",
       "      <td>1.000000</td>\n",
       "      <td>1.000000</td>\n",
       "      <td>1.000000</td>\n",
       "      <td>1.000000</td>\n",
       "      <td>1.000000</td>\n",
       "      <td>1.000000</td>\n",
       "    </tr>\n",
       "  </tbody>\n",
       "</table>\n",
       "<p>8 rows × 46 columns</p>\n",
       "</div>"
      ],
      "text/plain": [
       "                 #  Class_Bourbon-like  Class_Rye-like  Class_Scotch-like  \\\n",
       "count  1765.000000         1765.000000     1765.000000        1765.000000   \n",
       "mean     11.092351            0.127479        0.128612           0.076487   \n",
       "std       6.967285            0.333603        0.334865           0.265851   \n",
       "min       3.000000            0.000000        0.000000           0.000000   \n",
       "25%       5.000000            0.000000        0.000000           0.000000   \n",
       "50%       9.000000            0.000000        0.000000           0.000000   \n",
       "75%      15.000000            0.000000        0.000000           0.000000   \n",
       "max      34.000000            1.000000        1.000000           1.000000   \n",
       "\n",
       "       Class_SingleMalt-like    Cluster_A    Cluster_B    Cluster_C  \\\n",
       "count            1765.000000  1765.000000  1765.000000  1765.000000   \n",
       "mean                0.667422     0.058924     0.029462     0.124646   \n",
       "std                 0.471270     0.235548     0.169145     0.330411   \n",
       "min                 0.000000     0.000000     0.000000     0.000000   \n",
       "25%                 0.000000     0.000000     0.000000     0.000000   \n",
       "50%                 1.000000     0.000000     0.000000     0.000000   \n",
       "75%                 1.000000     0.000000     0.000000     0.000000   \n",
       "max                 1.000000     1.000000     1.000000     1.000000   \n",
       "\n",
       "         Cluster_E    Cluster_F  ...  Country_Wales  Type_Barley   Type_Blend  \\\n",
       "count  1765.000000  1765.000000  ...    1765.000000  1765.000000  1765.000000   \n",
       "mean      0.132011     0.024363  ...       0.004533     0.000567     0.171105   \n",
       "std       0.338599     0.154216  ...       0.067191     0.023803     0.376707   \n",
       "min       0.000000     0.000000  ...       0.000000     0.000000     0.000000   \n",
       "25%       0.000000     0.000000  ...       0.000000     0.000000     0.000000   \n",
       "50%       0.000000     0.000000  ...       0.000000     0.000000     0.000000   \n",
       "75%       0.000000     0.000000  ...       0.000000     0.000000     0.000000   \n",
       "max       1.000000     1.000000  ...       1.000000     1.000000     1.000000   \n",
       "\n",
       "       Type_Bourbon  Type_Flavoured   Type_Grain    Type_Malt     Type_Rye  \\\n",
       "count   1765.000000     1765.000000  1765.000000  1765.000000  1765.000000   \n",
       "mean       0.118414        0.000567     0.003966     0.656091     0.047592   \n",
       "std        0.323189        0.023803     0.062869     0.475146     0.212962   \n",
       "min        0.000000        0.000000     0.000000     0.000000     0.000000   \n",
       "25%        0.000000        0.000000     0.000000     0.000000     0.000000   \n",
       "50%        0.000000        0.000000     0.000000     1.000000     0.000000   \n",
       "75%        0.000000        0.000000     0.000000     1.000000     0.000000   \n",
       "max        1.000000        1.000000     1.000000     1.000000     1.000000   \n",
       "\n",
       "        Type_Wheat  Type_Whiskey  \n",
       "count  1765.000000   1765.000000  \n",
       "mean      0.001133      0.000567  \n",
       "std       0.033653      0.023803  \n",
       "min       0.000000      0.000000  \n",
       "25%       0.000000      0.000000  \n",
       "50%       0.000000      0.000000  \n",
       "75%       0.000000      0.000000  \n",
       "max       1.000000      1.000000  \n",
       "\n",
       "[8 rows x 46 columns]"
      ]
     },
     "execution_count": 76,
     "metadata": {},
     "output_type": "execute_result"
    }
   ],
   "source": [
    "X.describe()"
   ]
  },
  {
   "cell_type": "code",
   "execution_count": 77,
   "metadata": {
    "scrolled": true
   },
   "outputs": [
    {
     "data": {
      "text/html": [
       "<div>\n",
       "<style scoped>\n",
       "    .dataframe tbody tr th:only-of-type {\n",
       "        vertical-align: middle;\n",
       "    }\n",
       "\n",
       "    .dataframe tbody tr th {\n",
       "        vertical-align: top;\n",
       "    }\n",
       "\n",
       "    .dataframe thead th {\n",
       "        text-align: right;\n",
       "    }\n",
       "</style>\n",
       "<table border=\"1\" class=\"dataframe\">\n",
       "  <thead>\n",
       "    <tr style=\"text-align: right;\">\n",
       "      <th></th>\n",
       "      <th>Meta Critic</th>\n",
       "      <th>STDEV</th>\n",
       "      <th>#</th>\n",
       "      <th>Ages</th>\n",
       "      <th>Class_Bourbon-like</th>\n",
       "      <th>Class_Rye-like</th>\n",
       "      <th>Class_Scotch-like</th>\n",
       "      <th>Class_SingleMalt-like</th>\n",
       "      <th>Cluster_A</th>\n",
       "      <th>Cluster_B</th>\n",
       "      <th>...</th>\n",
       "      <th>Country_Wales</th>\n",
       "      <th>Type_Barley</th>\n",
       "      <th>Type_Blend</th>\n",
       "      <th>Type_Bourbon</th>\n",
       "      <th>Type_Flavoured</th>\n",
       "      <th>Type_Grain</th>\n",
       "      <th>Type_Malt</th>\n",
       "      <th>Type_Rye</th>\n",
       "      <th>Type_Wheat</th>\n",
       "      <th>Type_Whiskey</th>\n",
       "    </tr>\n",
       "  </thead>\n",
       "  <tbody>\n",
       "    <tr>\n",
       "      <th>0</th>\n",
       "      <td>9.57</td>\n",
       "      <td>0.24</td>\n",
       "      <td>3</td>\n",
       "      <td>10</td>\n",
       "      <td>0</td>\n",
       "      <td>0</td>\n",
       "      <td>0</td>\n",
       "      <td>1</td>\n",
       "      <td>1</td>\n",
       "      <td>0</td>\n",
       "      <td>...</td>\n",
       "      <td>0</td>\n",
       "      <td>0</td>\n",
       "      <td>0</td>\n",
       "      <td>0</td>\n",
       "      <td>0</td>\n",
       "      <td>0</td>\n",
       "      <td>1</td>\n",
       "      <td>0</td>\n",
       "      <td>0</td>\n",
       "      <td>0</td>\n",
       "    </tr>\n",
       "    <tr>\n",
       "      <th>1</th>\n",
       "      <td>9.48</td>\n",
       "      <td>0.23</td>\n",
       "      <td>3</td>\n",
       "      <td>42</td>\n",
       "      <td>0</td>\n",
       "      <td>0</td>\n",
       "      <td>0</td>\n",
       "      <td>1</td>\n",
       "      <td>0</td>\n",
       "      <td>0</td>\n",
       "      <td>...</td>\n",
       "      <td>0</td>\n",
       "      <td>0</td>\n",
       "      <td>0</td>\n",
       "      <td>0</td>\n",
       "      <td>0</td>\n",
       "      <td>0</td>\n",
       "      <td>1</td>\n",
       "      <td>0</td>\n",
       "      <td>0</td>\n",
       "      <td>0</td>\n",
       "    </tr>\n",
       "    <tr>\n",
       "      <th>2</th>\n",
       "      <td>9.42</td>\n",
       "      <td>0.23</td>\n",
       "      <td>4</td>\n",
       "      <td>27</td>\n",
       "      <td>0</td>\n",
       "      <td>0</td>\n",
       "      <td>0</td>\n",
       "      <td>1</td>\n",
       "      <td>0</td>\n",
       "      <td>0</td>\n",
       "      <td>...</td>\n",
       "      <td>0</td>\n",
       "      <td>0</td>\n",
       "      <td>0</td>\n",
       "      <td>0</td>\n",
       "      <td>0</td>\n",
       "      <td>0</td>\n",
       "      <td>1</td>\n",
       "      <td>0</td>\n",
       "      <td>0</td>\n",
       "      <td>0</td>\n",
       "    </tr>\n",
       "    <tr>\n",
       "      <th>3</th>\n",
       "      <td>9.29</td>\n",
       "      <td>0.26</td>\n",
       "      <td>17</td>\n",
       "      <td>40</td>\n",
       "      <td>0</td>\n",
       "      <td>0</td>\n",
       "      <td>0</td>\n",
       "      <td>1</td>\n",
       "      <td>1</td>\n",
       "      <td>0</td>\n",
       "      <td>...</td>\n",
       "      <td>0</td>\n",
       "      <td>0</td>\n",
       "      <td>0</td>\n",
       "      <td>0</td>\n",
       "      <td>0</td>\n",
       "      <td>0</td>\n",
       "      <td>1</td>\n",
       "      <td>0</td>\n",
       "      <td>0</td>\n",
       "      <td>0</td>\n",
       "    </tr>\n",
       "    <tr>\n",
       "      <th>4</th>\n",
       "      <td>9.24</td>\n",
       "      <td>0.22</td>\n",
       "      <td>21</td>\n",
       "      <td>25</td>\n",
       "      <td>0</td>\n",
       "      <td>0</td>\n",
       "      <td>0</td>\n",
       "      <td>1</td>\n",
       "      <td>1</td>\n",
       "      <td>0</td>\n",
       "      <td>...</td>\n",
       "      <td>0</td>\n",
       "      <td>0</td>\n",
       "      <td>0</td>\n",
       "      <td>0</td>\n",
       "      <td>0</td>\n",
       "      <td>0</td>\n",
       "      <td>1</td>\n",
       "      <td>0</td>\n",
       "      <td>0</td>\n",
       "      <td>0</td>\n",
       "    </tr>\n",
       "  </tbody>\n",
       "</table>\n",
       "<p>5 rows × 49 columns</p>\n",
       "</div>"
      ],
      "text/plain": [
       "  Meta Critic STDEV   # Ages  Class_Bourbon-like  Class_Rye-like  \\\n",
       "0        9.57  0.24   3   10                   0               0   \n",
       "1        9.48  0.23   3   42                   0               0   \n",
       "2        9.42  0.23   4   27                   0               0   \n",
       "3        9.29  0.26  17   40                   0               0   \n",
       "4        9.24  0.22  21   25                   0               0   \n",
       "\n",
       "   Class_Scotch-like  Class_SingleMalt-like  Cluster_A  Cluster_B  ...  \\\n",
       "0                  0                      1          1          0  ...   \n",
       "1                  0                      1          0          0  ...   \n",
       "2                  0                      1          0          0  ...   \n",
       "3                  0                      1          1          0  ...   \n",
       "4                  0                      1          1          0  ...   \n",
       "\n",
       "   Country_Wales  Type_Barley  Type_Blend  Type_Bourbon  Type_Flavoured  \\\n",
       "0              0            0           0             0               0   \n",
       "1              0            0           0             0               0   \n",
       "2              0            0           0             0               0   \n",
       "3              0            0           0             0               0   \n",
       "4              0            0           0             0               0   \n",
       "\n",
       "   Type_Grain  Type_Malt  Type_Rye  Type_Wheat  Type_Whiskey  \n",
       "0           0          1         0           0             0  \n",
       "1           0          1         0           0             0  \n",
       "2           0          1         0           0             0  \n",
       "3           0          1         0           0             0  \n",
       "4           0          1         0           0             0  \n",
       "\n",
       "[5 rows x 49 columns]"
      ]
     },
     "execution_count": 77,
     "metadata": {},
     "output_type": "execute_result"
    }
   ],
   "source": [
    "X.head()"
   ]
  },
  {
   "cell_type": "markdown",
   "metadata": {},
   "source": [
    "Now I need to make sure all my columns contain numbers, or else I'll get some errors when I start modeling."
   ]
  },
  {
   "cell_type": "code",
   "execution_count": 78,
   "metadata": {},
   "outputs": [],
   "source": [
    "X['Meta Critic']= X['Meta Critic'].astype(float)"
   ]
  },
  {
   "cell_type": "code",
   "execution_count": 79,
   "metadata": {},
   "outputs": [],
   "source": [
    "X['STDEV']=X['STDEV'].astype(float)"
   ]
  },
  {
   "cell_type": "code",
   "execution_count": 80,
   "metadata": {},
   "outputs": [],
   "source": [
    "X['Ages']=X['Ages'].astype(int)"
   ]
  },
  {
   "cell_type": "code",
   "execution_count": 81,
   "metadata": {
    "scrolled": true
   },
   "outputs": [
    {
     "name": "stdout",
     "output_type": "stream",
     "text": [
      "<class 'pandas.core.frame.DataFrame'>\n",
      "Int64Index: 1765 entries, 0 to 1766\n",
      "Data columns (total 49 columns):\n",
      " #   Column                 Non-Null Count  Dtype  \n",
      "---  ------                 --------------  -----  \n",
      " 0   Meta Critic            1765 non-null   float64\n",
      " 1   STDEV                  1765 non-null   float64\n",
      " 2   #                      1765 non-null   int64  \n",
      " 3   Ages                   1765 non-null   int32  \n",
      " 4   Class_Bourbon-like     1765 non-null   uint8  \n",
      " 5   Class_Rye-like         1765 non-null   uint8  \n",
      " 6   Class_Scotch-like      1765 non-null   uint8  \n",
      " 7   Class_SingleMalt-like  1765 non-null   uint8  \n",
      " 8   Cluster_A              1765 non-null   uint8  \n",
      " 9   Cluster_B              1765 non-null   uint8  \n",
      " 10  Cluster_C              1765 non-null   uint8  \n",
      " 11  Cluster_E              1765 non-null   uint8  \n",
      " 12  Cluster_F              1765 non-null   uint8  \n",
      " 13  Cluster_G              1765 non-null   uint8  \n",
      " 14  Cluster_H              1765 non-null   uint8  \n",
      " 15  Cluster_I              1765 non-null   uint8  \n",
      " 16  Cluster_J              1765 non-null   uint8  \n",
      " 17  Cluster_R0             1765 non-null   uint8  \n",
      " 18  Cluster_R1             1765 non-null   uint8  \n",
      " 19  Cluster_R2             1765 non-null   uint8  \n",
      " 20  Cluster_R3             1765 non-null   uint8  \n",
      " 21  Cluster_R4             1765 non-null   uint8  \n",
      " 22  Cluster_U              1765 non-null   uint8  \n",
      " 23  Country_Belgium        1765 non-null   uint8  \n",
      " 24  Country_Canada         1765 non-null   uint8  \n",
      " 25  Country_England        1765 non-null   uint8  \n",
      " 26  Country_Finland        1765 non-null   uint8  \n",
      " 27  Country_France         1765 non-null   uint8  \n",
      " 28  Country_India          1765 non-null   uint8  \n",
      " 29  Country_Ireland        1765 non-null   uint8  \n",
      " 30  Country_Japan          1765 non-null   uint8  \n",
      " 31  Country_Netherlands    1765 non-null   uint8  \n",
      " 32  Country_Scotland       1765 non-null   uint8  \n",
      " 33  Country_South Africa   1765 non-null   uint8  \n",
      " 34  Country_Sweden         1765 non-null   uint8  \n",
      " 35  Country_Switzerland    1765 non-null   uint8  \n",
      " 36  Country_Taiwan         1765 non-null   uint8  \n",
      " 37  Country_Tasmania       1765 non-null   uint8  \n",
      " 38  Country_USA            1765 non-null   uint8  \n",
      " 39  Country_Wales          1765 non-null   uint8  \n",
      " 40  Type_Barley            1765 non-null   uint8  \n",
      " 41  Type_Blend             1765 non-null   uint8  \n",
      " 42  Type_Bourbon           1765 non-null   uint8  \n",
      " 43  Type_Flavoured         1765 non-null   uint8  \n",
      " 44  Type_Grain             1765 non-null   uint8  \n",
      " 45  Type_Malt              1765 non-null   uint8  \n",
      " 46  Type_Rye               1765 non-null   uint8  \n",
      " 47  Type_Wheat             1765 non-null   uint8  \n",
      " 48  Type_Whiskey           1765 non-null   uint8  \n",
      "dtypes: float64(2), int32(1), int64(1), uint8(45)\n",
      "memory usage: 219.6 KB\n"
     ]
    }
   ],
   "source": [
    "X.info()"
   ]
  },
  {
   "cell_type": "markdown",
   "metadata": {},
   "source": [
    "I think we've done a nice amount of data processing. I think we're ready to move on to the modeling."
   ]
  },
  {
   "cell_type": "markdown",
   "metadata": {},
   "source": [
    "### Step 5: Train test split"
   ]
  },
  {
   "cell_type": "code",
   "execution_count": 82,
   "metadata": {
    "scrolled": true
   },
   "outputs": [
    {
     "data": {
      "text/plain": [
       "1765"
      ]
     },
     "execution_count": 82,
     "metadata": {},
     "output_type": "execute_result"
    }
   ],
   "source": [
    "len(y)"
   ]
  },
  {
   "cell_type": "code",
   "execution_count": 83,
   "metadata": {
    "scrolled": true
   },
   "outputs": [
    {
     "data": {
      "text/plain": [
       "array([1, 1, 1, ..., 0, 0, 0], dtype=int64)"
      ]
     },
     "execution_count": 83,
     "metadata": {},
     "output_type": "execute_result"
    }
   ],
   "source": [
    "y.to_numpy()"
   ]
  },
  {
   "cell_type": "code",
   "execution_count": 84,
   "metadata": {},
   "outputs": [
    {
     "data": {
      "text/plain": [
       "(1765,)"
      ]
     },
     "execution_count": 84,
     "metadata": {},
     "output_type": "execute_result"
    }
   ],
   "source": [
    "y.shape"
   ]
  },
  {
   "cell_type": "code",
   "execution_count": 85,
   "metadata": {},
   "outputs": [],
   "source": [
    "X_train,X_test,y_train,y_test=train_test_split(X,y,test_size= 0.25, random_state=42)"
   ]
  },
  {
   "cell_type": "markdown",
   "metadata": {},
   "source": [
    "### Step 6: Start classifying"
   ]
  },
  {
   "cell_type": "markdown",
   "metadata": {},
   "source": [
    "We'll start with logistic regression"
   ]
  },
  {
   "cell_type": "code",
   "execution_count": 86,
   "metadata": {},
   "outputs": [],
   "source": [
    "logreg = LogisticRegression(fit_intercept=False,C=1e12, solver='liblinear')"
   ]
  },
  {
   "cell_type": "code",
   "execution_count": 87,
   "metadata": {},
   "outputs": [],
   "source": [
    "model_log = logreg.fit(X_train, y_train).decision_function(X_test)"
   ]
  },
  {
   "cell_type": "code",
   "execution_count": 88,
   "metadata": {},
   "outputs": [],
   "source": [
    "y_hat_train = logreg.predict(X_train)\n",
    "y_hat_test = logreg.predict(X_test)"
   ]
  },
  {
   "cell_type": "code",
   "execution_count": 89,
   "metadata": {},
   "outputs": [
    {
     "name": "stdout",
     "output_type": "stream",
     "text": [
      "Confusion Matrix:\n",
      " [[277  30]\n",
      " [ 65  70]]\n"
     ]
    }
   ],
   "source": [
    "cnf_matrix = confusion_matrix(y_test, y_hat_test)\n",
    "print('Confusion Matrix:\\n', cnf_matrix)\n"
   ]
  },
  {
   "cell_type": "code",
   "execution_count": 90,
   "metadata": {
    "scrolled": true
   },
   "outputs": [
    {
     "name": "stdout",
     "output_type": "stream",
     "text": [
      "0    1118\n",
      "1     205\n",
      "dtype: int64\n",
      "------------------------------------\n",
      "0    0.845049\n",
      "1    0.154951\n",
      "dtype: float64\n"
     ]
    }
   ],
   "source": [
    "residuals = np.abs(y_train - y_hat_train)\n",
    "print(pd.Series(residuals).value_counts())\n",
    "print('------------------------------------')\n",
    "print(pd.Series(residuals).value_counts(normalize=True))\n"
   ]
  },
  {
   "cell_type": "code",
   "execution_count": 91,
   "metadata": {},
   "outputs": [
    {
     "name": "stdout",
     "output_type": "stream",
     "text": [
      "0    347\n",
      "1     95\n",
      "dtype: int64\n",
      "------------------------------------\n",
      "0    0.785068\n",
      "1    0.214932\n",
      "dtype: float64\n"
     ]
    }
   ],
   "source": [
    "residuals = np.abs(y_test - y_hat_test)\n",
    "print(pd.Series(residuals).value_counts())\n",
    "print('------------------------------------')\n",
    "print(pd.Series(residuals).value_counts(normalize=True))\n"
   ]
  },
  {
   "cell_type": "code",
   "execution_count": 92,
   "metadata": {},
   "outputs": [
    {
     "name": "stdout",
     "output_type": "stream",
     "text": [
      "Training Precision:  0.7784090909090909\n",
      "Testing Precision:  0.7\n",
      "\n",
      "\n",
      "Training Recall:  0.683291770573566\n",
      "Testing Recall:  0.5185185185185185\n",
      "\n",
      "\n",
      "Training Accuracy:  0.8450491307634165\n",
      "Testing Accuracy:  0.7850678733031674\n",
      "\n",
      "\n",
      "Training F1-Score:  0.7277556440903054\n",
      "Testing F1-Score:  0.5957446808510639\n"
     ]
    }
   ],
   "source": [
    "print('Training Precision: ', precision_score(y_train, y_hat_train))\n",
    "print('Testing Precision: ', precision_score(y_test, y_hat_test))\n",
    "print('\\n')\n",
    "\n",
    "print('Training Recall: ', recall_score(y_train, y_hat_train))\n",
    "print('Testing Recall: ', recall_score(y_test, y_hat_test))\n",
    "print('\\n')\n",
    "\n",
    "print('Training Accuracy: ', accuracy_score(y_train, y_hat_train))\n",
    "print('Testing Accuracy: ', accuracy_score(y_test, y_hat_test))\n",
    "print('\\n')\n",
    "\n",
    "print('Training F1-Score: ', f1_score(y_train, y_hat_train))\n",
    "print('Testing F1-Score: ', f1_score(y_test, y_hat_test))\n"
   ]
  },
  {
   "cell_type": "markdown",
   "metadata": {},
   "source": [
    "So for a baseline, this isn't terrible. A little overfit for my tastes (that f1 score on the testing data looks bad). So we'll see how some other models work."
   ]
  },
  {
   "cell_type": "markdown",
   "metadata": {},
   "source": [
    "#### Decision Trees (model #2)"
   ]
  },
  {
   "cell_type": "code",
   "execution_count": 93,
   "metadata": {},
   "outputs": [],
   "source": [
    "tree = DecisionTreeClassifier(criterion='gini')"
   ]
  },
  {
   "cell_type": "code",
   "execution_count": 94,
   "metadata": {},
   "outputs": [
    {
     "data": {
      "text/plain": [
       "DecisionTreeClassifier()"
      ]
     },
     "execution_count": 94,
     "metadata": {},
     "output_type": "execute_result"
    }
   ],
   "source": [
    "tree.fit(X_train, y_train)"
   ]
  },
  {
   "cell_type": "code",
   "execution_count": 95,
   "metadata": {
    "scrolled": true
   },
   "outputs": [
    {
     "data": {
      "image/png": "[encoded data removed]",
      "text/plain": [
       "<Figure size 864x864 with 1 Axes>"
      ]
     },
     "metadata": {
      "needs_background": "light"
     },
     "output_type": "display_data"
    }
   ],
   "source": [
    "#This cell takes a few minutes to run\n",
    "plt.figure(figsize=(12,12))\n",
    "plot_tree(tree, feature_names=X.columns, filled=True)\n",
    "plt.show()"
   ]
  },
  {
   "cell_type": "code",
   "execution_count": 96,
   "metadata": {
    "scrolled": true
   },
   "outputs": [
    {
     "data": {
      "text/plain": [
       "0.7782805429864253"
      ]
     },
     "execution_count": 96,
     "metadata": {},
     "output_type": "execute_result"
    }
   ],
   "source": [
    "tree.score(X_test,y_test)"
   ]
  },
  {
   "cell_type": "code",
   "execution_count": 97,
   "metadata": {},
   "outputs": [],
   "source": [
    "tree2 = DecisionTreeClassifier(criterion='entropy')"
   ]
  },
  {
   "cell_type": "code",
   "execution_count": 98,
   "metadata": {},
   "outputs": [
    {
     "data": {
      "text/plain": [
       "DecisionTreeClassifier(criterion='entropy')"
      ]
     },
     "execution_count": 98,
     "metadata": {},
     "output_type": "execute_result"
    }
   ],
   "source": [
    "tree2.fit(X_train, y_train)"
   ]
  },
  {
   "cell_type": "code",
   "execution_count": 99,
   "metadata": {},
   "outputs": [
    {
     "data": {
      "text/plain": [
       "0.7352941176470589"
      ]
     },
     "execution_count": 99,
     "metadata": {},
     "output_type": "execute_result"
    }
   ],
   "source": [
    "tree2.score(X_test,y_test)"
   ]
  },
  {
   "cell_type": "code",
   "execution_count": 100,
   "metadata": {},
   "outputs": [
    {
     "data": {
      "image/png": "[encoded data removed]",
      "text/plain": [
       "<Figure size 432x288 with 2 Axes>"
      ]
     },
     "metadata": {
      "needs_background": "light"
     },
     "output_type": "display_data"
    }
   ],
   "source": [
    "plot_confusion_matrix(tree2, X_test, y_test ,cmap=plt.cm.Blues)\n",
    "plt.show()"
   ]
  },
  {
   "cell_type": "code",
   "execution_count": 101,
   "metadata": {},
   "outputs": [],
   "source": [
    "#Special thanks to Lindsey Berlin for this code, I added the confusion matrix\n",
    "def evaluate_model(model, X_train, X_test, y_train, y_test):\n",
    "    train_preds = model.predict(X_train)\n",
    "    test_preds = model.predict(X_test)\n",
    "    plot_confusion_matrix(model, X_test, y_test ,cmap=plt.cm.Blues)\n",
    "    plt.show()\n",
    "    \n",
    "    train_preds_proba = model.predict_proba(X_train)[:, 1]\n",
    "    test_preds_proba = model.predict_proba(X_test)[:, 1]  \n",
    "    \n",
    "    print('Train Scores:')\n",
    "    print(f\"Accuracy: {model.score(X_train, y_train):.3f}\")\n",
    "    print(f\"F1 Score: {f1_score(y_train, train_preds):.3f}\")\n",
    "    print(f\"ROC-AUC: {roc_auc_score(y_train, train_preds_proba):.3f}\")\n",
    "    print('Test Scores:')\n",
    "    print(f\"Accuracy: {model.score(X_test, y_test):.3f}\")\n",
    "    print(f\"F1 Score: {f1_score(y_test, test_preds):.3f}\")\n",
    "    print(f\"ROC-AUC: {roc_auc_score(y_test, test_preds_proba):.3f}\")\\\n",
    "    \n"
   ]
  },
  {
   "cell_type": "code",
   "execution_count": 102,
   "metadata": {
    "scrolled": false
   },
   "outputs": [
    {
     "data": {
      "image/png": "[encoded data removed]",
      "text/plain": [
       "<Figure size 432x288 with 2 Axes>"
      ]
     },
     "metadata": {
      "needs_background": "light"
     },
     "output_type": "display_data"
    },
    {
     "name": "stdout",
     "output_type": "stream",
     "text": [
      "Train Scores:\n",
      "Accuracy: 1.000\n",
      "F1 Score: 1.000\n",
      "ROC-AUC: 1.000\n",
      "Test Scores:\n",
      "Accuracy: 0.778\n",
      "F1 Score: 0.634\n",
      "ROC-AUC: 0.737\n"
     ]
    }
   ],
   "source": [
    "evaluate_model(tree, X_train, X_test, y_train, y_test)"
   ]
  },
  {
   "cell_type": "code",
   "execution_count": 103,
   "metadata": {},
   "outputs": [
    {
     "data": {
      "image/png": "[encoded data removed]",
      "text/plain": [
       "<Figure size 432x288 with 2 Axes>"
      ]
     },
     "metadata": {
      "needs_background": "light"
     },
     "output_type": "display_data"
    },
    {
     "name": "stdout",
     "output_type": "stream",
     "text": [
      "Train Scores:\n",
      "Accuracy: 1.000\n",
      "F1 Score: 1.000\n",
      "ROC-AUC: 1.000\n",
      "Test Scores:\n",
      "Accuracy: 0.735\n",
      "F1 Score: 0.562\n",
      "ROC-AUC: 0.685\n"
     ]
    }
   ],
   "source": [
    "evaluate_model(tree2, X_train, X_test, y_train, y_test)"
   ]
  },
  {
   "cell_type": "markdown",
   "metadata": {},
   "source": [
    "There's some serious overfitting with the training set, but that's to be expected. Again, I'm not in love with the scores on the test set. But let's keep moving.\n",
    "Now along with Decision Trees, we'll do a Random Forest."
   ]
  },
  {
   "cell_type": "code",
   "execution_count": 104,
   "metadata": {
    "scrolled": false
   },
   "outputs": [
    {
     "data": {
      "image/png": "[encoded data removed]",
      "text/plain": [
       "<Figure size 432x288 with 2 Axes>"
      ]
     },
     "metadata": {
      "needs_background": "light"
     },
     "output_type": "display_data"
    },
    {
     "name": "stdout",
     "output_type": "stream",
     "text": [
      "Train Scores:\n",
      "Accuracy: 0.883\n",
      "F1 Score: 0.774\n",
      "ROC-AUC: 0.940\n",
      "Test Scores:\n",
      "Accuracy: 0.808\n",
      "F1 Score: 0.601\n",
      "ROC-AUC: 0.865\n"
     ]
    }
   ],
   "source": [
    "rf1 = RandomForestClassifier(max_depth=7, min_samples_split=10, n_estimators=100, random_state=0)\n",
    "rf1.fit(X_train, y_train)\n",
    "\n",
    "evaluate_model(rf1, X_train, X_test, y_train, y_test)\n"
   ]
  },
  {
   "cell_type": "markdown",
   "metadata": {},
   "source": [
    "So there's a real issue with predicting the expensive bottles on this model."
   ]
  },
  {
   "cell_type": "markdown",
   "metadata": {},
   "source": [
    "Let's try it a few more times, but fiddle with the hyperparameters (that's what they're there for)."
   ]
  },
  {
   "cell_type": "code",
   "execution_count": 105,
   "metadata": {},
   "outputs": [
    {
     "data": {
      "image/png": "[encoded data removed]",
      "text/plain": [
       "<Figure size 432x288 with 2 Axes>"
      ]
     },
     "metadata": {
      "needs_background": "light"
     },
     "output_type": "display_data"
    },
    {
     "name": "stdout",
     "output_type": "stream",
     "text": [
      "Train Scores:\n",
      "Accuracy: 0.894\n",
      "F1 Score: 0.802\n",
      "ROC-AUC: 0.957\n",
      "Test Scores:\n",
      "Accuracy: 0.814\n",
      "F1 Score: 0.627\n",
      "ROC-AUC: 0.869\n"
     ]
    }
   ],
   "source": [
    "rf2 = RandomForestClassifier(max_depth=10, min_samples_split=15, n_estimators=100, random_state=0)\n",
    "rf2.fit(X_train, y_train)\n",
    "\n",
    "evaluate_model(rf2, X_train, X_test, y_train, y_test)"
   ]
  },
  {
   "cell_type": "code",
   "execution_count": 106,
   "metadata": {},
   "outputs": [
    {
     "data": {
      "image/png": "[encoded data removed]",
      "text/plain": [
       "<Figure size 432x288 with 2 Axes>"
      ]
     },
     "metadata": {
      "needs_background": "light"
     },
     "output_type": "display_data"
    },
    {
     "name": "stdout",
     "output_type": "stream",
     "text": [
      "Train Scores:\n",
      "Accuracy: 0.961\n",
      "F1 Score: 0.933\n",
      "ROC-AUC: 0.996\n",
      "Test Scores:\n",
      "Accuracy: 0.828\n",
      "F1 Score: 0.670\n",
      "ROC-AUC: 0.867\n"
     ]
    }
   ],
   "source": [
    "rf3 = RandomForestClassifier(max_depth=20, min_samples_split=5, n_estimators=50, random_state=0)\n",
    "rf3.fit(X_train, y_train)\n",
    "\n",
    "evaluate_model(rf3, X_train, X_test, y_train, y_test)"
   ]
  },
  {
   "cell_type": "code",
   "execution_count": 107,
   "metadata": {},
   "outputs": [
    {
     "data": {
      "image/png": "[encoded data removed]",
      "text/plain": [
       "<Figure size 432x288 with 2 Axes>"
      ]
     },
     "metadata": {
      "needs_background": "light"
     },
     "output_type": "display_data"
    },
    {
     "name": "stdout",
     "output_type": "stream",
     "text": [
      "Train Scores:\n",
      "Accuracy: 0.832\n",
      "F1 Score: 0.635\n",
      "ROC-AUC: 0.913\n",
      "Test Scores:\n",
      "Accuracy: 0.774\n",
      "F1 Score: 0.462\n",
      "ROC-AUC: 0.845\n"
     ]
    }
   ],
   "source": [
    "rf4 = RandomForestClassifier(max_depth=5, min_samples_split=15, n_estimators=100, random_state=0)\n",
    "rf4.fit(X_train, y_train)\n",
    "\n",
    "evaluate_model(rf4, X_train, X_test, y_train, y_test)"
   ]
  },
  {
   "cell_type": "markdown",
   "metadata": {},
   "source": [
    "So the deeper we go, the better the scores get, but some of these models are getting more wrong than right."
   ]
  },
  {
   "cell_type": "code",
   "execution_count": 108,
   "metadata": {},
   "outputs": [
    {
     "data": {
      "text/plain": [
       "{'Meta Critic': 0.3450085902315811,\n",
       " 'STDEV': 0.06867386156502786,\n",
       " '#': 0.04577546968176978,\n",
       " 'Ages': 0.31489475853272314,\n",
       " 'Class_Bourbon-like': 0.003053327958033772,\n",
       " 'Class_Rye-like': 0.014775088379028932,\n",
       " 'Class_Scotch-like': 0.003151292212340932,\n",
       " 'Class_SingleMalt-like': 0.01983059600422198,\n",
       " 'Cluster_A': 0.006316096259350864,\n",
       " 'Cluster_B': 0.002383379650119768,\n",
       " 'Cluster_C': 0.009962678234072868,\n",
       " 'Cluster_E': 0.006397264428886974,\n",
       " 'Cluster_F': 0.002467664788080807,\n",
       " 'Cluster_G': 0.006457372473300611,\n",
       " 'Cluster_H': 0.0024052317250940845,\n",
       " 'Cluster_I': 0.0029902425596776113,\n",
       " 'Cluster_J': 0.007719837647431484,\n",
       " 'Cluster_R0': 0.0017272960333496062,\n",
       " 'Cluster_R1': 0.001298766919304654,\n",
       " 'Cluster_R2': 0.0007725846275398857,\n",
       " 'Cluster_R3': 0.0019091030507658018,\n",
       " 'Cluster_R4': 0.0015977918516986162,\n",
       " 'Cluster_U': 0.02979494383372178,\n",
       " 'Country_Belgium': 5.011793641205933e-05,\n",
       " 'Country_Canada': 0.022701467511640056,\n",
       " 'Country_England': 5.756465554997826e-05,\n",
       " 'Country_Finland': 0.0007407521622841761,\n",
       " 'Country_France': 9.091179654500147e-06,\n",
       " 'Country_India': 0.008501102837289252,\n",
       " 'Country_Ireland': 0.00235812863306727,\n",
       " 'Country_Japan': 0.004406505459774526,\n",
       " 'Country_Netherlands': 0.00028971153647630197,\n",
       " 'Country_Scotland': 0.010676519848328896,\n",
       " 'Country_South Africa': 2.5163984695654473e-05,\n",
       " 'Country_Sweden': 0.009579650932509821,\n",
       " 'Country_Switzerland': 0.0005960217714158389,\n",
       " 'Country_Taiwan': 0.002908736008286072,\n",
       " 'Country_Tasmania': 0.0013824310713002235,\n",
       " 'Country_USA': 0.003637017201756514,\n",
       " 'Country_Wales': 0.0002244348020785616,\n",
       " 'Type_Barley': 5.88626771862898e-07,\n",
       " 'Type_Blend': 0.010207343600472154,\n",
       " 'Type_Bourbon': 0.002541517744785857,\n",
       " 'Type_Flavoured': 3.8259986173884234e-05,\n",
       " 'Type_Grain': 0.00014916643164694434,\n",
       " 'Type_Malt': 0.01704024771760103,\n",
       " 'Type_Rye': 0.0025029929693158957,\n",
       " 'Type_Wheat': 1.222674358966684e-05,\n",
       " 'Type_Whiskey': 0.0}"
      ]
     },
     "execution_count": 108,
     "metadata": {},
     "output_type": "execute_result"
    }
   ],
   "source": [
    "feats = rf1.feature_importances_\n",
    "feature_imps = dict(zip(X.columns, feats))\n",
    "feature_imps"
   ]
  },
  {
   "cell_type": "code",
   "execution_count": 109,
   "metadata": {},
   "outputs": [
    {
     "data": {
      "text/plain": [
       "0.8099547511312217"
      ]
     },
     "execution_count": 109,
     "metadata": {},
     "output_type": "execute_result"
    }
   ],
   "source": [
    "ada1 = AdaBoostClassifier(DecisionTreeClassifier(max_depth=5),\n",
    "                         random_state=1, n_estimators=200)\n",
    "ada1.fit(X_train, y_train)\n",
    "ada1.score(X_test,y_test)"
   ]
  },
  {
   "cell_type": "code",
   "execution_count": 110,
   "metadata": {
    "scrolled": false
   },
   "outputs": [
    {
     "data": {
      "image/png": "[encoded data removed]",
      "text/plain": [
       "<Figure size 432x288 with 2 Axes>"
      ]
     },
     "metadata": {
      "needs_background": "light"
     },
     "output_type": "display_data"
    },
    {
     "name": "stdout",
     "output_type": "stream",
     "text": [
      "Train Scores:\n",
      "Accuracy: 1.000\n",
      "F1 Score: 1.000\n",
      "ROC-AUC: 1.000\n",
      "Test Scores:\n",
      "Accuracy: 0.810\n",
      "F1 Score: 0.656\n",
      "ROC-AUC: 0.850\n"
     ]
    }
   ],
   "source": [
    "evaluate_model(ada1, X_train, X_test, y_train, y_test)"
   ]
  },
  {
   "cell_type": "code",
   "execution_count": 111,
   "metadata": {},
   "outputs": [
    {
     "data": {
      "image/png": "[encoded data removed]",
      "text/plain": [
       "<Figure size 432x288 with 2 Axes>"
      ]
     },
     "metadata": {
      "needs_background": "light"
     },
     "output_type": "display_data"
    },
    {
     "name": "stdout",
     "output_type": "stream",
     "text": [
      "Train Scores:\n",
      "Accuracy: 1.000\n",
      "F1 Score: 1.000\n",
      "ROC-AUC: 1.000\n",
      "Test Scores:\n",
      "Accuracy: 0.814\n",
      "F1 Score: 0.647\n",
      "ROC-AUC: 0.861\n"
     ]
    }
   ],
   "source": [
    "ada2 = AdaBoostClassifier(DecisionTreeClassifier(max_depth=10),\n",
    "                         random_state=1, n_estimators=200)\n",
    "ada2.fit(X_train, y_train)\n",
    "evaluate_model(ada2, X_train, X_test, y_train, y_test)"
   ]
  },
  {
   "cell_type": "code",
   "execution_count": 112,
   "metadata": {},
   "outputs": [
    {
     "data": {
      "image/png": "[encoded data removed]",
      "text/plain": [
       "<Figure size 432x288 with 2 Axes>"
      ]
     },
     "metadata": {
      "needs_background": "light"
     },
     "output_type": "display_data"
    },
    {
     "name": "stdout",
     "output_type": "stream",
     "text": [
      "Train Scores:\n",
      "Accuracy: 1.000\n",
      "F1 Score: 1.000\n",
      "ROC-AUC: 1.000\n",
      "Test Scores:\n",
      "Accuracy: 0.826\n",
      "F1 Score: 0.678\n",
      "ROC-AUC: 0.869\n"
     ]
    }
   ],
   "source": [
    "ada3 = AdaBoostClassifier(DecisionTreeClassifier(max_depth=15),\n",
    "                         random_state=1, n_estimators=200)\n",
    "ada3.fit(X_train, y_train)\n",
    "evaluate_model(ada3, X_train, X_test, y_train, y_test)"
   ]
  },
  {
   "cell_type": "markdown",
   "metadata": {},
   "source": [
    "So increasing the depth on the AdaBoost didn't help the test scores at all. Weird. I guess because it's fitting so well to the training data, it's causing more error in the test set."
   ]
  },
  {
   "cell_type": "markdown",
   "metadata": {},
   "source": [
    "Let's see how the Gradient Boosting works."
   ]
  },
  {
   "cell_type": "code",
   "execution_count": 113,
   "metadata": {},
   "outputs": [
    {
     "data": {
      "text/plain": [
       "0.7873303167420814"
      ]
     },
     "execution_count": 113,
     "metadata": {},
     "output_type": "execute_result"
    }
   ],
   "source": [
    "gbm1 = GradientBoostingClassifier(learning_rate=0.01, random_state=1)\n",
    "gbm1.fit(X_train, y_train)\n",
    "gbm1.score(X_test,y_test)"
   ]
  },
  {
   "cell_type": "code",
   "execution_count": 114,
   "metadata": {
    "scrolled": false
   },
   "outputs": [
    {
     "data": {
      "image/png": "[encoded data removed]",
      "text/plain": [
       "<Figure size 432x288 with 2 Axes>"
      ]
     },
     "metadata": {
      "needs_background": "light"
     },
     "output_type": "display_data"
    },
    {
     "name": "stdout",
     "output_type": "stream",
     "text": [
      "Train Scores:\n",
      "Accuracy: 0.834\n",
      "F1 Score: 0.645\n",
      "ROC-AUC: 0.894\n",
      "Test Scores:\n",
      "Accuracy: 0.787\n",
      "F1 Score: 0.515\n",
      "ROC-AUC: 0.848\n"
     ]
    }
   ],
   "source": [
    "evaluate_model(gbm1, X_train, X_test, y_train, y_test)"
   ]
  },
  {
   "cell_type": "code",
   "execution_count": 115,
   "metadata": {},
   "outputs": [
    {
     "data": {
      "text/plain": [
       "0.8054298642533937"
      ]
     },
     "execution_count": 115,
     "metadata": {},
     "output_type": "execute_result"
    }
   ],
   "source": [
    "gbm2 = GradientBoostingClassifier(learning_rate=0.05, random_state=1)\n",
    "gbm2.fit(X_train, y_train)\n",
    "gbm2.score(X_test,y_test)"
   ]
  },
  {
   "cell_type": "code",
   "execution_count": 116,
   "metadata": {
    "scrolled": true
   },
   "outputs": [
    {
     "data": {
      "image/png": "[encoded data removed]",
      "text/plain": [
       "<Figure size 432x288 with 2 Axes>"
      ]
     },
     "metadata": {
      "needs_background": "light"
     },
     "output_type": "display_data"
    },
    {
     "name": "stdout",
     "output_type": "stream",
     "text": [
      "Train Scores:\n",
      "Accuracy: 0.878\n",
      "F1 Score: 0.772\n",
      "ROC-AUC: 0.937\n",
      "Test Scores:\n",
      "Accuracy: 0.805\n",
      "F1 Score: 0.623\n",
      "ROC-AUC: 0.877\n"
     ]
    }
   ],
   "source": [
    "evaluate_model(gbm2, X_train, X_test, y_train, y_test)"
   ]
  },
  {
   "cell_type": "code",
   "execution_count": 117,
   "metadata": {},
   "outputs": [
    {
     "data": {
      "text/plain": [
       "0.8167420814479638"
      ]
     },
     "execution_count": 117,
     "metadata": {},
     "output_type": "execute_result"
    }
   ],
   "source": [
    "gbm3 = GradientBoostingClassifier(learning_rate=0.1, random_state=1)\n",
    "gbm3.fit(X_train, y_train)\n",
    "gbm3.score(X_test,y_test)"
   ]
  },
  {
   "cell_type": "code",
   "execution_count": 118,
   "metadata": {},
   "outputs": [
    {
     "data": {
      "image/png": "[encoded data removed]",
      "text/plain": [
       "<Figure size 432x288 with 2 Axes>"
      ]
     },
     "metadata": {
      "needs_background": "light"
     },
     "output_type": "display_data"
    },
    {
     "name": "stdout",
     "output_type": "stream",
     "text": [
      "Train Scores:\n",
      "Accuracy: 0.899\n",
      "F1 Score: 0.819\n",
      "ROC-AUC: 0.957\n",
      "Test Scores:\n",
      "Accuracy: 0.817\n",
      "F1 Score: 0.658\n",
      "ROC-AUC: 0.885\n"
     ]
    }
   ],
   "source": [
    "evaluate_model(gbm3, X_train, X_test, y_train, y_test)"
   ]
  },
  {
   "cell_type": "markdown",
   "metadata": {},
   "source": [
    "So now let's try the XGBoost: "
   ]
  },
  {
   "cell_type": "code",
   "execution_count": 119,
   "metadata": {},
   "outputs": [
    {
     "data": {
      "text/plain": [
       "0.7828054298642534"
      ]
     },
     "execution_count": 119,
     "metadata": {},
     "output_type": "execute_result"
    }
   ],
   "source": [
    "import xgboost as xgb\n",
    "xgb1 = xgb.XGBClassifier(random_state=1, learning_rate=0.01)\n",
    "\n",
    "xgb1.fit(X_train, y_train)\n",
    "xgb1.score(X_test,y_test)"
   ]
  },
  {
   "cell_type": "code",
   "execution_count": 120,
   "metadata": {
    "scrolled": true
   },
   "outputs": [
    {
     "data": {
      "image/png": "[encoded data removed]",
      "text/plain": [
       "<Figure size 432x288 with 2 Axes>"
      ]
     },
     "metadata": {
      "needs_background": "light"
     },
     "output_type": "display_data"
    },
    {
     "name": "stdout",
     "output_type": "stream",
     "text": [
      "Train Scores:\n",
      "Accuracy: 0.840\n",
      "F1 Score: 0.688\n",
      "ROC-AUC: 0.889\n",
      "Test Scores:\n",
      "Accuracy: 0.783\n",
      "F1 Score: 0.547\n",
      "ROC-AUC: 0.843\n"
     ]
    }
   ],
   "source": [
    "evaluate_model(xgb1, X_train, X_test, y_train, y_test)"
   ]
  },
  {
   "cell_type": "code",
   "execution_count": 121,
   "metadata": {},
   "outputs": [
    {
     "data": {
      "text/plain": [
       "XGBClassifier(learning_rate=0.05, random_state=1)"
      ]
     },
     "execution_count": 121,
     "metadata": {},
     "output_type": "execute_result"
    }
   ],
   "source": [
    "xgb2 = xgb.XGBClassifier(random_state=1, learning_rate=0.05)\n",
    "xgb2.fit(X_train, y_train)"
   ]
  },
  {
   "cell_type": "code",
   "execution_count": 122,
   "metadata": {},
   "outputs": [
    {
     "data": {
      "image/png": "[encoded data removed]",
      "text/plain": [
       "<Figure size 432x288 with 2 Axes>"
      ]
     },
     "metadata": {
      "needs_background": "light"
     },
     "output_type": "display_data"
    },
    {
     "name": "stdout",
     "output_type": "stream",
     "text": [
      "Train Scores:\n",
      "Accuracy: 0.865\n",
      "F1 Score: 0.751\n",
      "ROC-AUC: 0.928\n",
      "Test Scores:\n",
      "Accuracy: 0.810\n",
      "F1 Score: 0.638\n",
      "ROC-AUC: 0.873\n"
     ]
    }
   ],
   "source": [
    "evaluate_model(xgb2, X_train, X_test, y_train, y_test)"
   ]
  },
  {
   "cell_type": "code",
   "execution_count": 123,
   "metadata": {},
   "outputs": [
    {
     "data": {
      "text/plain": [
       "XGBClassifier(random_state=1)"
      ]
     },
     "execution_count": 123,
     "metadata": {},
     "output_type": "execute_result"
    }
   ],
   "source": [
    "xgb3 = xgb.XGBClassifier(random_state=1, learning_rate=0.1)\n",
    "xgb3.fit(X_train, y_train)"
   ]
  },
  {
   "cell_type": "code",
   "execution_count": 124,
   "metadata": {},
   "outputs": [
    {
     "data": {
      "image/png": "[encoded data removed]",
      "text/plain": [
       "<Figure size 432x288 with 2 Axes>"
      ]
     },
     "metadata": {
      "needs_background": "light"
     },
     "output_type": "display_data"
    },
    {
     "name": "stdout",
     "output_type": "stream",
     "text": [
      "Train Scores:\n",
      "Accuracy: 0.884\n",
      "F1 Score: 0.790\n",
      "ROC-AUC: 0.946\n",
      "Test Scores:\n",
      "Accuracy: 0.819\n",
      "F1 Score: 0.664\n",
      "ROC-AUC: 0.885\n"
     ]
    }
   ],
   "source": [
    "evaluate_model(xgb3, X_train, X_test, y_train, y_test)"
   ]
  },
  {
   "cell_type": "code",
   "execution_count": 125,
   "metadata": {},
   "outputs": [
    {
     "data": {
      "text/plain": [
       "{'criterion': 'entropy', 'max_depth': 5, 'min_samples_split': 3}"
      ]
     },
     "execution_count": 125,
     "metadata": {},
     "output_type": "execute_result"
    }
   ],
   "source": [
    "clf = DecisionTreeClassifier()\n",
    "\n",
    "param_grid = {\n",
    "    'criterion': ['gini', 'entropy'],\n",
    "    'max_depth': [1, 2, 5, 10],\n",
    "    'min_samples_split': [3, 5, 10, 20]\n",
    "}\n",
    "\n",
    "gs_tree = GridSearchCV(clf, param_grid, cv=3)\n",
    "gs_tree.fit(X_train, y_train)\n",
    "\n",
    "gs_testing_score = gs_tree.score(X_test, y_test)\n",
    "gs_tree.best_params_\n"
   ]
  },
  {
   "cell_type": "code",
   "execution_count": 126,
   "metadata": {},
   "outputs": [
    {
     "data": {
      "image/png": "[encoded data removed]",
      "text/plain": [
       "<Figure size 432x288 with 2 Axes>"
      ]
     },
     "metadata": {
      "needs_background": "light"
     },
     "output_type": "display_data"
    },
    {
     "name": "stdout",
     "output_type": "stream",
     "text": [
      "Train Scores:\n",
      "Accuracy: 0.850\n",
      "F1 Score: 0.739\n",
      "ROC-AUC: 0.903\n",
      "Test Scores:\n",
      "Accuracy: 0.812\n",
      "F1 Score: 0.658\n",
      "ROC-AUC: 0.813\n"
     ]
    }
   ],
   "source": [
    "gs_testing_score\n",
    "evaluate_model(gs_tree, X_train, X_test, y_train, y_test)"
   ]
  },
  {
   "cell_type": "markdown",
   "metadata": {},
   "source": [
    "Let's look at these, and see how they compare."
   ]
  },
  {
   "cell_type": "code",
   "execution_count": 127,
   "metadata": {},
   "outputs": [
    {
     "data": {
      "image/png": "[encoded data removed]",
      "text/plain": [
       "<Figure size 432x288 with 1 Axes>"
      ]
     },
     "metadata": {
      "needs_background": "light"
     },
     "output_type": "display_data"
    }
   ],
   "source": [
    "models = [tree, rf1, ada1, gbm1, xgb1]\n",
    "\n",
    "fig, ax = plt.subplots()\n",
    "\n",
    "for model in models:\n",
    "    plot_roc_curve(model, X_test, y_test, ax=ax)"
   ]
  },
  {
   "cell_type": "code",
   "execution_count": 128,
   "metadata": {},
   "outputs": [],
   "source": [
    "svc_lin1 = SVC(kernel='linear', C=1)\n",
    "svc_lin1.fit(X_train, y_train)\n",
    "\n",
    "y_pred_train = svc_lin1.predict(X_train)\n",
    "y_pred_test = svc_lin1.predict(X_test)"
   ]
  },
  {
   "cell_type": "code",
   "execution_count": 129,
   "metadata": {},
   "outputs": [
    {
     "name": "stdout",
     "output_type": "stream",
     "text": [
      "              precision    recall  f1-score   support\n",
      "\n",
      "           0       0.82      0.91      0.86       307\n",
      "           1       0.72      0.53      0.61       135\n",
      "\n",
      "    accuracy                           0.79       442\n",
      "   macro avg       0.77      0.72      0.74       442\n",
      "weighted avg       0.79      0.79      0.78       442\n",
      "\n",
      "Train accuracy: 0.8466\n",
      "Test accuracy: 0.7941\n"
     ]
    },
    {
     "data": {
      "image/png": "[encoded data removed]",
      "text/plain": [
       "<Figure size 432x288 with 2 Axes>"
      ]
     },
     "metadata": {
      "needs_background": "light"
     },
     "output_type": "display_data"
    }
   ],
   "source": [
    "print(classification_report(y_test, y_pred_test)) \n",
    "print(f\"Train accuracy: {accuracy_score(y_train, y_pred_train):.4f}\")\n",
    "print(f\"Test accuracy: {accuracy_score(y_test, y_pred_test):.4f}\")\n",
    "\n",
    "plot_confusion_matrix(svc_lin1, X_test, y_test)\n",
    "plt.show()"
   ]
  },
  {
   "cell_type": "code",
   "execution_count": 130,
   "metadata": {},
   "outputs": [
    {
     "name": "stdout",
     "output_type": "stream",
     "text": [
      "              precision    recall  f1-score   support\n",
      "\n",
      "           0       0.76      0.96      0.85       307\n",
      "           1       0.78      0.32      0.45       135\n",
      "\n",
      "    accuracy                           0.76       442\n",
      "   macro avg       0.77      0.64      0.65       442\n",
      "weighted avg       0.77      0.76      0.73       442\n",
      "\n",
      "Train accuracy: 0.7952\n",
      "Test accuracy: 0.7647\n"
     ]
    },
    {
     "data": {
      "image/png": "[encoded data removed]",
      "text/plain": [
       "<Figure size 432x288 with 2 Axes>"
      ]
     },
     "metadata": {
      "needs_background": "light"
     },
     "output_type": "display_data"
    }
   ],
   "source": [
    "svc_rbf1 = SVC(kernel='rbf', C=1, gamma='scale') \n",
    "svc_rbf1.fit(X_train, y_train)\n",
    "\n",
    "y_pred_train = svc_rbf1.predict(X_train)\n",
    "y_pred_test = svc_rbf1.predict(X_test)\n",
    "print(classification_report(y_test, y_pred_test)) \n",
    "print(f\"Train accuracy: {accuracy_score(y_train, y_pred_train):.4f}\")\n",
    "print(f\"Test accuracy: {accuracy_score(y_test, y_pred_test):.4f}\")\n",
    "\n",
    "plot_confusion_matrix(svc_rbf1, X_test, y_test)\n",
    "plt.show()"
   ]
  },
  {
   "cell_type": "code",
   "execution_count": 131,
   "metadata": {},
   "outputs": [
    {
     "name": "stdout",
     "output_type": "stream",
     "text": [
      "              precision    recall  f1-score   support\n",
      "\n",
      "           0       0.76      0.97      0.85       307\n",
      "           1       0.80      0.30      0.44       135\n",
      "\n",
      "    accuracy                           0.76       442\n",
      "   macro avg       0.78      0.64      0.65       442\n",
      "weighted avg       0.77      0.76      0.73       442\n",
      "\n",
      "Train accuracy: 0.8005\n",
      "Test accuracy: 0.7647\n"
     ]
    },
    {
     "data": {
      "image/png": "[encoded data removed]",
      "text/plain": [
       "<Figure size 432x288 with 2 Axes>"
      ]
     },
     "metadata": {
      "needs_background": "light"
     },
     "output_type": "display_data"
    }
   ],
   "source": [
    "svc_poly1 = SVC(kernel='poly', C=1, gamma='scale', degree=3) # using mostly default values here\n",
    "svc_poly1.fit(X_train, y_train)\n",
    "\n",
    "y_pred_train = svc_poly1.predict(X_train)\n",
    "y_pred_test = svc_poly1.predict(X_test)\n",
    "print(classification_report(y_test, y_pred_test)) \n",
    "print(f\"Train accuracy: {accuracy_score(y_train, y_pred_train):.4f}\")\n",
    "print(f\"Test accuracy: {accuracy_score(y_test, y_pred_test):.4f}\")\n",
    "\n",
    "plot_confusion_matrix(svc_poly1, X_test, y_test)\n",
    "plt.show()"
   ]
  },
  {
   "cell_type": "markdown",
   "metadata": {},
   "source": [
    "It looks like the clear winner of the SVM is the linear kernel at least it has more correct True predictions than incorrect. So let's use linear and try different C values."
   ]
  },
  {
   "cell_type": "code",
   "execution_count": 132,
   "metadata": {
    "scrolled": false
   },
   "outputs": [
    {
     "data": {
      "image/png": "[encoded data removed]",
      "text/plain": [
       "<Figure size 432x288 with 2 Axes>"
      ]
     },
     "metadata": {
      "needs_background": "light"
     },
     "output_type": "display_data"
    },
    {
     "name": "stdout",
     "output_type": "stream",
     "text": [
      "-----\n",
      "Results at C = 0.01\n",
      "              precision    recall  f1-score   support\n",
      "\n",
      "           0       0.77      0.96      0.86       307\n",
      "           1       0.80      0.36      0.50       135\n",
      "\n",
      "    accuracy                           0.78       442\n",
      "   macro avg       0.79      0.66      0.68       442\n",
      "weighted avg       0.78      0.78      0.75       442\n",
      "\n",
      "Train accuracy: 0.8156\n",
      "Test accuracy: 0.7783\n"
     ]
    },
    {
     "data": {
      "image/png": "[encoded data removed]",
      "text/plain": [
       "<Figure size 432x288 with 2 Axes>"
      ]
     },
     "metadata": {
      "needs_background": "light"
     },
     "output_type": "display_data"
    },
    {
     "name": "stdout",
     "output_type": "stream",
     "text": [
      "-----\n",
      "Results at C = 1\n",
      "              precision    recall  f1-score   support\n",
      "\n",
      "           0       0.82      0.91      0.86       307\n",
      "           1       0.72      0.53      0.61       135\n",
      "\n",
      "    accuracy                           0.79       442\n",
      "   macro avg       0.77      0.72      0.74       442\n",
      "weighted avg       0.79      0.79      0.78       442\n",
      "\n",
      "Train accuracy: 0.8466\n",
      "Test accuracy: 0.7941\n"
     ]
    },
    {
     "data": {
      "image/png": "[encoded data removed]",
      "text/plain": [
       "<Figure size 432x288 with 2 Axes>"
      ]
     },
     "metadata": {
      "needs_background": "light"
     },
     "output_type": "display_data"
    },
    {
     "name": "stdout",
     "output_type": "stream",
     "text": [
      "-----\n",
      "Results at C = 10\n",
      "              precision    recall  f1-score   support\n",
      "\n",
      "           0       0.82      0.91      0.86       307\n",
      "           1       0.72      0.53      0.61       135\n",
      "\n",
      "    accuracy                           0.79       442\n",
      "   macro avg       0.77      0.72      0.74       442\n",
      "weighted avg       0.79      0.79      0.78       442\n",
      "\n",
      "Train accuracy: 0.8534\n",
      "Test accuracy: 0.7941\n"
     ]
    },
    {
     "data": {
      "image/png": "[encoded data removed]",
      "text/plain": [
       "<Figure size 432x288 with 2 Axes>"
      ]
     },
     "metadata": {
      "needs_background": "light"
     },
     "output_type": "display_data"
    },
    {
     "name": "stdout",
     "output_type": "stream",
     "text": [
      "-----\n",
      "Results at C = 100\n",
      "              precision    recall  f1-score   support\n",
      "\n",
      "           0       0.82      0.91      0.86       307\n",
      "           1       0.72      0.55      0.62       135\n",
      "\n",
      "    accuracy                           0.80       442\n",
      "   macro avg       0.77      0.73      0.74       442\n",
      "weighted avg       0.79      0.80      0.79       442\n",
      "\n",
      "Train accuracy: 0.8541\n",
      "Test accuracy: 0.7964\n"
     ]
    }
   ],
   "source": [
    "for c in [.01,1,10,100]:  \n",
    "    svc_c = SVC(kernel='linear', C=c, gamma='scale') # going linear again\n",
    "    svc_c.fit(X_train, y_train)\n",
    "\n",
    "    y_pred_train = svc_c.predict(X_train)\n",
    "    y_pred_test = svc_c.predict(X_test)\n",
    "    plot_confusion_matrix(svc_c, X_test, y_test)\n",
    "    plt.show()\n",
    "    \n",
    "    print(\"-----\")\n",
    "    print(f'Results at C = {c}')\n",
    "    print(classification_report(y_test, y_pred_test)) \n",
    "    print(f\"Train accuracy: {accuracy_score(y_train, y_pred_train):.4f}\")\n",
    "    print(f\"Test accuracy: {accuracy_score(y_test, y_pred_test):.4f}\")"
   ]
  },
  {
   "cell_type": "markdown",
   "metadata": {},
   "source": [
    "It looks like we're reaching an upper limit of .85/.79 with C=10, anything above that seems to not matter.\n",
    "So just to try something else, I want to see what scores we get when we don't use the meta critic data."
   ]
  },
  {
   "cell_type": "code",
   "execution_count": 133,
   "metadata": {},
   "outputs": [
    {
     "data": {
      "text/html": [
       "<div>\n",
       "<style scoped>\n",
       "    .dataframe tbody tr th:only-of-type {\n",
       "        vertical-align: middle;\n",
       "    }\n",
       "\n",
       "    .dataframe tbody tr th {\n",
       "        vertical-align: top;\n",
       "    }\n",
       "\n",
       "    .dataframe thead th {\n",
       "        text-align: right;\n",
       "    }\n",
       "</style>\n",
       "<table border=\"1\" class=\"dataframe\">\n",
       "  <thead>\n",
       "    <tr style=\"text-align: right;\">\n",
       "      <th></th>\n",
       "      <th>Meta Critic</th>\n",
       "      <th>STDEV</th>\n",
       "      <th>#</th>\n",
       "      <th>Ages</th>\n",
       "      <th>Class_Bourbon-like</th>\n",
       "      <th>Class_Rye-like</th>\n",
       "      <th>Class_Scotch-like</th>\n",
       "      <th>Class_SingleMalt-like</th>\n",
       "      <th>Cluster_A</th>\n",
       "      <th>Cluster_B</th>\n",
       "      <th>...</th>\n",
       "      <th>Country_Wales</th>\n",
       "      <th>Type_Barley</th>\n",
       "      <th>Type_Blend</th>\n",
       "      <th>Type_Bourbon</th>\n",
       "      <th>Type_Flavoured</th>\n",
       "      <th>Type_Grain</th>\n",
       "      <th>Type_Malt</th>\n",
       "      <th>Type_Rye</th>\n",
       "      <th>Type_Wheat</th>\n",
       "      <th>Type_Whiskey</th>\n",
       "    </tr>\n",
       "  </thead>\n",
       "  <tbody>\n",
       "    <tr>\n",
       "      <th>0</th>\n",
       "      <td>9.57</td>\n",
       "      <td>0.24</td>\n",
       "      <td>3</td>\n",
       "      <td>10</td>\n",
       "      <td>0</td>\n",
       "      <td>0</td>\n",
       "      <td>0</td>\n",
       "      <td>1</td>\n",
       "      <td>1</td>\n",
       "      <td>0</td>\n",
       "      <td>...</td>\n",
       "      <td>0</td>\n",
       "      <td>0</td>\n",
       "      <td>0</td>\n",
       "      <td>0</td>\n",
       "      <td>0</td>\n",
       "      <td>0</td>\n",
       "      <td>1</td>\n",
       "      <td>0</td>\n",
       "      <td>0</td>\n",
       "      <td>0</td>\n",
       "    </tr>\n",
       "    <tr>\n",
       "      <th>1</th>\n",
       "      <td>9.48</td>\n",
       "      <td>0.23</td>\n",
       "      <td>3</td>\n",
       "      <td>42</td>\n",
       "      <td>0</td>\n",
       "      <td>0</td>\n",
       "      <td>0</td>\n",
       "      <td>1</td>\n",
       "      <td>0</td>\n",
       "      <td>0</td>\n",
       "      <td>...</td>\n",
       "      <td>0</td>\n",
       "      <td>0</td>\n",
       "      <td>0</td>\n",
       "      <td>0</td>\n",
       "      <td>0</td>\n",
       "      <td>0</td>\n",
       "      <td>1</td>\n",
       "      <td>0</td>\n",
       "      <td>0</td>\n",
       "      <td>0</td>\n",
       "    </tr>\n",
       "    <tr>\n",
       "      <th>2</th>\n",
       "      <td>9.42</td>\n",
       "      <td>0.23</td>\n",
       "      <td>4</td>\n",
       "      <td>27</td>\n",
       "      <td>0</td>\n",
       "      <td>0</td>\n",
       "      <td>0</td>\n",
       "      <td>1</td>\n",
       "      <td>0</td>\n",
       "      <td>0</td>\n",
       "      <td>...</td>\n",
       "      <td>0</td>\n",
       "      <td>0</td>\n",
       "      <td>0</td>\n",
       "      <td>0</td>\n",
       "      <td>0</td>\n",
       "      <td>0</td>\n",
       "      <td>1</td>\n",
       "      <td>0</td>\n",
       "      <td>0</td>\n",
       "      <td>0</td>\n",
       "    </tr>\n",
       "    <tr>\n",
       "      <th>3</th>\n",
       "      <td>9.29</td>\n",
       "      <td>0.26</td>\n",
       "      <td>17</td>\n",
       "      <td>40</td>\n",
       "      <td>0</td>\n",
       "      <td>0</td>\n",
       "      <td>0</td>\n",
       "      <td>1</td>\n",
       "      <td>1</td>\n",
       "      <td>0</td>\n",
       "      <td>...</td>\n",
       "      <td>0</td>\n",
       "      <td>0</td>\n",
       "      <td>0</td>\n",
       "      <td>0</td>\n",
       "      <td>0</td>\n",
       "      <td>0</td>\n",
       "      <td>1</td>\n",
       "      <td>0</td>\n",
       "      <td>0</td>\n",
       "      <td>0</td>\n",
       "    </tr>\n",
       "    <tr>\n",
       "      <th>4</th>\n",
       "      <td>9.24</td>\n",
       "      <td>0.22</td>\n",
       "      <td>21</td>\n",
       "      <td>25</td>\n",
       "      <td>0</td>\n",
       "      <td>0</td>\n",
       "      <td>0</td>\n",
       "      <td>1</td>\n",
       "      <td>1</td>\n",
       "      <td>0</td>\n",
       "      <td>...</td>\n",
       "      <td>0</td>\n",
       "      <td>0</td>\n",
       "      <td>0</td>\n",
       "      <td>0</td>\n",
       "      <td>0</td>\n",
       "      <td>0</td>\n",
       "      <td>1</td>\n",
       "      <td>0</td>\n",
       "      <td>0</td>\n",
       "      <td>0</td>\n",
       "    </tr>\n",
       "  </tbody>\n",
       "</table>\n",
       "<p>5 rows × 49 columns</p>\n",
       "</div>"
      ],
      "text/plain": [
       "   Meta Critic  STDEV   #  Ages  Class_Bourbon-like  Class_Rye-like  \\\n",
       "0         9.57   0.24   3    10                   0               0   \n",
       "1         9.48   0.23   3    42                   0               0   \n",
       "2         9.42   0.23   4    27                   0               0   \n",
       "3         9.29   0.26  17    40                   0               0   \n",
       "4         9.24   0.22  21    25                   0               0   \n",
       "\n",
       "   Class_Scotch-like  Class_SingleMalt-like  Cluster_A  Cluster_B  ...  \\\n",
       "0                  0                      1          1          0  ...   \n",
       "1                  0                      1          0          0  ...   \n",
       "2                  0                      1          0          0  ...   \n",
       "3                  0                      1          1          0  ...   \n",
       "4                  0                      1          1          0  ...   \n",
       "\n",
       "   Country_Wales  Type_Barley  Type_Blend  Type_Bourbon  Type_Flavoured  \\\n",
       "0              0            0           0             0               0   \n",
       "1              0            0           0             0               0   \n",
       "2              0            0           0             0               0   \n",
       "3              0            0           0             0               0   \n",
       "4              0            0           0             0               0   \n",
       "\n",
       "   Type_Grain  Type_Malt  Type_Rye  Type_Wheat  Type_Whiskey  \n",
       "0           0          1         0           0             0  \n",
       "1           0          1         0           0             0  \n",
       "2           0          1         0           0             0  \n",
       "3           0          1         0           0             0  \n",
       "4           0          1         0           0             0  \n",
       "\n",
       "[5 rows x 49 columns]"
      ]
     },
     "execution_count": 133,
     "metadata": {},
     "output_type": "execute_result"
    }
   ],
   "source": [
    "X.head()"
   ]
  },
  {
   "cell_type": "code",
   "execution_count": 134,
   "metadata": {},
   "outputs": [],
   "source": [
    "drops=['Meta Critic','STDEV','#']"
   ]
  },
  {
   "cell_type": "code",
   "execution_count": 135,
   "metadata": {},
   "outputs": [],
   "source": [
    "X2=X.drop(drops, axis=1)"
   ]
  },
  {
   "cell_type": "code",
   "execution_count": 136,
   "metadata": {
    "scrolled": true
   },
   "outputs": [
    {
     "data": {
      "text/html": [
       "<div>\n",
       "<style scoped>\n",
       "    .dataframe tbody tr th:only-of-type {\n",
       "        vertical-align: middle;\n",
       "    }\n",
       "\n",
       "    .dataframe tbody tr th {\n",
       "        vertical-align: top;\n",
       "    }\n",
       "\n",
       "    .dataframe thead th {\n",
       "        text-align: right;\n",
       "    }\n",
       "</style>\n",
       "<table border=\"1\" class=\"dataframe\">\n",
       "  <thead>\n",
       "    <tr style=\"text-align: right;\">\n",
       "      <th></th>\n",
       "      <th>Ages</th>\n",
       "      <th>Class_Bourbon-like</th>\n",
       "      <th>Class_Rye-like</th>\n",
       "      <th>Class_Scotch-like</th>\n",
       "      <th>Class_SingleMalt-like</th>\n",
       "      <th>Cluster_A</th>\n",
       "      <th>Cluster_B</th>\n",
       "      <th>Cluster_C</th>\n",
       "      <th>Cluster_E</th>\n",
       "      <th>Cluster_F</th>\n",
       "      <th>...</th>\n",
       "      <th>Country_Wales</th>\n",
       "      <th>Type_Barley</th>\n",
       "      <th>Type_Blend</th>\n",
       "      <th>Type_Bourbon</th>\n",
       "      <th>Type_Flavoured</th>\n",
       "      <th>Type_Grain</th>\n",
       "      <th>Type_Malt</th>\n",
       "      <th>Type_Rye</th>\n",
       "      <th>Type_Wheat</th>\n",
       "      <th>Type_Whiskey</th>\n",
       "    </tr>\n",
       "  </thead>\n",
       "  <tbody>\n",
       "    <tr>\n",
       "      <th>0</th>\n",
       "      <td>10</td>\n",
       "      <td>0</td>\n",
       "      <td>0</td>\n",
       "      <td>0</td>\n",
       "      <td>1</td>\n",
       "      <td>1</td>\n",
       "      <td>0</td>\n",
       "      <td>0</td>\n",
       "      <td>0</td>\n",
       "      <td>0</td>\n",
       "      <td>...</td>\n",
       "      <td>0</td>\n",
       "      <td>0</td>\n",
       "      <td>0</td>\n",
       "      <td>0</td>\n",
       "      <td>0</td>\n",
       "      <td>0</td>\n",
       "      <td>1</td>\n",
       "      <td>0</td>\n",
       "      <td>0</td>\n",
       "      <td>0</td>\n",
       "    </tr>\n",
       "    <tr>\n",
       "      <th>1</th>\n",
       "      <td>42</td>\n",
       "      <td>0</td>\n",
       "      <td>0</td>\n",
       "      <td>0</td>\n",
       "      <td>1</td>\n",
       "      <td>0</td>\n",
       "      <td>0</td>\n",
       "      <td>1</td>\n",
       "      <td>0</td>\n",
       "      <td>0</td>\n",
       "      <td>...</td>\n",
       "      <td>0</td>\n",
       "      <td>0</td>\n",
       "      <td>0</td>\n",
       "      <td>0</td>\n",
       "      <td>0</td>\n",
       "      <td>0</td>\n",
       "      <td>1</td>\n",
       "      <td>0</td>\n",
       "      <td>0</td>\n",
       "      <td>0</td>\n",
       "    </tr>\n",
       "    <tr>\n",
       "      <th>2</th>\n",
       "      <td>27</td>\n",
       "      <td>0</td>\n",
       "      <td>0</td>\n",
       "      <td>0</td>\n",
       "      <td>1</td>\n",
       "      <td>0</td>\n",
       "      <td>0</td>\n",
       "      <td>1</td>\n",
       "      <td>0</td>\n",
       "      <td>0</td>\n",
       "      <td>...</td>\n",
       "      <td>0</td>\n",
       "      <td>0</td>\n",
       "      <td>0</td>\n",
       "      <td>0</td>\n",
       "      <td>0</td>\n",
       "      <td>0</td>\n",
       "      <td>1</td>\n",
       "      <td>0</td>\n",
       "      <td>0</td>\n",
       "      <td>0</td>\n",
       "    </tr>\n",
       "    <tr>\n",
       "      <th>3</th>\n",
       "      <td>40</td>\n",
       "      <td>0</td>\n",
       "      <td>0</td>\n",
       "      <td>0</td>\n",
       "      <td>1</td>\n",
       "      <td>1</td>\n",
       "      <td>0</td>\n",
       "      <td>0</td>\n",
       "      <td>0</td>\n",
       "      <td>0</td>\n",
       "      <td>...</td>\n",
       "      <td>0</td>\n",
       "      <td>0</td>\n",
       "      <td>0</td>\n",
       "      <td>0</td>\n",
       "      <td>0</td>\n",
       "      <td>0</td>\n",
       "      <td>1</td>\n",
       "      <td>0</td>\n",
       "      <td>0</td>\n",
       "      <td>0</td>\n",
       "    </tr>\n",
       "    <tr>\n",
       "      <th>4</th>\n",
       "      <td>25</td>\n",
       "      <td>0</td>\n",
       "      <td>0</td>\n",
       "      <td>0</td>\n",
       "      <td>1</td>\n",
       "      <td>1</td>\n",
       "      <td>0</td>\n",
       "      <td>0</td>\n",
       "      <td>0</td>\n",
       "      <td>0</td>\n",
       "      <td>...</td>\n",
       "      <td>0</td>\n",
       "      <td>0</td>\n",
       "      <td>0</td>\n",
       "      <td>0</td>\n",
       "      <td>0</td>\n",
       "      <td>0</td>\n",
       "      <td>1</td>\n",
       "      <td>0</td>\n",
       "      <td>0</td>\n",
       "      <td>0</td>\n",
       "    </tr>\n",
       "  </tbody>\n",
       "</table>\n",
       "<p>5 rows × 46 columns</p>\n",
       "</div>"
      ],
      "text/plain": [
       "   Ages  Class_Bourbon-like  Class_Rye-like  Class_Scotch-like  \\\n",
       "0    10                   0               0                  0   \n",
       "1    42                   0               0                  0   \n",
       "2    27                   0               0                  0   \n",
       "3    40                   0               0                  0   \n",
       "4    25                   0               0                  0   \n",
       "\n",
       "   Class_SingleMalt-like  Cluster_A  Cluster_B  Cluster_C  Cluster_E  \\\n",
       "0                      1          1          0          0          0   \n",
       "1                      1          0          0          1          0   \n",
       "2                      1          0          0          1          0   \n",
       "3                      1          1          0          0          0   \n",
       "4                      1          1          0          0          0   \n",
       "\n",
       "   Cluster_F  ...  Country_Wales  Type_Barley  Type_Blend  Type_Bourbon  \\\n",
       "0          0  ...              0            0           0             0   \n",
       "1          0  ...              0            0           0             0   \n",
       "2          0  ...              0            0           0             0   \n",
       "3          0  ...              0            0           0             0   \n",
       "4          0  ...              0            0           0             0   \n",
       "\n",
       "   Type_Flavoured  Type_Grain  Type_Malt  Type_Rye  Type_Wheat  Type_Whiskey  \n",
       "0               0           0          1         0           0             0  \n",
       "1               0           0          1         0           0             0  \n",
       "2               0           0          1         0           0             0  \n",
       "3               0           0          1         0           0             0  \n",
       "4               0           0          1         0           0             0  \n",
       "\n",
       "[5 rows x 46 columns]"
      ]
     },
     "execution_count": 136,
     "metadata": {},
     "output_type": "execute_result"
    }
   ],
   "source": [
    "X2.head()"
   ]
  },
  {
   "cell_type": "code",
   "execution_count": 137,
   "metadata": {},
   "outputs": [],
   "source": [
    "X_train,X_test,y_train,y_test=train_test_split(X2,y,test_size= 0.25, random_state=42)"
   ]
  },
  {
   "cell_type": "code",
   "execution_count": 138,
   "metadata": {},
   "outputs": [],
   "source": [
    "model_log2 = logreg.fit(X_train, y_train).decision_function(X_test)"
   ]
  },
  {
   "cell_type": "code",
   "execution_count": 139,
   "metadata": {},
   "outputs": [
    {
     "name": "stdout",
     "output_type": "stream",
     "text": [
      "Confusion Matrix:\n",
      " [[275  32]\n",
      " [ 75  60]]\n"
     ]
    }
   ],
   "source": [
    "y_hat_train = logreg.predict(X_train)\n",
    "y_hat_test = logreg.predict(X_test)\n",
    "cnf_matrix = confusion_matrix(y_test, y_hat_test)\n",
    "print('Confusion Matrix:\\n', cnf_matrix)\n"
   ]
  },
  {
   "cell_type": "code",
   "execution_count": 140,
   "metadata": {},
   "outputs": [
    {
     "name": "stdout",
     "output_type": "stream",
     "text": [
      "0    335\n",
      "1    107\n",
      "dtype: int64\n",
      "------------------------------------\n",
      "0    0.757919\n",
      "1    0.242081\n",
      "dtype: float64\n"
     ]
    }
   ],
   "source": [
    "residuals = np.abs(y_test - y_hat_test)\n",
    "print(pd.Series(residuals).value_counts())\n",
    "print('------------------------------------')\n",
    "print(pd.Series(residuals).value_counts(normalize=True))\n"
   ]
  },
  {
   "cell_type": "markdown",
   "metadata": {},
   "source": [
    "So this model is slightly worse. Let's see how the best performing tree model does."
   ]
  },
  {
   "cell_type": "code",
   "execution_count": 141,
   "metadata": {},
   "outputs": [
    {
     "data": {
      "text/plain": [
       "DecisionTreeClassifier()"
      ]
     },
     "execution_count": 141,
     "metadata": {},
     "output_type": "execute_result"
    }
   ],
   "source": [
    "tree.fit(X_train, y_train)"
   ]
  },
  {
   "cell_type": "code",
   "execution_count": 142,
   "metadata": {},
   "outputs": [
    {
     "data": {
      "image/png": "[encoded data removed]",
      "text/plain": [
       "<Figure size 432x288 with 2 Axes>"
      ]
     },
     "metadata": {
      "needs_background": "light"
     },
     "output_type": "display_data"
    },
    {
     "name": "stdout",
     "output_type": "stream",
     "text": [
      "Train Scores:\n",
      "Accuracy: 0.868\n",
      "F1 Score: 0.736\n",
      "ROC-AUC: 0.914\n",
      "Test Scores:\n",
      "Accuracy: 0.790\n",
      "F1 Score: 0.546\n",
      "ROC-AUC: 0.815\n"
     ]
    }
   ],
   "source": [
    "evaluate_model(tree, X_train, X_test, y_train, y_test)"
   ]
  },
  {
   "cell_type": "code",
   "execution_count": 143,
   "metadata": {},
   "outputs": [
    {
     "data": {
      "text/plain": [
       "XGBClassifier(random_state=1)"
      ]
     },
     "execution_count": 143,
     "metadata": {},
     "output_type": "execute_result"
    }
   ],
   "source": [
    "xgb3.fit(X_train, y_train)"
   ]
  },
  {
   "cell_type": "code",
   "execution_count": 144,
   "metadata": {
    "scrolled": false
   },
   "outputs": [
    {
     "data": {
      "image/png": "[encoded data removed]",
      "text/plain": [
       "<Figure size 432x288 with 2 Axes>"
      ]
     },
     "metadata": {
      "needs_background": "light"
     },
     "output_type": "display_data"
    },
    {
     "name": "stdout",
     "output_type": "stream",
     "text": [
      "Train Scores:\n",
      "Accuracy: 0.840\n",
      "F1 Score: 0.666\n",
      "ROC-AUC: 0.873\n",
      "Test Scores:\n",
      "Accuracy: 0.794\n",
      "F1 Score: 0.533\n",
      "ROC-AUC: 0.796\n"
     ]
    }
   ],
   "source": [
    "evaluate_model(xgb3, X_train, X_test, y_train, y_test)"
   ]
  },
  {
   "cell_type": "markdown",
   "metadata": {},
   "source": [
    "So it looks like eliminating those columns made the model worse."
   ]
  },
  {
   "cell_type": "code",
   "execution_count": 145,
   "metadata": {
    "scrolled": false
   },
   "outputs": [
    {
     "data": {
      "image/png": "[encoded data removed]",
      "text/plain": [
       "<Figure size 432x288 with 2 Axes>"
      ]
     },
     "metadata": {
      "needs_background": "light"
     },
     "output_type": "display_data"
    },
    {
     "name": "stdout",
     "output_type": "stream",
     "text": [
      "Train Scores:\n",
      "Accuracy: 0.813\n",
      "F1 Score: 0.581\n",
      "ROC-AUC: 0.779\n",
      "Test Scores:\n",
      "Accuracy: 0.785\n",
      "F1 Score: 0.492\n",
      "ROC-AUC: 0.735\n"
     ]
    }
   ],
   "source": [
    "tree4=DecisionTreeClassifier(criterion='entropy',max_depth=5,min_samples_split=10)\n",
    "tree4.fit(X_train,y_train)\n",
    "evaluate_model(tree4, X_train, X_test, y_train, y_test)"
   ]
  },
  {
   "cell_type": "markdown",
   "metadata": {},
   "source": [
    "So this was one of the best performing models originally, and now the values in the confusion matrix are completely backwards. So it turns out the other columns were needed. I'll put them back here shortly."
   ]
  },
  {
   "cell_type": "code",
   "execution_count": 146,
   "metadata": {},
   "outputs": [],
   "source": [
    "test_pred=tree4.predict(X_test)"
   ]
  },
  {
   "cell_type": "code",
   "execution_count": 147,
   "metadata": {},
   "outputs": [
    {
     "data": {
      "text/plain": [
       "array([0, 0, 0, 0, 0, 0, 0, 1, 1, 0, 0, 1, 0, 0, 0, 1, 0, 1, 1, 1, 0, 0,\n",
       "       0, 0, 0, 0, 0, 0, 0, 0, 0, 0, 0, 0, 0, 0, 0, 0, 0, 1, 0, 1, 0, 0,\n",
       "       0, 0, 0, 0, 1, 0, 0, 1, 0, 0, 0, 0, 0, 0, 0, 0, 0, 0, 0, 0, 0, 0,\n",
       "       0, 0, 0, 0, 0, 0, 1, 0, 0, 0, 0, 0, 0, 0, 1, 0, 0, 1, 0, 0, 0, 0,\n",
       "       0, 0, 0, 0, 0, 0, 0, 0, 1, 0, 0, 0, 0, 0, 0, 0, 0, 0, 0, 0, 0, 1,\n",
       "       0, 0, 0, 0, 0, 1, 0, 0, 0, 0, 0, 0, 0, 0, 0, 1, 0, 0, 0, 0, 0, 0,\n",
       "       0, 0, 0, 0, 0, 1, 0, 0, 0, 0, 0, 0, 0, 0, 0, 0, 0, 0, 0, 0, 0, 0,\n",
       "       0, 0, 0, 0, 0, 0, 0, 0, 1, 0, 0, 0, 0, 0, 0, 0, 0, 0, 0, 0, 1, 0,\n",
       "       0, 0, 0, 0, 0, 0, 0, 0, 0, 0, 0, 0, 0, 0, 0, 0, 0, 0, 0, 0, 0, 1,\n",
       "       0, 0, 0, 0, 1, 0, 0, 0, 0, 0, 0, 0, 0, 0, 0, 0, 0, 0, 0, 0, 0, 0,\n",
       "       0, 1, 0, 0, 0, 0, 1, 0, 0, 0, 0, 0, 0, 0, 0, 0, 0, 0, 0, 0, 0, 1,\n",
       "       0, 0, 1, 0, 0, 0, 0, 0, 0, 0, 1, 0, 0, 0, 0, 0, 0, 1, 0, 0, 0, 0,\n",
       "       0, 0, 1, 0, 0, 0, 0, 0, 0, 0, 0, 1, 0, 0, 0, 0, 0, 0, 0, 1, 1, 0,\n",
       "       0, 0, 0, 0, 0, 0, 0, 0, 0, 0, 0, 0, 0, 1, 0, 0, 0, 0, 0, 0, 0, 0,\n",
       "       0, 0, 0, 0, 0, 0, 0, 1, 0, 0, 0, 0, 0, 0, 1, 0, 0, 0, 0, 0, 0, 0,\n",
       "       0, 0, 0, 0, 0, 0, 0, 0, 0, 0, 0, 0, 1, 0, 0, 0, 0, 1, 0, 0, 0, 0,\n",
       "       0, 0, 1, 0, 0, 0, 0, 0, 0, 1, 0, 1, 1, 0, 0, 0, 0, 0, 1, 1, 1, 0,\n",
       "       0, 0, 0, 0, 0, 0, 0, 1, 1, 0, 0, 0, 0, 0, 0, 0, 0, 1, 0, 0, 0, 0,\n",
       "       0, 0, 0, 0, 0, 0, 0, 0, 0, 0, 0, 0, 0, 0, 0, 0, 1, 0, 1, 0, 0, 0,\n",
       "       0, 0, 1, 1, 0, 0, 0, 0, 0, 0, 0, 0, 0, 0, 0, 0, 0, 0, 0, 0, 0, 0,\n",
       "       0, 0], dtype=int64)"
      ]
     },
     "execution_count": 147,
     "metadata": {},
     "output_type": "execute_result"
    }
   ],
   "source": [
    "test_pred"
   ]
  },
  {
   "cell_type": "code",
   "execution_count": 148,
   "metadata": {},
   "outputs": [
    {
     "data": {
      "text/plain": [
       "1559    0\n",
       "212     0\n",
       "1682    0\n",
       "836     0\n",
       "1245    0\n",
       "       ..\n",
       "1624    0\n",
       "1755    0\n",
       "1318    0\n",
       "1193    0\n",
       "985     0\n",
       "Length: 442, dtype: int64"
      ]
     },
     "execution_count": 148,
     "metadata": {},
     "output_type": "execute_result"
    }
   ],
   "source": [
    "y_test"
   ]
  },
  {
   "cell_type": "code",
   "execution_count": 149,
   "metadata": {},
   "outputs": [],
   "source": [
    "test_df=pd.DataFrame(y_test, columns=['actual'])"
   ]
  },
  {
   "cell_type": "code",
   "execution_count": 150,
   "metadata": {},
   "outputs": [],
   "source": [
    "test_df['pred']=test_pred"
   ]
  },
  {
   "cell_type": "code",
   "execution_count": 151,
   "metadata": {},
   "outputs": [
    {
     "data": {
      "text/html": [
       "<div>\n",
       "<style scoped>\n",
       "    .dataframe tbody tr th:only-of-type {\n",
       "        vertical-align: middle;\n",
       "    }\n",
       "\n",
       "    .dataframe tbody tr th {\n",
       "        vertical-align: top;\n",
       "    }\n",
       "\n",
       "    .dataframe thead th {\n",
       "        text-align: right;\n",
       "    }\n",
       "</style>\n",
       "<table border=\"1\" class=\"dataframe\">\n",
       "  <thead>\n",
       "    <tr style=\"text-align: right;\">\n",
       "      <th></th>\n",
       "      <th>actual</th>\n",
       "      <th>pred</th>\n",
       "    </tr>\n",
       "  </thead>\n",
       "  <tbody>\n",
       "    <tr>\n",
       "      <th>251</th>\n",
       "      <td>0</td>\n",
       "      <td>1</td>\n",
       "    </tr>\n",
       "    <tr>\n",
       "      <th>65</th>\n",
       "      <td>0</td>\n",
       "      <td>1</td>\n",
       "    </tr>\n",
       "    <tr>\n",
       "      <th>755</th>\n",
       "      <td>0</td>\n",
       "      <td>1</td>\n",
       "    </tr>\n",
       "    <tr>\n",
       "      <th>49</th>\n",
       "      <td>0</td>\n",
       "      <td>1</td>\n",
       "    </tr>\n",
       "    <tr>\n",
       "      <th>289</th>\n",
       "      <td>0</td>\n",
       "      <td>1</td>\n",
       "    </tr>\n",
       "    <tr>\n",
       "      <th>543</th>\n",
       "      <td>0</td>\n",
       "      <td>1</td>\n",
       "    </tr>\n",
       "  </tbody>\n",
       "</table>\n",
       "</div>"
      ],
      "text/plain": [
       "     actual  pred\n",
       "251       0     1\n",
       "65        0     1\n",
       "755       0     1\n",
       "49        0     1\n",
       "289       0     1\n",
       "543       0     1"
      ]
     },
     "execution_count": 151,
     "metadata": {},
     "output_type": "execute_result"
    }
   ],
   "source": [
    "test_df.loc[(test_df.actual==0)&(test_df.pred==1)]"
   ]
  },
  {
   "cell_type": "code",
   "execution_count": 152,
   "metadata": {
    "scrolled": true
   },
   "outputs": [
    {
     "data": {
      "text/html": [
       "<div>\n",
       "<style scoped>\n",
       "    .dataframe tbody tr th:only-of-type {\n",
       "        vertical-align: middle;\n",
       "    }\n",
       "\n",
       "    .dataframe tbody tr th {\n",
       "        vertical-align: top;\n",
       "    }\n",
       "\n",
       "    .dataframe thead th {\n",
       "        text-align: right;\n",
       "    }\n",
       "</style>\n",
       "<table border=\"1\" class=\"dataframe\">\n",
       "  <thead>\n",
       "    <tr style=\"text-align: right;\">\n",
       "      <th></th>\n",
       "      <th>Ages</th>\n",
       "      <th>Class_Bourbon-like</th>\n",
       "      <th>Class_Rye-like</th>\n",
       "      <th>Class_Scotch-like</th>\n",
       "      <th>Class_SingleMalt-like</th>\n",
       "      <th>Cluster_A</th>\n",
       "      <th>Cluster_B</th>\n",
       "      <th>Cluster_C</th>\n",
       "      <th>Cluster_E</th>\n",
       "      <th>Cluster_F</th>\n",
       "      <th>...</th>\n",
       "      <th>Country_Wales</th>\n",
       "      <th>Type_Barley</th>\n",
       "      <th>Type_Blend</th>\n",
       "      <th>Type_Bourbon</th>\n",
       "      <th>Type_Flavoured</th>\n",
       "      <th>Type_Grain</th>\n",
       "      <th>Type_Malt</th>\n",
       "      <th>Type_Rye</th>\n",
       "      <th>Type_Wheat</th>\n",
       "      <th>Type_Whiskey</th>\n",
       "    </tr>\n",
       "  </thead>\n",
       "  <tbody>\n",
       "    <tr>\n",
       "      <th>1561</th>\n",
       "      <td>2</td>\n",
       "      <td>1</td>\n",
       "      <td>0</td>\n",
       "      <td>0</td>\n",
       "      <td>0</td>\n",
       "      <td>0</td>\n",
       "      <td>0</td>\n",
       "      <td>0</td>\n",
       "      <td>0</td>\n",
       "      <td>0</td>\n",
       "      <td>...</td>\n",
       "      <td>0</td>\n",
       "      <td>0</td>\n",
       "      <td>0</td>\n",
       "      <td>1</td>\n",
       "      <td>0</td>\n",
       "      <td>0</td>\n",
       "      <td>0</td>\n",
       "      <td>0</td>\n",
       "      <td>0</td>\n",
       "      <td>0</td>\n",
       "    </tr>\n",
       "    <tr>\n",
       "      <th>212</th>\n",
       "      <td>15</td>\n",
       "      <td>0</td>\n",
       "      <td>0</td>\n",
       "      <td>0</td>\n",
       "      <td>1</td>\n",
       "      <td>0</td>\n",
       "      <td>0</td>\n",
       "      <td>1</td>\n",
       "      <td>0</td>\n",
       "      <td>0</td>\n",
       "      <td>...</td>\n",
       "      <td>0</td>\n",
       "      <td>0</td>\n",
       "      <td>0</td>\n",
       "      <td>0</td>\n",
       "      <td>0</td>\n",
       "      <td>0</td>\n",
       "      <td>1</td>\n",
       "      <td>0</td>\n",
       "      <td>0</td>\n",
       "      <td>0</td>\n",
       "    </tr>\n",
       "    <tr>\n",
       "      <th>1684</th>\n",
       "      <td>3</td>\n",
       "      <td>1</td>\n",
       "      <td>0</td>\n",
       "      <td>0</td>\n",
       "      <td>0</td>\n",
       "      <td>0</td>\n",
       "      <td>0</td>\n",
       "      <td>0</td>\n",
       "      <td>0</td>\n",
       "      <td>0</td>\n",
       "      <td>...</td>\n",
       "      <td>0</td>\n",
       "      <td>0</td>\n",
       "      <td>1</td>\n",
       "      <td>0</td>\n",
       "      <td>0</td>\n",
       "      <td>0</td>\n",
       "      <td>0</td>\n",
       "      <td>0</td>\n",
       "      <td>0</td>\n",
       "      <td>0</td>\n",
       "    </tr>\n",
       "    <tr>\n",
       "      <th>837</th>\n",
       "      <td>12</td>\n",
       "      <td>0</td>\n",
       "      <td>0</td>\n",
       "      <td>0</td>\n",
       "      <td>1</td>\n",
       "      <td>0</td>\n",
       "      <td>0</td>\n",
       "      <td>0</td>\n",
       "      <td>0</td>\n",
       "      <td>0</td>\n",
       "      <td>...</td>\n",
       "      <td>0</td>\n",
       "      <td>0</td>\n",
       "      <td>0</td>\n",
       "      <td>0</td>\n",
       "      <td>0</td>\n",
       "      <td>0</td>\n",
       "      <td>1</td>\n",
       "      <td>0</td>\n",
       "      <td>0</td>\n",
       "      <td>0</td>\n",
       "    </tr>\n",
       "    <tr>\n",
       "      <th>1247</th>\n",
       "      <td>3</td>\n",
       "      <td>0</td>\n",
       "      <td>0</td>\n",
       "      <td>1</td>\n",
       "      <td>0</td>\n",
       "      <td>0</td>\n",
       "      <td>0</td>\n",
       "      <td>0</td>\n",
       "      <td>0</td>\n",
       "      <td>0</td>\n",
       "      <td>...</td>\n",
       "      <td>0</td>\n",
       "      <td>0</td>\n",
       "      <td>1</td>\n",
       "      <td>0</td>\n",
       "      <td>0</td>\n",
       "      <td>0</td>\n",
       "      <td>0</td>\n",
       "      <td>0</td>\n",
       "      <td>0</td>\n",
       "      <td>0</td>\n",
       "    </tr>\n",
       "    <tr>\n",
       "      <th>...</th>\n",
       "      <td>...</td>\n",
       "      <td>...</td>\n",
       "      <td>...</td>\n",
       "      <td>...</td>\n",
       "      <td>...</td>\n",
       "      <td>...</td>\n",
       "      <td>...</td>\n",
       "      <td>...</td>\n",
       "      <td>...</td>\n",
       "      <td>...</td>\n",
       "      <td>...</td>\n",
       "      <td>...</td>\n",
       "      <td>...</td>\n",
       "      <td>...</td>\n",
       "      <td>...</td>\n",
       "      <td>...</td>\n",
       "      <td>...</td>\n",
       "      <td>...</td>\n",
       "      <td>...</td>\n",
       "      <td>...</td>\n",
       "      <td>...</td>\n",
       "    </tr>\n",
       "    <tr>\n",
       "      <th>1626</th>\n",
       "      <td>2</td>\n",
       "      <td>1</td>\n",
       "      <td>0</td>\n",
       "      <td>0</td>\n",
       "      <td>0</td>\n",
       "      <td>0</td>\n",
       "      <td>0</td>\n",
       "      <td>0</td>\n",
       "      <td>0</td>\n",
       "      <td>0</td>\n",
       "      <td>...</td>\n",
       "      <td>0</td>\n",
       "      <td>0</td>\n",
       "      <td>0</td>\n",
       "      <td>1</td>\n",
       "      <td>0</td>\n",
       "      <td>0</td>\n",
       "      <td>0</td>\n",
       "      <td>0</td>\n",
       "      <td>0</td>\n",
       "      <td>0</td>\n",
       "    </tr>\n",
       "    <tr>\n",
       "      <th>1757</th>\n",
       "      <td>2</td>\n",
       "      <td>1</td>\n",
       "      <td>0</td>\n",
       "      <td>0</td>\n",
       "      <td>0</td>\n",
       "      <td>0</td>\n",
       "      <td>0</td>\n",
       "      <td>0</td>\n",
       "      <td>0</td>\n",
       "      <td>0</td>\n",
       "      <td>...</td>\n",
       "      <td>0</td>\n",
       "      <td>0</td>\n",
       "      <td>0</td>\n",
       "      <td>1</td>\n",
       "      <td>0</td>\n",
       "      <td>0</td>\n",
       "      <td>0</td>\n",
       "      <td>0</td>\n",
       "      <td>0</td>\n",
       "      <td>0</td>\n",
       "    </tr>\n",
       "    <tr>\n",
       "      <th>1320</th>\n",
       "      <td>2</td>\n",
       "      <td>0</td>\n",
       "      <td>1</td>\n",
       "      <td>0</td>\n",
       "      <td>0</td>\n",
       "      <td>0</td>\n",
       "      <td>0</td>\n",
       "      <td>0</td>\n",
       "      <td>0</td>\n",
       "      <td>0</td>\n",
       "      <td>...</td>\n",
       "      <td>0</td>\n",
       "      <td>0</td>\n",
       "      <td>0</td>\n",
       "      <td>0</td>\n",
       "      <td>0</td>\n",
       "      <td>0</td>\n",
       "      <td>0</td>\n",
       "      <td>1</td>\n",
       "      <td>0</td>\n",
       "      <td>0</td>\n",
       "    </tr>\n",
       "    <tr>\n",
       "      <th>1195</th>\n",
       "      <td>18</td>\n",
       "      <td>0</td>\n",
       "      <td>0</td>\n",
       "      <td>1</td>\n",
       "      <td>0</td>\n",
       "      <td>0</td>\n",
       "      <td>0</td>\n",
       "      <td>0</td>\n",
       "      <td>0</td>\n",
       "      <td>0</td>\n",
       "      <td>...</td>\n",
       "      <td>0</td>\n",
       "      <td>0</td>\n",
       "      <td>1</td>\n",
       "      <td>0</td>\n",
       "      <td>0</td>\n",
       "      <td>0</td>\n",
       "      <td>0</td>\n",
       "      <td>0</td>\n",
       "      <td>0</td>\n",
       "      <td>0</td>\n",
       "    </tr>\n",
       "    <tr>\n",
       "      <th>986</th>\n",
       "      <td>3</td>\n",
       "      <td>0</td>\n",
       "      <td>0</td>\n",
       "      <td>0</td>\n",
       "      <td>1</td>\n",
       "      <td>0</td>\n",
       "      <td>0</td>\n",
       "      <td>0</td>\n",
       "      <td>0</td>\n",
       "      <td>0</td>\n",
       "      <td>...</td>\n",
       "      <td>0</td>\n",
       "      <td>0</td>\n",
       "      <td>0</td>\n",
       "      <td>0</td>\n",
       "      <td>0</td>\n",
       "      <td>0</td>\n",
       "      <td>1</td>\n",
       "      <td>0</td>\n",
       "      <td>0</td>\n",
       "      <td>0</td>\n",
       "    </tr>\n",
       "  </tbody>\n",
       "</table>\n",
       "<p>442 rows × 46 columns</p>\n",
       "</div>"
      ],
      "text/plain": [
       "      Ages  Class_Bourbon-like  Class_Rye-like  Class_Scotch-like  \\\n",
       "1561     2                   1               0                  0   \n",
       "212     15                   0               0                  0   \n",
       "1684     3                   1               0                  0   \n",
       "837     12                   0               0                  0   \n",
       "1247     3                   0               0                  1   \n",
       "...    ...                 ...             ...                ...   \n",
       "1626     2                   1               0                  0   \n",
       "1757     2                   1               0                  0   \n",
       "1320     2                   0               1                  0   \n",
       "1195    18                   0               0                  1   \n",
       "986      3                   0               0                  0   \n",
       "\n",
       "      Class_SingleMalt-like  Cluster_A  Cluster_B  Cluster_C  Cluster_E  \\\n",
       "1561                      0          0          0          0          0   \n",
       "212                       1          0          0          1          0   \n",
       "1684                      0          0          0          0          0   \n",
       "837                       1          0          0          0          0   \n",
       "1247                      0          0          0          0          0   \n",
       "...                     ...        ...        ...        ...        ...   \n",
       "1626                      0          0          0          0          0   \n",
       "1757                      0          0          0          0          0   \n",
       "1320                      0          0          0          0          0   \n",
       "1195                      0          0          0          0          0   \n",
       "986                       1          0          0          0          0   \n",
       "\n",
       "      Cluster_F  ...  Country_Wales  Type_Barley  Type_Blend  Type_Bourbon  \\\n",
       "1561          0  ...              0            0           0             1   \n",
       "212           0  ...              0            0           0             0   \n",
       "1684          0  ...              0            0           1             0   \n",
       "837           0  ...              0            0           0             0   \n",
       "1247          0  ...              0            0           1             0   \n",
       "...         ...  ...            ...          ...         ...           ...   \n",
       "1626          0  ...              0            0           0             1   \n",
       "1757          0  ...              0            0           0             1   \n",
       "1320          0  ...              0            0           0             0   \n",
       "1195          0  ...              0            0           1             0   \n",
       "986           0  ...              0            0           0             0   \n",
       "\n",
       "      Type_Flavoured  Type_Grain  Type_Malt  Type_Rye  Type_Wheat  \\\n",
       "1561               0           0          0         0           0   \n",
       "212                0           0          1         0           0   \n",
       "1684               0           0          0         0           0   \n",
       "837                0           0          1         0           0   \n",
       "1247               0           0          0         0           0   \n",
       "...              ...         ...        ...       ...         ...   \n",
       "1626               0           0          0         0           0   \n",
       "1757               0           0          0         0           0   \n",
       "1320               0           0          0         1           0   \n",
       "1195               0           0          0         0           0   \n",
       "986                0           0          1         0           0   \n",
       "\n",
       "      Type_Whiskey  \n",
       "1561             0  \n",
       "212              0  \n",
       "1684             0  \n",
       "837              0  \n",
       "1247             0  \n",
       "...            ...  \n",
       "1626             0  \n",
       "1757             0  \n",
       "1320             0  \n",
       "1195             0  \n",
       "986              0  \n",
       "\n",
       "[442 rows x 46 columns]"
      ]
     },
     "execution_count": 152,
     "metadata": {},
     "output_type": "execute_result"
    }
   ],
   "source": [
    "X_test"
   ]
  },
  {
   "cell_type": "markdown",
   "metadata": {},
   "source": [
    "So every model I've run has had some incorrect guesses. Perhaps there's a way to use these, as recommendations: whiskies that the model thinks are expensive (\"should be\" expensive) but are actually cheap."
   ]
  },
  {
   "cell_type": "code",
   "execution_count": 153,
   "metadata": {},
   "outputs": [],
   "source": [
    "X_train,X_test,y_train,y_test=train_test_split(X,y,test_size= 0.25, random_state=42)"
   ]
  },
  {
   "cell_type": "code",
   "execution_count": 154,
   "metadata": {},
   "outputs": [],
   "source": [
    "tree=DecisionTreeClassifier(criterion='entropy',max_depth=5,min_samples_split=10)"
   ]
  },
  {
   "cell_type": "code",
   "execution_count": 155,
   "metadata": {
    "scrolled": true
   },
   "outputs": [
    {
     "data": {
      "text/plain": [
       "DecisionTreeClassifier(criterion='entropy', max_depth=5, min_samples_split=10)"
      ]
     },
     "execution_count": 155,
     "metadata": {},
     "output_type": "execute_result"
    }
   ],
   "source": [
    "tree.fit(X_train,y_train)"
   ]
  },
  {
   "cell_type": "code",
   "execution_count": 156,
   "metadata": {},
   "outputs": [
    {
     "data": {
      "image/png": "[encoded data removed]",
      "text/plain": [
       "<Figure size 432x288 with 2 Axes>"
      ]
     },
     "metadata": {
      "needs_background": "light"
     },
     "output_type": "display_data"
    },
    {
     "name": "stdout",
     "output_type": "stream",
     "text": [
      "Train Scores:\n",
      "Accuracy: 0.847\n",
      "F1 Score: 0.734\n",
      "ROC-AUC: 0.898\n",
      "Test Scores:\n",
      "Accuracy: 0.808\n",
      "F1 Score: 0.656\n",
      "ROC-AUC: 0.814\n"
     ]
    }
   ],
   "source": [
    "evaluate_model(tree, X_train, X_test, y_train, y_test)"
   ]
  },
  {
   "cell_type": "code",
   "execution_count": 157,
   "metadata": {},
   "outputs": [],
   "source": [
    "tree_test_pred=tree.predict(X_test)"
   ]
  },
  {
   "cell_type": "code",
   "execution_count": 158,
   "metadata": {},
   "outputs": [],
   "source": [
    "tree_test_df=pd.DataFrame(y_test, columns=['actual'])"
   ]
  },
  {
   "cell_type": "code",
   "execution_count": 159,
   "metadata": {},
   "outputs": [],
   "source": [
    "tree_test_df['pred']=tree_test_pred"
   ]
  },
  {
   "cell_type": "code",
   "execution_count": 160,
   "metadata": {},
   "outputs": [
    {
     "data": {
      "text/html": [
       "<div>\n",
       "<style scoped>\n",
       "    .dataframe tbody tr th:only-of-type {\n",
       "        vertical-align: middle;\n",
       "    }\n",
       "\n",
       "    .dataframe tbody tr th {\n",
       "        vertical-align: top;\n",
       "    }\n",
       "\n",
       "    .dataframe thead th {\n",
       "        text-align: right;\n",
       "    }\n",
       "</style>\n",
       "<table border=\"1\" class=\"dataframe\">\n",
       "  <thead>\n",
       "    <tr style=\"text-align: right;\">\n",
       "      <th></th>\n",
       "      <th>actual</th>\n",
       "      <th>pred</th>\n",
       "    </tr>\n",
       "  </thead>\n",
       "  <tbody>\n",
       "    <tr>\n",
       "      <th>1559</th>\n",
       "      <td>0</td>\n",
       "      <td>1</td>\n",
       "    </tr>\n",
       "    <tr>\n",
       "      <th>212</th>\n",
       "      <td>0</td>\n",
       "      <td>0</td>\n",
       "    </tr>\n",
       "    <tr>\n",
       "      <th>1682</th>\n",
       "      <td>0</td>\n",
       "      <td>0</td>\n",
       "    </tr>\n",
       "    <tr>\n",
       "      <th>836</th>\n",
       "      <td>0</td>\n",
       "      <td>0</td>\n",
       "    </tr>\n",
       "    <tr>\n",
       "      <th>1245</th>\n",
       "      <td>0</td>\n",
       "      <td>0</td>\n",
       "    </tr>\n",
       "    <tr>\n",
       "      <th>...</th>\n",
       "      <td>...</td>\n",
       "      <td>...</td>\n",
       "    </tr>\n",
       "    <tr>\n",
       "      <th>1624</th>\n",
       "      <td>0</td>\n",
       "      <td>0</td>\n",
       "    </tr>\n",
       "    <tr>\n",
       "      <th>1755</th>\n",
       "      <td>0</td>\n",
       "      <td>0</td>\n",
       "    </tr>\n",
       "    <tr>\n",
       "      <th>1318</th>\n",
       "      <td>0</td>\n",
       "      <td>0</td>\n",
       "    </tr>\n",
       "    <tr>\n",
       "      <th>1193</th>\n",
       "      <td>0</td>\n",
       "      <td>0</td>\n",
       "    </tr>\n",
       "    <tr>\n",
       "      <th>985</th>\n",
       "      <td>0</td>\n",
       "      <td>0</td>\n",
       "    </tr>\n",
       "  </tbody>\n",
       "</table>\n",
       "<p>442 rows × 2 columns</p>\n",
       "</div>"
      ],
      "text/plain": [
       "      actual  pred\n",
       "1559       0     1\n",
       "212        0     0\n",
       "1682       0     0\n",
       "836        0     0\n",
       "1245       0     0\n",
       "...      ...   ...\n",
       "1624       0     0\n",
       "1755       0     0\n",
       "1318       0     0\n",
       "1193       0     0\n",
       "985        0     0\n",
       "\n",
       "[442 rows x 2 columns]"
      ]
     },
     "execution_count": 160,
     "metadata": {},
     "output_type": "execute_result"
    }
   ],
   "source": [
    "tree_test_df"
   ]
  },
  {
   "cell_type": "code",
   "execution_count": 161,
   "metadata": {},
   "outputs": [],
   "source": [
    "act_cheap=tree_test_df.loc[(tree_test_df.actual==0)&(tree_test_df.pred==1)]"
   ]
  },
  {
   "cell_type": "code",
   "execution_count": 162,
   "metadata": {},
   "outputs": [
    {
     "data": {
      "text/html": [
       "<div>\n",
       "<style scoped>\n",
       "    .dataframe tbody tr th:only-of-type {\n",
       "        vertical-align: middle;\n",
       "    }\n",
       "\n",
       "    .dataframe tbody tr th {\n",
       "        vertical-align: top;\n",
       "    }\n",
       "\n",
       "    .dataframe thead th {\n",
       "        text-align: right;\n",
       "    }\n",
       "</style>\n",
       "<table border=\"1\" class=\"dataframe\">\n",
       "  <thead>\n",
       "    <tr style=\"text-align: right;\">\n",
       "      <th></th>\n",
       "      <th>actual</th>\n",
       "      <th>pred</th>\n",
       "    </tr>\n",
       "  </thead>\n",
       "  <tbody>\n",
       "    <tr>\n",
       "      <th>1559</th>\n",
       "      <td>0</td>\n",
       "      <td>1</td>\n",
       "    </tr>\n",
       "    <tr>\n",
       "      <th>251</th>\n",
       "      <td>0</td>\n",
       "      <td>1</td>\n",
       "    </tr>\n",
       "    <tr>\n",
       "      <th>65</th>\n",
       "      <td>0</td>\n",
       "      <td>1</td>\n",
       "    </tr>\n",
       "    <tr>\n",
       "      <th>901</th>\n",
       "      <td>0</td>\n",
       "      <td>1</td>\n",
       "    </tr>\n",
       "    <tr>\n",
       "      <th>1196</th>\n",
       "      <td>0</td>\n",
       "      <td>1</td>\n",
       "    </tr>\n",
       "    <tr>\n",
       "      <th>1581</th>\n",
       "      <td>0</td>\n",
       "      <td>1</td>\n",
       "    </tr>\n",
       "    <tr>\n",
       "      <th>1357</th>\n",
       "      <td>0</td>\n",
       "      <td>1</td>\n",
       "    </tr>\n",
       "    <tr>\n",
       "      <th>755</th>\n",
       "      <td>0</td>\n",
       "      <td>1</td>\n",
       "    </tr>\n",
       "    <tr>\n",
       "      <th>49</th>\n",
       "      <td>0</td>\n",
       "      <td>1</td>\n",
       "    </tr>\n",
       "    <tr>\n",
       "      <th>1569</th>\n",
       "      <td>0</td>\n",
       "      <td>1</td>\n",
       "    </tr>\n",
       "    <tr>\n",
       "      <th>76</th>\n",
       "      <td>0</td>\n",
       "      <td>1</td>\n",
       "    </tr>\n",
       "    <tr>\n",
       "      <th>1365</th>\n",
       "      <td>0</td>\n",
       "      <td>1</td>\n",
       "    </tr>\n",
       "    <tr>\n",
       "      <th>99</th>\n",
       "      <td>0</td>\n",
       "      <td>1</td>\n",
       "    </tr>\n",
       "    <tr>\n",
       "      <th>1323</th>\n",
       "      <td>0</td>\n",
       "      <td>1</td>\n",
       "    </tr>\n",
       "    <tr>\n",
       "      <th>1614</th>\n",
       "      <td>0</td>\n",
       "      <td>1</td>\n",
       "    </tr>\n",
       "    <tr>\n",
       "      <th>1360</th>\n",
       "      <td>0</td>\n",
       "      <td>1</td>\n",
       "    </tr>\n",
       "    <tr>\n",
       "      <th>289</th>\n",
       "      <td>0</td>\n",
       "      <td>1</td>\n",
       "    </tr>\n",
       "    <tr>\n",
       "      <th>433</th>\n",
       "      <td>0</td>\n",
       "      <td>1</td>\n",
       "    </tr>\n",
       "    <tr>\n",
       "      <th>51</th>\n",
       "      <td>0</td>\n",
       "      <td>1</td>\n",
       "    </tr>\n",
       "    <tr>\n",
       "      <th>1563</th>\n",
       "      <td>0</td>\n",
       "      <td>1</td>\n",
       "    </tr>\n",
       "    <tr>\n",
       "      <th>1087</th>\n",
       "      <td>0</td>\n",
       "      <td>1</td>\n",
       "    </tr>\n",
       "    <tr>\n",
       "      <th>1055</th>\n",
       "      <td>0</td>\n",
       "      <td>1</td>\n",
       "    </tr>\n",
       "    <tr>\n",
       "      <th>1587</th>\n",
       "      <td>0</td>\n",
       "      <td>1</td>\n",
       "    </tr>\n",
       "    <tr>\n",
       "      <th>1377</th>\n",
       "      <td>0</td>\n",
       "      <td>1</td>\n",
       "    </tr>\n",
       "    <tr>\n",
       "      <th>1052</th>\n",
       "      <td>0</td>\n",
       "      <td>1</td>\n",
       "    </tr>\n",
       "    <tr>\n",
       "      <th>1125</th>\n",
       "      <td>0</td>\n",
       "      <td>1</td>\n",
       "    </tr>\n",
       "    <tr>\n",
       "      <th>543</th>\n",
       "      <td>0</td>\n",
       "      <td>1</td>\n",
       "    </tr>\n",
       "    <tr>\n",
       "      <th>1182</th>\n",
       "      <td>0</td>\n",
       "      <td>1</td>\n",
       "    </tr>\n",
       "    <tr>\n",
       "      <th>1083</th>\n",
       "      <td>0</td>\n",
       "      <td>1</td>\n",
       "    </tr>\n",
       "    <tr>\n",
       "      <th>1342</th>\n",
       "      <td>0</td>\n",
       "      <td>1</td>\n",
       "    </tr>\n",
       "    <tr>\n",
       "      <th>1604</th>\n",
       "      <td>0</td>\n",
       "      <td>1</td>\n",
       "    </tr>\n",
       "  </tbody>\n",
       "</table>\n",
       "</div>"
      ],
      "text/plain": [
       "      actual  pred\n",
       "1559       0     1\n",
       "251        0     1\n",
       "65         0     1\n",
       "901        0     1\n",
       "1196       0     1\n",
       "1581       0     1\n",
       "1357       0     1\n",
       "755        0     1\n",
       "49         0     1\n",
       "1569       0     1\n",
       "76         0     1\n",
       "1365       0     1\n",
       "99         0     1\n",
       "1323       0     1\n",
       "1614       0     1\n",
       "1360       0     1\n",
       "289        0     1\n",
       "433        0     1\n",
       "51         0     1\n",
       "1563       0     1\n",
       "1087       0     1\n",
       "1055       0     1\n",
       "1587       0     1\n",
       "1377       0     1\n",
       "1052       0     1\n",
       "1125       0     1\n",
       "543        0     1\n",
       "1182       0     1\n",
       "1083       0     1\n",
       "1342       0     1\n",
       "1604       0     1"
      ]
     },
     "execution_count": 162,
     "metadata": {},
     "output_type": "execute_result"
    }
   ],
   "source": [
    "act_cheap"
   ]
  },
  {
   "cell_type": "markdown",
   "metadata": {},
   "source": [
    "I have to go back to df1 for the names. So I can iterate over the index in my cheap dataframe and grab some names."
   ]
  },
  {
   "cell_type": "code",
   "execution_count": 163,
   "metadata": {
    "scrolled": true
   },
   "outputs": [
    {
     "data": {
      "text/html": [
       "<div>\n",
       "<style scoped>\n",
       "    .dataframe tbody tr th:only-of-type {\n",
       "        vertical-align: middle;\n",
       "    }\n",
       "\n",
       "    .dataframe tbody tr th {\n",
       "        vertical-align: top;\n",
       "    }\n",
       "\n",
       "    .dataframe thead th {\n",
       "        text-align: right;\n",
       "    }\n",
       "</style>\n",
       "<table border=\"1\" class=\"dataframe\">\n",
       "  <thead>\n",
       "    <tr style=\"text-align: right;\">\n",
       "      <th></th>\n",
       "      <th>Whisky</th>\n",
       "      <th>Meta Critic</th>\n",
       "      <th>STDEV</th>\n",
       "      <th>#</th>\n",
       "      <th>Class</th>\n",
       "      <th>Cluster</th>\n",
       "      <th>Country</th>\n",
       "      <th>Type</th>\n",
       "    </tr>\n",
       "  </thead>\n",
       "  <tbody>\n",
       "    <tr>\n",
       "      <th>0</th>\n",
       "      <td>Macallan 10yo Full Proof 57% 1980 (OB, Giovine...</td>\n",
       "      <td>9.57</td>\n",
       "      <td>0.24</td>\n",
       "      <td>3</td>\n",
       "      <td>SingleMalt-like</td>\n",
       "      <td>A</td>\n",
       "      <td>Scotland</td>\n",
       "      <td>Malt</td>\n",
       "    </tr>\n",
       "    <tr>\n",
       "      <th>1</th>\n",
       "      <td>Ledaig 42yo Dusgadh</td>\n",
       "      <td>9.48</td>\n",
       "      <td>0.23</td>\n",
       "      <td>3</td>\n",
       "      <td>SingleMalt-like</td>\n",
       "      <td>C</td>\n",
       "      <td>Scotland</td>\n",
       "      <td>Malt</td>\n",
       "    </tr>\n",
       "    <tr>\n",
       "      <th>2</th>\n",
       "      <td>Laphroaig 27yo 57.4% 1980-2007 (OB, 5 Oloroso ...</td>\n",
       "      <td>9.42</td>\n",
       "      <td>0.23</td>\n",
       "      <td>4</td>\n",
       "      <td>SingleMalt-like</td>\n",
       "      <td>C</td>\n",
       "      <td>Scotland</td>\n",
       "      <td>Malt</td>\n",
       "    </tr>\n",
       "    <tr>\n",
       "      <th>3</th>\n",
       "      <td>Glenfarclas 40yo</td>\n",
       "      <td>9.29</td>\n",
       "      <td>0.26</td>\n",
       "      <td>17</td>\n",
       "      <td>SingleMalt-like</td>\n",
       "      <td>A</td>\n",
       "      <td>Scotland</td>\n",
       "      <td>Malt</td>\n",
       "    </tr>\n",
       "    <tr>\n",
       "      <th>4</th>\n",
       "      <td>Glengoyne 25yo</td>\n",
       "      <td>9.24</td>\n",
       "      <td>0.22</td>\n",
       "      <td>21</td>\n",
       "      <td>SingleMalt-like</td>\n",
       "      <td>A</td>\n",
       "      <td>Scotland</td>\n",
       "      <td>Malt</td>\n",
       "    </tr>\n",
       "  </tbody>\n",
       "</table>\n",
       "</div>"
      ],
      "text/plain": [
       "                                              Whisky Meta Critic STDEV   #  \\\n",
       "0  Macallan 10yo Full Proof 57% 1980 (OB, Giovine...        9.57  0.24   3   \n",
       "1                                Ledaig 42yo Dusgadh        9.48  0.23   3   \n",
       "2  Laphroaig 27yo 57.4% 1980-2007 (OB, 5 Oloroso ...        9.42  0.23   4   \n",
       "3                                   Glenfarclas 40yo        9.29  0.26  17   \n",
       "4                                     Glengoyne 25yo        9.24  0.22  21   \n",
       "\n",
       "             Class Cluster   Country  Type  \n",
       "0  SingleMalt-like       A  Scotland  Malt  \n",
       "1  SingleMalt-like       C  Scotland  Malt  \n",
       "2  SingleMalt-like       C  Scotland  Malt  \n",
       "3  SingleMalt-like       A  Scotland  Malt  \n",
       "4  SingleMalt-like       A  Scotland  Malt  "
      ]
     },
     "execution_count": 163,
     "metadata": {},
     "output_type": "execute_result"
    }
   ],
   "source": [
    "df1.head()"
   ]
  },
  {
   "cell_type": "code",
   "execution_count": 164,
   "metadata": {
    "scrolled": true
   },
   "outputs": [
    {
     "name": "stderr",
     "output_type": "stream",
     "text": [
      "D:\\anaconda3\\envs\\learn-env\\lib\\site-packages\\ipykernel_launcher.py:1: SettingWithCopyWarning: \n",
      "A value is trying to be set on a copy of a slice from a DataFrame.\n",
      "Try using .loc[row_indexer,col_indexer] = value instead\n",
      "\n",
      "See the caveats in the documentation: https://pandas.pydata.org/pandas-docs/stable/user_guide/indexing.html#returning-a-view-versus-a-copy\n",
      "  \"\"\"Entry point for launching an IPython kernel.\n"
     ]
    }
   ],
   "source": [
    "act_cheap['name']='Unknown'"
   ]
  },
  {
   "cell_type": "code",
   "execution_count": 165,
   "metadata": {},
   "outputs": [
    {
     "data": {
      "text/html": [
       "<div>\n",
       "<style scoped>\n",
       "    .dataframe tbody tr th:only-of-type {\n",
       "        vertical-align: middle;\n",
       "    }\n",
       "\n",
       "    .dataframe tbody tr th {\n",
       "        vertical-align: top;\n",
       "    }\n",
       "\n",
       "    .dataframe thead th {\n",
       "        text-align: right;\n",
       "    }\n",
       "</style>\n",
       "<table border=\"1\" class=\"dataframe\">\n",
       "  <thead>\n",
       "    <tr style=\"text-align: right;\">\n",
       "      <th></th>\n",
       "      <th>actual</th>\n",
       "      <th>pred</th>\n",
       "      <th>name</th>\n",
       "    </tr>\n",
       "  </thead>\n",
       "  <tbody>\n",
       "    <tr>\n",
       "      <th>1559</th>\n",
       "      <td>0</td>\n",
       "      <td>1</td>\n",
       "      <td>Unknown</td>\n",
       "    </tr>\n",
       "    <tr>\n",
       "      <th>251</th>\n",
       "      <td>0</td>\n",
       "      <td>1</td>\n",
       "      <td>Unknown</td>\n",
       "    </tr>\n",
       "    <tr>\n",
       "      <th>65</th>\n",
       "      <td>0</td>\n",
       "      <td>1</td>\n",
       "      <td>Unknown</td>\n",
       "    </tr>\n",
       "    <tr>\n",
       "      <th>901</th>\n",
       "      <td>0</td>\n",
       "      <td>1</td>\n",
       "      <td>Unknown</td>\n",
       "    </tr>\n",
       "    <tr>\n",
       "      <th>1196</th>\n",
       "      <td>0</td>\n",
       "      <td>1</td>\n",
       "      <td>Unknown</td>\n",
       "    </tr>\n",
       "    <tr>\n",
       "      <th>1581</th>\n",
       "      <td>0</td>\n",
       "      <td>1</td>\n",
       "      <td>Unknown</td>\n",
       "    </tr>\n",
       "    <tr>\n",
       "      <th>1357</th>\n",
       "      <td>0</td>\n",
       "      <td>1</td>\n",
       "      <td>Unknown</td>\n",
       "    </tr>\n",
       "    <tr>\n",
       "      <th>755</th>\n",
       "      <td>0</td>\n",
       "      <td>1</td>\n",
       "      <td>Unknown</td>\n",
       "    </tr>\n",
       "    <tr>\n",
       "      <th>49</th>\n",
       "      <td>0</td>\n",
       "      <td>1</td>\n",
       "      <td>Unknown</td>\n",
       "    </tr>\n",
       "    <tr>\n",
       "      <th>1569</th>\n",
       "      <td>0</td>\n",
       "      <td>1</td>\n",
       "      <td>Unknown</td>\n",
       "    </tr>\n",
       "    <tr>\n",
       "      <th>76</th>\n",
       "      <td>0</td>\n",
       "      <td>1</td>\n",
       "      <td>Unknown</td>\n",
       "    </tr>\n",
       "    <tr>\n",
       "      <th>1365</th>\n",
       "      <td>0</td>\n",
       "      <td>1</td>\n",
       "      <td>Unknown</td>\n",
       "    </tr>\n",
       "    <tr>\n",
       "      <th>99</th>\n",
       "      <td>0</td>\n",
       "      <td>1</td>\n",
       "      <td>Unknown</td>\n",
       "    </tr>\n",
       "    <tr>\n",
       "      <th>1323</th>\n",
       "      <td>0</td>\n",
       "      <td>1</td>\n",
       "      <td>Unknown</td>\n",
       "    </tr>\n",
       "    <tr>\n",
       "      <th>1614</th>\n",
       "      <td>0</td>\n",
       "      <td>1</td>\n",
       "      <td>Unknown</td>\n",
       "    </tr>\n",
       "    <tr>\n",
       "      <th>1360</th>\n",
       "      <td>0</td>\n",
       "      <td>1</td>\n",
       "      <td>Unknown</td>\n",
       "    </tr>\n",
       "    <tr>\n",
       "      <th>289</th>\n",
       "      <td>0</td>\n",
       "      <td>1</td>\n",
       "      <td>Unknown</td>\n",
       "    </tr>\n",
       "    <tr>\n",
       "      <th>433</th>\n",
       "      <td>0</td>\n",
       "      <td>1</td>\n",
       "      <td>Unknown</td>\n",
       "    </tr>\n",
       "    <tr>\n",
       "      <th>51</th>\n",
       "      <td>0</td>\n",
       "      <td>1</td>\n",
       "      <td>Unknown</td>\n",
       "    </tr>\n",
       "    <tr>\n",
       "      <th>1563</th>\n",
       "      <td>0</td>\n",
       "      <td>1</td>\n",
       "      <td>Unknown</td>\n",
       "    </tr>\n",
       "    <tr>\n",
       "      <th>1087</th>\n",
       "      <td>0</td>\n",
       "      <td>1</td>\n",
       "      <td>Unknown</td>\n",
       "    </tr>\n",
       "    <tr>\n",
       "      <th>1055</th>\n",
       "      <td>0</td>\n",
       "      <td>1</td>\n",
       "      <td>Unknown</td>\n",
       "    </tr>\n",
       "    <tr>\n",
       "      <th>1587</th>\n",
       "      <td>0</td>\n",
       "      <td>1</td>\n",
       "      <td>Unknown</td>\n",
       "    </tr>\n",
       "    <tr>\n",
       "      <th>1377</th>\n",
       "      <td>0</td>\n",
       "      <td>1</td>\n",
       "      <td>Unknown</td>\n",
       "    </tr>\n",
       "    <tr>\n",
       "      <th>1052</th>\n",
       "      <td>0</td>\n",
       "      <td>1</td>\n",
       "      <td>Unknown</td>\n",
       "    </tr>\n",
       "    <tr>\n",
       "      <th>1125</th>\n",
       "      <td>0</td>\n",
       "      <td>1</td>\n",
       "      <td>Unknown</td>\n",
       "    </tr>\n",
       "    <tr>\n",
       "      <th>543</th>\n",
       "      <td>0</td>\n",
       "      <td>1</td>\n",
       "      <td>Unknown</td>\n",
       "    </tr>\n",
       "    <tr>\n",
       "      <th>1182</th>\n",
       "      <td>0</td>\n",
       "      <td>1</td>\n",
       "      <td>Unknown</td>\n",
       "    </tr>\n",
       "    <tr>\n",
       "      <th>1083</th>\n",
       "      <td>0</td>\n",
       "      <td>1</td>\n",
       "      <td>Unknown</td>\n",
       "    </tr>\n",
       "    <tr>\n",
       "      <th>1342</th>\n",
       "      <td>0</td>\n",
       "      <td>1</td>\n",
       "      <td>Unknown</td>\n",
       "    </tr>\n",
       "    <tr>\n",
       "      <th>1604</th>\n",
       "      <td>0</td>\n",
       "      <td>1</td>\n",
       "      <td>Unknown</td>\n",
       "    </tr>\n",
       "  </tbody>\n",
       "</table>\n",
       "</div>"
      ],
      "text/plain": [
       "      actual  pred     name\n",
       "1559       0     1  Unknown\n",
       "251        0     1  Unknown\n",
       "65         0     1  Unknown\n",
       "901        0     1  Unknown\n",
       "1196       0     1  Unknown\n",
       "1581       0     1  Unknown\n",
       "1357       0     1  Unknown\n",
       "755        0     1  Unknown\n",
       "49         0     1  Unknown\n",
       "1569       0     1  Unknown\n",
       "76         0     1  Unknown\n",
       "1365       0     1  Unknown\n",
       "99         0     1  Unknown\n",
       "1323       0     1  Unknown\n",
       "1614       0     1  Unknown\n",
       "1360       0     1  Unknown\n",
       "289        0     1  Unknown\n",
       "433        0     1  Unknown\n",
       "51         0     1  Unknown\n",
       "1563       0     1  Unknown\n",
       "1087       0     1  Unknown\n",
       "1055       0     1  Unknown\n",
       "1587       0     1  Unknown\n",
       "1377       0     1  Unknown\n",
       "1052       0     1  Unknown\n",
       "1125       0     1  Unknown\n",
       "543        0     1  Unknown\n",
       "1182       0     1  Unknown\n",
       "1083       0     1  Unknown\n",
       "1342       0     1  Unknown\n",
       "1604       0     1  Unknown"
      ]
     },
     "execution_count": 165,
     "metadata": {},
     "output_type": "execute_result"
    }
   ],
   "source": [
    "act_cheap"
   ]
  },
  {
   "cell_type": "code",
   "execution_count": 166,
   "metadata": {},
   "outputs": [],
   "source": [
    "for i in act_cheap['name'].index:\n",
    "    act_cheap.at[i,'name']=df1.at[i,'Whisky']"
   ]
  },
  {
   "cell_type": "code",
   "execution_count": 167,
   "metadata": {},
   "outputs": [
    {
     "data": {
      "text/html": [
       "<div>\n",
       "<style scoped>\n",
       "    .dataframe tbody tr th:only-of-type {\n",
       "        vertical-align: middle;\n",
       "    }\n",
       "\n",
       "    .dataframe tbody tr th {\n",
       "        vertical-align: top;\n",
       "    }\n",
       "\n",
       "    .dataframe thead th {\n",
       "        text-align: right;\n",
       "    }\n",
       "</style>\n",
       "<table border=\"1\" class=\"dataframe\">\n",
       "  <thead>\n",
       "    <tr style=\"text-align: right;\">\n",
       "      <th></th>\n",
       "      <th>actual</th>\n",
       "      <th>pred</th>\n",
       "      <th>name</th>\n",
       "    </tr>\n",
       "  </thead>\n",
       "  <tbody>\n",
       "    <tr>\n",
       "      <th>1559</th>\n",
       "      <td>0</td>\n",
       "      <td>1</td>\n",
       "      <td>Parker’s Heritage 5th 10yo Cognac Barrel Finished</td>\n",
       "    </tr>\n",
       "    <tr>\n",
       "      <th>251</th>\n",
       "      <td>0</td>\n",
       "      <td>1</td>\n",
       "      <td>Aberfeldy 18yo</td>\n",
       "    </tr>\n",
       "    <tr>\n",
       "      <th>65</th>\n",
       "      <td>0</td>\n",
       "      <td>1</td>\n",
       "      <td>BenRiach 17yo Solstice 2nd Peated Port Finish</td>\n",
       "    </tr>\n",
       "    <tr>\n",
       "      <th>901</th>\n",
       "      <td>0</td>\n",
       "      <td>1</td>\n",
       "      <td>Bruichladdich Port Charlotte PC10 Tro Na Linntean</td>\n",
       "    </tr>\n",
       "    <tr>\n",
       "      <th>1196</th>\n",
       "      <td>0</td>\n",
       "      <td>1</td>\n",
       "      <td>Whyte &amp; Mackay 30yo</td>\n",
       "    </tr>\n",
       "    <tr>\n",
       "      <th>1581</th>\n",
       "      <td>0</td>\n",
       "      <td>1</td>\n",
       "      <td>Willett Family Estate 17yo Bourbon</td>\n",
       "    </tr>\n",
       "    <tr>\n",
       "      <th>1357</th>\n",
       "      <td>0</td>\n",
       "      <td>1</td>\n",
       "      <td>J.P. Wiser's Union 52</td>\n",
       "    </tr>\n",
       "    <tr>\n",
       "      <th>755</th>\n",
       "      <td>0</td>\n",
       "      <td>1</td>\n",
       "      <td>Glen Grant 10yo (G&amp;M)</td>\n",
       "    </tr>\n",
       "    <tr>\n",
       "      <th>49</th>\n",
       "      <td>0</td>\n",
       "      <td>1</td>\n",
       "      <td>BenRiach 17yo Solstice Peated Port (both editi...</td>\n",
       "    </tr>\n",
       "    <tr>\n",
       "      <th>1569</th>\n",
       "      <td>0</td>\n",
       "      <td>1</td>\n",
       "      <td>Stagg Jr batch 5 (129.7 proof)</td>\n",
       "    </tr>\n",
       "  </tbody>\n",
       "</table>\n",
       "</div>"
      ],
      "text/plain": [
       "      actual  pred                                               name\n",
       "1559       0     1  Parker’s Heritage 5th 10yo Cognac Barrel Finished\n",
       "251        0     1                                     Aberfeldy 18yo\n",
       "65         0     1      BenRiach 17yo Solstice 2nd Peated Port Finish\n",
       "901        0     1  Bruichladdich Port Charlotte PC10 Tro Na Linntean\n",
       "1196       0     1                                Whyte & Mackay 30yo\n",
       "1581       0     1                 Willett Family Estate 17yo Bourbon\n",
       "1357       0     1                              J.P. Wiser's Union 52\n",
       "755        0     1                              Glen Grant 10yo (G&M)\n",
       "49         0     1  BenRiach 17yo Solstice Peated Port (both editi...\n",
       "1569       0     1                     Stagg Jr batch 5 (129.7 proof)"
      ]
     },
     "execution_count": 167,
     "metadata": {},
     "output_type": "execute_result"
    }
   ],
   "source": [
    "act_cheap.head(10)"
   ]
  },
  {
   "cell_type": "markdown",
   "metadata": {},
   "source": [
    "# Conclusion"
   ]
  },
  {
   "cell_type": "markdown",
   "metadata": {},
   "source": [
    "There are a few models here that have some serious potential and could really work in predicting the expensiveness of a bottle of whisky. All in all, I'm pretty satisfied with how this turned out. I think there's still a lot to play with and explore to get the models better, perhaps some research to eliminate the unknown cluster."
   ]
  }
 ],
 "metadata": {
  "kernelspec": {
   "display_name": "Python 3",
   "language": "python",
   "name": "python3"
  },
  "language_info": {
   "codemirror_mode": {
    "name": "ipython",
    "version": 3
   },
   "file_extension": ".py",
   "mimetype": "text/x-python",
   "name": "python",
   "nbconvert_exporter": "python",
   "pygments_lexer": "ipython3",
   "version": "3.6.9"
  }
 },
 "nbformat": 4,
 "nbformat_minor": 4
}
